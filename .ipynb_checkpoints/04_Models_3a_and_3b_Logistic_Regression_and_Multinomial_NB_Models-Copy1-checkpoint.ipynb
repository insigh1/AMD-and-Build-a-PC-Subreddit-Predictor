{
 "cells": [
  {
   "cell_type": "markdown",
   "metadata": {},
   "source": [
    "## Models 3a and 3b: Gridsearch Multinomial Naive Bayes and Logistic Regression\n",
    "#### Credit to Aiden Curley for assistance"
   ]
  },
  {
   "cell_type": "markdown",
   "metadata": {
    "execution": {
     "iopub.execute_input": "2020-08-25T17:23:51.970225Z",
     "iopub.status.busy": "2020-08-25T17:23:51.970068Z",
     "iopub.status.idle": "2020-08-25T17:23:51.972414Z",
     "shell.execute_reply": "2020-08-25T17:23:51.972000Z",
     "shell.execute_reply.started": "2020-08-25T17:23:51.970201Z"
    }
   },
   "source": [
    "<a name=\"contents\"></a>\n",
    "- [Contents](#contents)  \n",
    "    - [Imports](#imports)  \n",
    "    - [Data Cleaning](#cleaning)  \n",
    "    - [Grid Search with Logistic Regression and Multinomial Naive Bayes](#gridsearch)  \n",
    "    - [Grid Search Best Parameters](#gridsearch_params)  \n",
    "    - [Model 3a: Gridsearch Naive Bayes Scores](#nb_score)  \n",
    "    - [Model 3a Confusion Matrix](#nb_visual) \n",
    "    - [Model 3b: Gridsearch Logistic Regression Scores](#lr_score) \n",
    "    - [Model 3b Confusion Matrix](#lr_visual) \n",
    "    - [Model Score Comparisons](#Model_Compare) \n"
   ]
  },
  {
   "cell_type": "markdown",
   "metadata": {},
   "source": [
    "<a name=\"imports\"></a>\n",
    "- [Back to Contents](#contents)\n",
    "## Imports"
   ]
  },
  {
   "cell_type": "code",
   "execution_count": 1,
   "metadata": {
    "execution": {
     "iopub.execute_input": "2020-08-28T12:27:42.707486Z",
     "iopub.status.busy": "2020-08-28T12:27:42.707273Z",
     "iopub.status.idle": "2020-08-28T12:27:43.804289Z",
     "shell.execute_reply": "2020-08-28T12:27:43.803865Z",
     "shell.execute_reply.started": "2020-08-28T12:27:42.707461Z"
    }
   },
   "outputs": [],
   "source": [
    "# Import Libraries\n",
    "import pandas as pd\n",
    "import matplotlib.pyplot as plt\n",
    "import numpy as np\n",
    "import seaborn as sns\n",
    "import re\n",
    "import nltk\n",
    "from nltk.stem import WordNetLemmatizer\n",
    "from nltk.tokenize import RegexpTokenizer\n",
    "from sklearn.model_selection import train_test_split, GridSearchCV\n",
    "from nltk.corpus import stopwords\n",
    "from sklearn.feature_extraction.text import CountVectorizer\n",
    "from sklearn.linear_model import LogisticRegression\n",
    "from sklearn.metrics import confusion_matrix, plot_confusion_matrix\n",
    "from sklearn.pipeline import Pipeline\n",
    "from sklearn.naive_bayes import MultinomialNB\n",
    "\n"
   ]
  },
  {
   "cell_type": "code",
   "execution_count": 2,
   "metadata": {
    "execution": {
     "iopub.execute_input": "2020-08-28T12:27:43.804916Z",
     "iopub.status.busy": "2020-08-28T12:27:43.804826Z",
     "iopub.status.idle": "2020-08-28T12:27:44.617129Z",
     "shell.execute_reply": "2020-08-28T12:27:44.616732Z",
     "shell.execute_reply.started": "2020-08-28T12:27:43.804904Z"
    }
   },
   "outputs": [],
   "source": [
    "amd = pd.read_csv('./Data/amd_big.csv')\n",
    "buildpc = pd.read_csv('./Data/build_pc_big.csv')"
   ]
  },
  {
   "cell_type": "markdown",
   "metadata": {
    "execution": {
     "iopub.execute_input": "2020-08-25T17:23:53.225987Z",
     "iopub.status.busy": "2020-08-25T17:23:53.225891Z",
     "iopub.status.idle": "2020-08-25T17:23:53.232371Z",
     "shell.execute_reply": "2020-08-25T17:23:53.232051Z",
     "shell.execute_reply.started": "2020-08-25T17:23:53.225973Z"
    }
   },
   "source": [
    "<a name=\"cleaning\"></a>\n",
    "- [Back to Contents](#contents)\n",
    "## Data Cleaning"
   ]
  },
  {
   "cell_type": "code",
   "execution_count": 3,
   "metadata": {
    "execution": {
     "iopub.execute_input": "2020-08-28T12:27:44.617843Z",
     "iopub.status.busy": "2020-08-28T12:27:44.617737Z",
     "iopub.status.idle": "2020-08-28T12:27:44.634957Z",
     "shell.execute_reply": "2020-08-28T12:27:44.634573Z",
     "shell.execute_reply.started": "2020-08-28T12:27:44.617831Z"
    }
   },
   "outputs": [],
   "source": [
    "# Drop unneccesary columns\n",
    "amd.drop(columns='Unnamed: 0', inplace=True)\n",
    "buildpc.drop(columns='Unnamed: 0', inplace=True)"
   ]
  },
  {
   "cell_type": "code",
   "execution_count": 4,
   "metadata": {
    "execution": {
     "iopub.execute_input": "2020-08-28T12:27:44.635615Z",
     "iopub.status.busy": "2020-08-28T12:27:44.635505Z",
     "iopub.status.idle": "2020-08-28T12:27:44.642162Z",
     "shell.execute_reply": "2020-08-28T12:27:44.641772Z",
     "shell.execute_reply.started": "2020-08-28T12:27:44.635602Z"
    }
   },
   "outputs": [
    {
     "data": {
      "text/html": [
       "<div>\n",
       "<style scoped>\n",
       "    .dataframe tbody tr th:only-of-type {\n",
       "        vertical-align: middle;\n",
       "    }\n",
       "\n",
       "    .dataframe tbody tr th {\n",
       "        vertical-align: top;\n",
       "    }\n",
       "\n",
       "    .dataframe thead th {\n",
       "        text-align: right;\n",
       "    }\n",
       "</style>\n",
       "<table border=\"1\" class=\"dataframe\">\n",
       "  <thead>\n",
       "    <tr style=\"text-align: right;\">\n",
       "      <th></th>\n",
       "      <th>subreddit</th>\n",
       "      <th>title</th>\n",
       "      <th>selftext</th>\n",
       "    </tr>\n",
       "  </thead>\n",
       "  <tbody>\n",
       "    <tr>\n",
       "      <th>0</th>\n",
       "      <td>buildapc</td>\n",
       "      <td>Windows 10</td>\n",
       "      <td>Hey guys just finished my build not able to ge...</td>\n",
       "    </tr>\n",
       "    <tr>\n",
       "      <th>1</th>\n",
       "      <td>buildapc</td>\n",
       "      <td>Is there a somewhat reasonably priced GPU that...</td>\n",
       "      <td>I have been rocking a Vega blower for a couple...</td>\n",
       "    </tr>\n",
       "  </tbody>\n",
       "</table>\n",
       "</div>"
      ],
      "text/plain": [
       "  subreddit                                              title  \\\n",
       "0  buildapc                                         Windows 10   \n",
       "1  buildapc  Is there a somewhat reasonably priced GPU that...   \n",
       "\n",
       "                                            selftext  \n",
       "0  Hey guys just finished my build not able to ge...  \n",
       "1  I have been rocking a Vega blower for a couple...  "
      ]
     },
     "execution_count": 4,
     "metadata": {},
     "output_type": "execute_result"
    }
   ],
   "source": [
    "buildpc.head(2)"
   ]
  },
  {
   "cell_type": "code",
   "execution_count": 5,
   "metadata": {
    "execution": {
     "iopub.execute_input": "2020-08-28T12:27:44.642866Z",
     "iopub.status.busy": "2020-08-28T12:27:44.642671Z",
     "iopub.status.idle": "2020-08-28T12:27:44.645558Z",
     "shell.execute_reply": "2020-08-28T12:27:44.645177Z",
     "shell.execute_reply.started": "2020-08-28T12:27:44.642848Z"
    }
   },
   "outputs": [
    {
     "data": {
      "text/plain": [
       "109740"
      ]
     },
     "execution_count": 5,
     "metadata": {},
     "output_type": "execute_result"
    }
   ],
   "source": [
    "# Resize the data to have the same number of posts for each category\n",
    "amd.shape[0]"
   ]
  },
  {
   "cell_type": "code",
   "execution_count": 6,
   "metadata": {
    "execution": {
     "iopub.execute_input": "2020-08-28T12:27:44.646297Z",
     "iopub.status.busy": "2020-08-28T12:27:44.646107Z",
     "iopub.status.idle": "2020-08-28T12:27:44.649174Z",
     "shell.execute_reply": "2020-08-28T12:27:44.648732Z",
     "shell.execute_reply.started": "2020-08-28T12:27:44.646280Z"
    }
   },
   "outputs": [
    {
     "data": {
      "text/plain": [
       "-585"
      ]
     },
     "execution_count": 6,
     "metadata": {},
     "output_type": "execute_result"
    }
   ],
   "source": [
    "amd.shape[0] - buildpc.shape[0]"
   ]
  },
  {
   "cell_type": "code",
   "execution_count": 7,
   "metadata": {
    "execution": {
     "iopub.execute_input": "2020-08-28T12:27:44.650931Z",
     "iopub.status.busy": "2020-08-28T12:27:44.650692Z",
     "iopub.status.idle": "2020-08-28T12:27:44.653569Z",
     "shell.execute_reply": "2020-08-28T12:27:44.653260Z",
     "shell.execute_reply.started": "2020-08-28T12:27:44.650908Z"
    }
   },
   "outputs": [
    {
     "data": {
      "text/plain": [
       "(109740, 3)"
      ]
     },
     "execution_count": 7,
     "metadata": {},
     "output_type": "execute_result"
    }
   ],
   "source": [
    "buildpc = buildpc[:-585]\n",
    "buildpc.shape"
   ]
  },
  {
   "cell_type": "code",
   "execution_count": 8,
   "metadata": {
    "execution": {
     "iopub.execute_input": "2020-08-28T12:27:44.654680Z",
     "iopub.status.busy": "2020-08-28T12:27:44.654532Z",
     "iopub.status.idle": "2020-08-28T12:27:44.660035Z",
     "shell.execute_reply": "2020-08-28T12:27:44.659769Z",
     "shell.execute_reply.started": "2020-08-28T12:27:44.654661Z"
    }
   },
   "outputs": [
    {
     "data": {
      "text/html": [
       "<div>\n",
       "<style scoped>\n",
       "    .dataframe tbody tr th:only-of-type {\n",
       "        vertical-align: middle;\n",
       "    }\n",
       "\n",
       "    .dataframe tbody tr th {\n",
       "        vertical-align: top;\n",
       "    }\n",
       "\n",
       "    .dataframe thead th {\n",
       "        text-align: right;\n",
       "    }\n",
       "</style>\n",
       "<table border=\"1\" class=\"dataframe\">\n",
       "  <thead>\n",
       "    <tr style=\"text-align: right;\">\n",
       "      <th></th>\n",
       "      <th>subreddit</th>\n",
       "      <th>title</th>\n",
       "      <th>selftext</th>\n",
       "    </tr>\n",
       "  </thead>\n",
       "  <tbody>\n",
       "    <tr>\n",
       "      <th>0</th>\n",
       "      <td>Amd</td>\n",
       "      <td>Low VRAM Issues?</td>\n",
       "      <td>[removed]</td>\n",
       "    </tr>\n",
       "    <tr>\n",
       "      <th>1</th>\n",
       "      <td>Amd</td>\n",
       "      <td>[Level1Techs] 32 Core Threadripper Workstation...</td>\n",
       "      <td>NaN</td>\n",
       "    </tr>\n",
       "    <tr>\n",
       "      <th>2</th>\n",
       "      <td>Amd</td>\n",
       "      <td>Decent cheap AMD prebuilt systems? Canada</td>\n",
       "      <td>Trying to see if there's anything worth recomm...</td>\n",
       "    </tr>\n",
       "    <tr>\n",
       "      <th>3</th>\n",
       "      <td>Amd</td>\n",
       "      <td>The new drivers don't wanna download</td>\n",
       "      <td>I have been trying to update my drivers from t...</td>\n",
       "    </tr>\n",
       "    <tr>\n",
       "      <th>4</th>\n",
       "      <td>Amd</td>\n",
       "      <td>aorus redemption I on b550m</td>\n",
       "      <td>last time, i said only gigabyte has not used d...</td>\n",
       "    </tr>\n",
       "  </tbody>\n",
       "</table>\n",
       "</div>"
      ],
      "text/plain": [
       "  subreddit                                              title  \\\n",
       "0       Amd                                   Low VRAM Issues?   \n",
       "1       Amd  [Level1Techs] 32 Core Threadripper Workstation...   \n",
       "2       Amd          Decent cheap AMD prebuilt systems? Canada   \n",
       "3       Amd               The new drivers don't wanna download   \n",
       "4       Amd                        aorus redemption I on b550m   \n",
       "\n",
       "                                            selftext  \n",
       "0                                          [removed]  \n",
       "1                                                NaN  \n",
       "2  Trying to see if there's anything worth recomm...  \n",
       "3  I have been trying to update my drivers from t...  \n",
       "4  last time, i said only gigabyte has not used d...  "
      ]
     },
     "execution_count": 8,
     "metadata": {},
     "output_type": "execute_result"
    }
   ],
   "source": [
    "amd.head()"
   ]
  },
  {
   "cell_type": "code",
   "execution_count": 9,
   "metadata": {
    "execution": {
     "iopub.execute_input": "2020-08-28T12:27:44.660729Z",
     "iopub.status.busy": "2020-08-28T12:27:44.660517Z",
     "iopub.status.idle": "2020-08-28T12:27:44.678603Z",
     "shell.execute_reply": "2020-08-28T12:27:44.678273Z",
     "shell.execute_reply.started": "2020-08-28T12:27:44.660708Z"
    }
   },
   "outputs": [
    {
     "name": "stdout",
     "output_type": "stream",
     "text": [
      "<class 'pandas.core.frame.DataFrame'>\n",
      "RangeIndex: 109740 entries, 0 to 109739\n",
      "Data columns (total 3 columns):\n",
      " #   Column     Non-Null Count   Dtype \n",
      "---  ------     --------------   ----- \n",
      " 0   subreddit  109740 non-null  object\n",
      " 1   title      109740 non-null  object\n",
      " 2   selftext   78415 non-null   object\n",
      "dtypes: object(3)\n",
      "memory usage: 2.5+ MB\n"
     ]
    }
   ],
   "source": [
    "# Check nan values\n",
    "amd.info()"
   ]
  },
  {
   "cell_type": "code",
   "execution_count": 10,
   "metadata": {
    "execution": {
     "iopub.execute_input": "2020-08-28T12:27:44.679142Z",
     "iopub.status.busy": "2020-08-28T12:27:44.679056Z",
     "iopub.status.idle": "2020-08-28T12:27:44.700432Z",
     "shell.execute_reply": "2020-08-28T12:27:44.700103Z",
     "shell.execute_reply.started": "2020-08-28T12:27:44.679131Z"
    }
   },
   "outputs": [
    {
     "name": "stdout",
     "output_type": "stream",
     "text": [
      "<class 'pandas.core.frame.DataFrame'>\n",
      "RangeIndex: 109740 entries, 0 to 109739\n",
      "Data columns (total 3 columns):\n",
      " #   Column     Non-Null Count   Dtype \n",
      "---  ------     --------------   ----- \n",
      " 0   subreddit  109740 non-null  object\n",
      " 1   title      109740 non-null  object\n",
      " 2   selftext   106497 non-null  object\n",
      "dtypes: object(3)\n",
      "memory usage: 2.5+ MB\n"
     ]
    }
   ],
   "source": [
    "buildpc.info()"
   ]
  },
  {
   "cell_type": "code",
   "execution_count": 11,
   "metadata": {
    "execution": {
     "iopub.execute_input": "2020-08-28T12:27:44.700984Z",
     "iopub.status.busy": "2020-08-28T12:27:44.700895Z",
     "iopub.status.idle": "2020-08-28T12:27:44.717147Z",
     "shell.execute_reply": "2020-08-28T12:27:44.716784Z",
     "shell.execute_reply.started": "2020-08-28T12:27:44.700972Z"
    }
   },
   "outputs": [],
   "source": [
    "# Replace nan values\n",
    "amd.fillna(\"\", inplace=True)"
   ]
  },
  {
   "cell_type": "code",
   "execution_count": 12,
   "metadata": {
    "execution": {
     "iopub.execute_input": "2020-08-28T12:27:44.717741Z",
     "iopub.status.busy": "2020-08-28T12:27:44.717616Z",
     "iopub.status.idle": "2020-08-28T12:27:44.741902Z",
     "shell.execute_reply": "2020-08-28T12:27:44.741506Z",
     "shell.execute_reply.started": "2020-08-28T12:27:44.717728Z"
    }
   },
   "outputs": [],
   "source": [
    "buildpc.fillna(\"\", inplace=True)"
   ]
  },
  {
   "cell_type": "code",
   "execution_count": 13,
   "metadata": {
    "execution": {
     "iopub.execute_input": "2020-08-28T12:27:44.742427Z",
     "iopub.status.busy": "2020-08-28T12:27:44.742342Z",
     "iopub.status.idle": "2020-08-28T12:27:44.759658Z",
     "shell.execute_reply": "2020-08-28T12:27:44.759292Z",
     "shell.execute_reply.started": "2020-08-28T12:27:44.742416Z"
    }
   },
   "outputs": [],
   "source": [
    "# Combine the Dataframes\n",
    "df = amd.append(buildpc, ignore_index=True)"
   ]
  },
  {
   "cell_type": "code",
   "execution_count": 14,
   "metadata": {
    "execution": {
     "iopub.execute_input": "2020-08-28T12:27:44.760198Z",
     "iopub.status.busy": "2020-08-28T12:27:44.760112Z",
     "iopub.status.idle": "2020-08-28T12:27:44.764991Z",
     "shell.execute_reply": "2020-08-28T12:27:44.764664Z",
     "shell.execute_reply.started": "2020-08-28T12:27:44.760186Z"
    }
   },
   "outputs": [
    {
     "data": {
      "text/html": [
       "<div>\n",
       "<style scoped>\n",
       "    .dataframe tbody tr th:only-of-type {\n",
       "        vertical-align: middle;\n",
       "    }\n",
       "\n",
       "    .dataframe tbody tr th {\n",
       "        vertical-align: top;\n",
       "    }\n",
       "\n",
       "    .dataframe thead th {\n",
       "        text-align: right;\n",
       "    }\n",
       "</style>\n",
       "<table border=\"1\" class=\"dataframe\">\n",
       "  <thead>\n",
       "    <tr style=\"text-align: right;\">\n",
       "      <th></th>\n",
       "      <th>subreddit</th>\n",
       "      <th>title</th>\n",
       "      <th>selftext</th>\n",
       "    </tr>\n",
       "  </thead>\n",
       "  <tbody>\n",
       "    <tr>\n",
       "      <th>0</th>\n",
       "      <td>Amd</td>\n",
       "      <td>Low VRAM Issues?</td>\n",
       "      <td>[removed]</td>\n",
       "    </tr>\n",
       "    <tr>\n",
       "      <th>1</th>\n",
       "      <td>Amd</td>\n",
       "      <td>[Level1Techs] 32 Core Threadripper Workstation...</td>\n",
       "      <td></td>\n",
       "    </tr>\n",
       "    <tr>\n",
       "      <th>2</th>\n",
       "      <td>Amd</td>\n",
       "      <td>Decent cheap AMD prebuilt systems? Canada</td>\n",
       "      <td>Trying to see if there's anything worth recomm...</td>\n",
       "    </tr>\n",
       "    <tr>\n",
       "      <th>3</th>\n",
       "      <td>Amd</td>\n",
       "      <td>The new drivers don't wanna download</td>\n",
       "      <td>I have been trying to update my drivers from t...</td>\n",
       "    </tr>\n",
       "    <tr>\n",
       "      <th>4</th>\n",
       "      <td>Amd</td>\n",
       "      <td>aorus redemption I on b550m</td>\n",
       "      <td>last time, i said only gigabyte has not used d...</td>\n",
       "    </tr>\n",
       "  </tbody>\n",
       "</table>\n",
       "</div>"
      ],
      "text/plain": [
       "  subreddit                                              title  \\\n",
       "0       Amd                                   Low VRAM Issues?   \n",
       "1       Amd  [Level1Techs] 32 Core Threadripper Workstation...   \n",
       "2       Amd          Decent cheap AMD prebuilt systems? Canada   \n",
       "3       Amd               The new drivers don't wanna download   \n",
       "4       Amd                        aorus redemption I on b550m   \n",
       "\n",
       "                                            selftext  \n",
       "0                                          [removed]  \n",
       "1                                                     \n",
       "2  Trying to see if there's anything worth recomm...  \n",
       "3  I have been trying to update my drivers from t...  \n",
       "4  last time, i said only gigabyte has not used d...  "
      ]
     },
     "execution_count": 14,
     "metadata": {},
     "output_type": "execute_result"
    }
   ],
   "source": [
    "df.head()"
   ]
  },
  {
   "cell_type": "code",
   "execution_count": 15,
   "metadata": {
    "execution": {
     "iopub.execute_input": "2020-08-28T12:27:44.765435Z",
     "iopub.status.busy": "2020-08-28T12:27:44.765353Z",
     "iopub.status.idle": "2020-08-28T12:27:44.767731Z",
     "shell.execute_reply": "2020-08-28T12:27:44.767410Z",
     "shell.execute_reply.started": "2020-08-28T12:27:44.765424Z"
    }
   },
   "outputs": [
    {
     "data": {
      "text/plain": [
       "(219480, 3)"
      ]
     },
     "execution_count": 15,
     "metadata": {},
     "output_type": "execute_result"
    }
   ],
   "source": [
    "df.shape"
   ]
  },
  {
   "cell_type": "code",
   "execution_count": 16,
   "metadata": {
    "execution": {
     "iopub.execute_input": "2020-08-28T12:27:44.768157Z",
     "iopub.status.busy": "2020-08-28T12:27:44.768075Z",
     "iopub.status.idle": "2020-08-28T12:27:44.785811Z",
     "shell.execute_reply": "2020-08-28T12:27:44.785440Z",
     "shell.execute_reply.started": "2020-08-28T12:27:44.768146Z"
    }
   },
   "outputs": [],
   "source": [
    "# Replace [removed]\n",
    "df.replace(to_replace='[removed]', value='', inplace=True)"
   ]
  },
  {
   "cell_type": "code",
   "execution_count": 17,
   "metadata": {
    "execution": {
     "iopub.execute_input": "2020-08-28T12:27:44.786354Z",
     "iopub.status.busy": "2020-08-28T12:27:44.786265Z",
     "iopub.status.idle": "2020-08-28T12:27:44.800569Z",
     "shell.execute_reply": "2020-08-28T12:27:44.800280Z",
     "shell.execute_reply.started": "2020-08-28T12:27:44.786342Z"
    }
   },
   "outputs": [
    {
     "data": {
      "text/plain": [
       "buildapc    109740\n",
       "Amd         109740\n",
       "Name: subreddit, dtype: int64"
      ]
     },
     "execution_count": 17,
     "metadata": {},
     "output_type": "execute_result"
    }
   ],
   "source": [
    "df['subreddit'].value_counts()"
   ]
  },
  {
   "cell_type": "code",
   "execution_count": 18,
   "metadata": {
    "execution": {
     "iopub.execute_input": "2020-08-28T12:27:44.801017Z",
     "iopub.status.busy": "2020-08-28T12:27:44.800936Z",
     "iopub.status.idle": "2020-08-28T12:27:44.803874Z",
     "shell.execute_reply": "2020-08-28T12:27:44.803552Z",
     "shell.execute_reply.started": "2020-08-28T12:27:44.801006Z"
    }
   },
   "outputs": [
    {
     "data": {
      "text/plain": [
       "subreddit    object\n",
       "title        object\n",
       "selftext     object\n",
       "dtype: object"
      ]
     },
     "execution_count": 18,
     "metadata": {},
     "output_type": "execute_result"
    }
   ],
   "source": [
    "df.dtypes"
   ]
  },
  {
   "cell_type": "code",
   "execution_count": 19,
   "metadata": {
    "execution": {
     "iopub.execute_input": "2020-08-28T12:27:46.363780Z",
     "iopub.status.busy": "2020-08-28T12:27:46.363536Z",
     "iopub.status.idle": "2020-08-28T12:27:46.408314Z",
     "shell.execute_reply": "2020-08-28T12:27:46.407953Z",
     "shell.execute_reply.started": "2020-08-28T12:27:46.363732Z"
    }
   },
   "outputs": [
    {
     "data": {
      "text/plain": [
       "subreddit    0\n",
       "title        0\n",
       "selftext     0\n",
       "dtype: int64"
      ]
     },
     "execution_count": 19,
     "metadata": {},
     "output_type": "execute_result"
    }
   ],
   "source": [
    "df.isnull().sum()"
   ]
  },
  {
   "cell_type": "code",
   "execution_count": 20,
   "metadata": {
    "execution": {
     "iopub.execute_input": "2020-08-28T12:27:47.009854Z",
     "iopub.status.busy": "2020-08-28T12:27:47.009738Z",
     "iopub.status.idle": "2020-08-28T12:27:47.014309Z",
     "shell.execute_reply": "2020-08-28T12:27:47.014036Z",
     "shell.execute_reply.started": "2020-08-28T12:27:47.009840Z"
    }
   },
   "outputs": [
    {
     "data": {
      "text/html": [
       "<div>\n",
       "<style scoped>\n",
       "    .dataframe tbody tr th:only-of-type {\n",
       "        vertical-align: middle;\n",
       "    }\n",
       "\n",
       "    .dataframe tbody tr th {\n",
       "        vertical-align: top;\n",
       "    }\n",
       "\n",
       "    .dataframe thead th {\n",
       "        text-align: right;\n",
       "    }\n",
       "</style>\n",
       "<table border=\"1\" class=\"dataframe\">\n",
       "  <thead>\n",
       "    <tr style=\"text-align: right;\">\n",
       "      <th></th>\n",
       "      <th>subreddit</th>\n",
       "      <th>title</th>\n",
       "      <th>selftext</th>\n",
       "    </tr>\n",
       "  </thead>\n",
       "  <tbody>\n",
       "    <tr>\n",
       "      <th>0</th>\n",
       "      <td>Amd</td>\n",
       "      <td>Low VRAM Issues?</td>\n",
       "      <td></td>\n",
       "    </tr>\n",
       "    <tr>\n",
       "      <th>1</th>\n",
       "      <td>Amd</td>\n",
       "      <td>[Level1Techs] 32 Core Threadripper Workstation...</td>\n",
       "      <td></td>\n",
       "    </tr>\n",
       "    <tr>\n",
       "      <th>2</th>\n",
       "      <td>Amd</td>\n",
       "      <td>Decent cheap AMD prebuilt systems? Canada</td>\n",
       "      <td>Trying to see if there's anything worth recomm...</td>\n",
       "    </tr>\n",
       "  </tbody>\n",
       "</table>\n",
       "</div>"
      ],
      "text/plain": [
       "  subreddit                                              title  \\\n",
       "0       Amd                                   Low VRAM Issues?   \n",
       "1       Amd  [Level1Techs] 32 Core Threadripper Workstation...   \n",
       "2       Amd          Decent cheap AMD prebuilt systems? Canada   \n",
       "\n",
       "                                            selftext  \n",
       "0                                                     \n",
       "1                                                     \n",
       "2  Trying to see if there's anything worth recomm...  "
      ]
     },
     "execution_count": 20,
     "metadata": {},
     "output_type": "execute_result"
    }
   ],
   "source": [
    "df.head(3)"
   ]
  },
  {
   "cell_type": "code",
   "execution_count": 21,
   "metadata": {
    "execution": {
     "iopub.execute_input": "2020-08-28T12:27:47.477514Z",
     "iopub.status.busy": "2020-08-28T12:27:47.477333Z",
     "iopub.status.idle": "2020-08-28T12:27:47.569785Z",
     "shell.execute_reply": "2020-08-28T12:27:47.569398Z",
     "shell.execute_reply.started": "2020-08-28T12:27:47.477493Z"
    }
   },
   "outputs": [
    {
     "name": "stdout",
     "output_type": "stream",
     "text": [
      "<class 'pandas.core.frame.DataFrame'>\n",
      "RangeIndex: 219480 entries, 0 to 219479\n",
      "Data columns (total 3 columns):\n",
      " #   Column     Non-Null Count   Dtype \n",
      "---  ------     --------------   ----- \n",
      " 0   subreddit  219480 non-null  object\n",
      " 1   title      219480 non-null  object\n",
      " 2   selftext   219480 non-null  object\n",
      "dtypes: object(3)\n",
      "memory usage: 178.1 MB\n"
     ]
    }
   ],
   "source": [
    "df.info(memory_usage='deep')"
   ]
  },
  {
   "cell_type": "code",
   "execution_count": 22,
   "metadata": {
    "execution": {
     "iopub.execute_input": "2020-08-28T12:27:47.873724Z",
     "iopub.status.busy": "2020-08-28T12:27:47.873503Z",
     "iopub.status.idle": "2020-08-28T12:27:55.868202Z",
     "shell.execute_reply": "2020-08-28T12:27:55.867662Z",
     "shell.execute_reply.started": "2020-08-28T12:27:47.873699Z"
    }
   },
   "outputs": [],
   "source": [
    "# Create a funcion that removes special character, symbols, \n",
    "# and stopwords that may hurt the performance of my models\n",
    "REPLACE_BY_SPACE_RE = re.compile('[/(){}\\[\\]\\|@,;]')   \n",
    "BAD_SYMBOLS_RE = re.compile('[^0-9a-z #+_]')\n",
    "STOPWORDS = set(stopwords.words('english'))\n",
    "\n",
    "def clean_text(text):\n",
    "    \"\"\"\n",
    "        text: a string\n",
    "        \n",
    "        return: modified initial string\n",
    "    \"\"\"\n",
    "    text = text.lower() # lowercase text\n",
    "    text = REPLACE_BY_SPACE_RE.sub(' ', text) # replace REPLACE_BY_SPACE_RE symbols by space in text. substitute the matched string in REPLACE_BY_SPACE_RE with space.\n",
    "    text = BAD_SYMBOLS_RE.sub('', text) # remove symbols which are in BAD_SYMBOLS_RE from text. substitute the matched string in BAD_SYMBOLS_RE with nothing. \n",
    "    text = re.sub(r'\\d+', '', text) # This gets rid of xthe integers\n",
    "    text = text.replace('x', '') # Credit - https://stackoverflow.com/questions/30315035/strip-numbers-from-string-in-python\n",
    "    text = ' '.join(word for word in text.split() if word not in STOPWORDS) # remove stopwords from text\n",
    "    \n",
    "    return text\n",
    "\n",
    "df['title'] = df['title'].apply(clean_text)\n",
    "df['selftext'] = df['selftext'].apply(clean_text)"
   ]
  },
  {
   "cell_type": "code",
   "execution_count": 23,
   "metadata": {
    "execution": {
     "iopub.execute_input": "2020-08-28T12:27:55.869097Z",
     "iopub.status.busy": "2020-08-28T12:27:55.868962Z",
     "iopub.status.idle": "2020-08-28T12:27:55.950097Z",
     "shell.execute_reply": "2020-08-28T12:27:55.949522Z",
     "shell.execute_reply.started": "2020-08-28T12:27:55.869080Z"
    }
   },
   "outputs": [],
   "source": [
    "# Create a column that includes both Title and Selftext \n",
    "df['title_text_combined'] = df['title'] + ' ' + df['selftext']\n"
   ]
  },
  {
   "cell_type": "code",
   "execution_count": 24,
   "metadata": {
    "execution": {
     "iopub.execute_input": "2020-08-28T12:27:55.950959Z",
     "iopub.status.busy": "2020-08-28T12:27:55.950866Z",
     "iopub.status.idle": "2020-08-28T12:27:55.958906Z",
     "shell.execute_reply": "2020-08-28T12:27:55.958440Z",
     "shell.execute_reply.started": "2020-08-28T12:27:55.950948Z"
    }
   },
   "outputs": [
    {
     "data": {
      "text/html": [
       "<div>\n",
       "<style scoped>\n",
       "    .dataframe tbody tr th:only-of-type {\n",
       "        vertical-align: middle;\n",
       "    }\n",
       "\n",
       "    .dataframe tbody tr th {\n",
       "        vertical-align: top;\n",
       "    }\n",
       "\n",
       "    .dataframe thead th {\n",
       "        text-align: right;\n",
       "    }\n",
       "</style>\n",
       "<table border=\"1\" class=\"dataframe\">\n",
       "  <thead>\n",
       "    <tr style=\"text-align: right;\">\n",
       "      <th></th>\n",
       "      <th>subreddit</th>\n",
       "      <th>title</th>\n",
       "      <th>selftext</th>\n",
       "      <th>title_text_combined</th>\n",
       "    </tr>\n",
       "  </thead>\n",
       "  <tbody>\n",
       "    <tr>\n",
       "      <th>0</th>\n",
       "      <td>Amd</td>\n",
       "      <td>low vram issues</td>\n",
       "      <td></td>\n",
       "      <td>low vram issues</td>\n",
       "    </tr>\n",
       "    <tr>\n",
       "      <th>1</th>\n",
       "      <td>Amd</td>\n",
       "      <td>leveltechs core threadripper workstation upgra...</td>\n",
       "      <td></td>\n",
       "      <td>leveltechs core threadripper workstation upgra...</td>\n",
       "    </tr>\n",
       "    <tr>\n",
       "      <th>2</th>\n",
       "      <td>Amd</td>\n",
       "      <td>decent cheap amd prebuilt systems canada</td>\n",
       "      <td>trying see theres anything worth recommending ...</td>\n",
       "      <td>decent cheap amd prebuilt systems canada tryin...</td>\n",
       "    </tr>\n",
       "    <tr>\n",
       "      <th>3</th>\n",
       "      <td>Amd</td>\n",
       "      <td>new drivers dont wanna download</td>\n",
       "      <td>trying update drivers radeon software press do...</td>\n",
       "      <td>new drivers dont wanna download trying update ...</td>\n",
       "    </tr>\n",
       "    <tr>\n",
       "      <th>4</th>\n",
       "      <td>Amd</td>\n",
       "      <td>aorus redemption bm</td>\n",
       "      <td>last time said gigabyte used drmos mat model h...</td>\n",
       "      <td>aorus redemption bm last time said gigabyte us...</td>\n",
       "    </tr>\n",
       "  </tbody>\n",
       "</table>\n",
       "</div>"
      ],
      "text/plain": [
       "  subreddit                                              title  \\\n",
       "0       Amd                                    low vram issues   \n",
       "1       Amd  leveltechs core threadripper workstation upgra...   \n",
       "2       Amd           decent cheap amd prebuilt systems canada   \n",
       "3       Amd                    new drivers dont wanna download   \n",
       "4       Amd                                aorus redemption bm   \n",
       "\n",
       "                                            selftext  \\\n",
       "0                                                      \n",
       "1                                                      \n",
       "2  trying see theres anything worth recommending ...   \n",
       "3  trying update drivers radeon software press do...   \n",
       "4  last time said gigabyte used drmos mat model h...   \n",
       "\n",
       "                                 title_text_combined  \n",
       "0                                   low vram issues   \n",
       "1  leveltechs core threadripper workstation upgra...  \n",
       "2  decent cheap amd prebuilt systems canada tryin...  \n",
       "3  new drivers dont wanna download trying update ...  \n",
       "4  aorus redemption bm last time said gigabyte us...  "
      ]
     },
     "execution_count": 24,
     "metadata": {},
     "output_type": "execute_result"
    }
   ],
   "source": [
    "df.head()"
   ]
  },
  {
   "cell_type": "markdown",
   "metadata": {},
   "source": [
    "### Reduce the memory needed for my models"
   ]
  },
  {
   "cell_type": "code",
   "execution_count": 25,
   "metadata": {
    "execution": {
     "iopub.execute_input": "2020-08-28T12:27:55.959994Z",
     "iopub.status.busy": "2020-08-28T12:27:55.959725Z",
     "iopub.status.idle": "2020-08-28T12:27:56.125779Z",
     "shell.execute_reply": "2020-08-28T12:27:56.125312Z",
     "shell.execute_reply.started": "2020-08-28T12:27:55.959971Z"
    }
   },
   "outputs": [
    {
     "name": "stdout",
     "output_type": "stream",
     "text": [
      "<class 'pandas.core.frame.DataFrame'>\n",
      "RangeIndex: 219480 entries, 0 to 219479\n",
      "Data columns (total 4 columns):\n",
      " #   Column               Non-Null Count   Dtype \n",
      "---  ------               --------------   ----- \n",
      " 0   subreddit            219480 non-null  object\n",
      " 1   title                219480 non-null  object\n",
      " 2   selftext             219480 non-null  object\n",
      " 3   title_text_combined  219480 non-null  object\n",
      "dtypes: object(4)\n",
      "memory usage: 199.3 MB\n"
     ]
    }
   ],
   "source": [
    "# Credit to https://medium.com/@aakashgoel12/avoid-memory-error-techniques-to-reduce-dataframe-memory-usage-fcf53b2318a2\n",
    "df.info(memory_usage='deep')"
   ]
  },
  {
   "cell_type": "code",
   "execution_count": 26,
   "metadata": {
    "execution": {
     "iopub.execute_input": "2020-08-28T12:27:56.126384Z",
     "iopub.status.busy": "2020-08-28T12:27:56.126293Z",
     "iopub.status.idle": "2020-08-28T12:27:56.948821Z",
     "shell.execute_reply": "2020-08-28T12:27:56.948364Z",
     "shell.execute_reply.started": "2020-08-28T12:27:56.126372Z"
    }
   },
   "outputs": [],
   "source": [
    "\n",
    "converted_df = df.astype('category')"
   ]
  },
  {
   "cell_type": "code",
   "execution_count": 27,
   "metadata": {
    "execution": {
     "iopub.execute_input": "2020-08-28T12:27:56.949942Z",
     "iopub.status.busy": "2020-08-28T12:27:56.949729Z",
     "iopub.status.idle": "2020-08-28T12:27:57.027287Z",
     "shell.execute_reply": "2020-08-28T12:27:57.026849Z",
     "shell.execute_reply.started": "2020-08-28T12:27:56.949916Z"
    }
   },
   "outputs": [
    {
     "name": "stdout",
     "output_type": "stream",
     "text": [
      "<class 'pandas.core.frame.DataFrame'>\n",
      "RangeIndex: 219480 entries, 0 to 219479\n",
      "Data columns (total 4 columns):\n",
      " #   Column               Non-Null Count   Dtype   \n",
      "---  ------               --------------   -----   \n",
      " 0   subreddit            219480 non-null  category\n",
      " 1   title                219480 non-null  category\n",
      " 2   selftext             219480 non-null  category\n",
      " 3   title_text_combined  219480 non-null  category\n",
      "dtypes: category(4)\n",
      "memory usage: 151.7 MB\n"
     ]
    }
   ],
   "source": [
    "converted_df.info(memory_usage='deep')"
   ]
  },
  {
   "cell_type": "markdown",
   "metadata": {},
   "source": [
    "## Model 3 Basic Logistic Regression and Multinomial NB with Gridsearch"
   ]
  },
  {
   "cell_type": "code",
   "execution_count": 28,
   "metadata": {
    "execution": {
     "iopub.execute_input": "2020-08-28T12:28:01.281866Z",
     "iopub.status.busy": "2020-08-28T12:28:01.281630Z",
     "iopub.status.idle": "2020-08-28T12:28:01.285808Z",
     "shell.execute_reply": "2020-08-28T12:28:01.285439Z",
     "shell.execute_reply.started": "2020-08-28T12:28:01.281841Z"
    }
   },
   "outputs": [],
   "source": [
    "# First test on just the title\n",
    "X = converted_df[['title_text_combined']]\n",
    "y = converted_df['subreddit']"
   ]
  },
  {
   "cell_type": "code",
   "execution_count": 29,
   "metadata": {
    "execution": {
     "iopub.execute_input": "2020-08-28T12:28:01.614620Z",
     "iopub.status.busy": "2020-08-28T12:28:01.614401Z",
     "iopub.status.idle": "2020-08-28T12:28:01.617865Z",
     "shell.execute_reply": "2020-08-28T12:28:01.617537Z",
     "shell.execute_reply.started": "2020-08-28T12:28:01.614597Z"
    }
   },
   "outputs": [
    {
     "data": {
      "text/plain": [
       "(219480, 1)"
      ]
     },
     "execution_count": 29,
     "metadata": {},
     "output_type": "execute_result"
    }
   ],
   "source": [
    "X.shape"
   ]
  },
  {
   "cell_type": "code",
   "execution_count": 30,
   "metadata": {
    "execution": {
     "iopub.execute_input": "2020-08-28T12:28:01.813296Z",
     "iopub.status.busy": "2020-08-28T12:28:01.813059Z",
     "iopub.status.idle": "2020-08-28T12:28:01.816672Z",
     "shell.execute_reply": "2020-08-28T12:28:01.816261Z",
     "shell.execute_reply.started": "2020-08-28T12:28:01.813270Z"
    }
   },
   "outputs": [
    {
     "data": {
      "text/plain": [
       "(219480,)"
      ]
     },
     "execution_count": 30,
     "metadata": {},
     "output_type": "execute_result"
    }
   ],
   "source": [
    "y.shape"
   ]
  },
  {
   "cell_type": "code",
   "execution_count": 31,
   "metadata": {
    "execution": {
     "iopub.execute_input": "2020-08-28T12:28:02.001900Z",
     "iopub.status.busy": "2020-08-28T12:28:02.001707Z",
     "iopub.status.idle": "2020-08-28T12:28:02.124452Z",
     "shell.execute_reply": "2020-08-28T12:28:02.124037Z",
     "shell.execute_reply.started": "2020-08-28T12:28:02.001879Z"
    }
   },
   "outputs": [],
   "source": [
    "# Train_test_split\n",
    "X_train, X_test, y_train, y_test = train_test_split(X, y, stratify = y, random_state=42)"
   ]
  },
  {
   "cell_type": "markdown",
   "metadata": {},
   "source": [
    "<a name=\"gridsearch\"></a>\n",
    "- [Back to Contents](#contents)\n",
    "# Grid Search with Logistic Regression and Multinomial Naive Bayes"
   ]
  },
  {
   "cell_type": "code",
   "execution_count": 32,
   "metadata": {
    "execution": {
     "iopub.execute_input": "2020-08-28T12:28:12.213120Z",
     "iopub.status.busy": "2020-08-28T12:28:12.212900Z",
     "iopub.status.idle": "2020-08-28T12:28:12.216978Z",
     "shell.execute_reply": "2020-08-28T12:28:12.216607Z",
     "shell.execute_reply.started": "2020-08-28T12:28:12.213097Z"
    }
   },
   "outputs": [],
   "source": [
    "# Set up a pipeline with tf-idf vectorizer and multinomial naive bayes with best found settings above.\n",
    "\n",
    "# Let's set a pipeline up with two stages:\n",
    "# 1. tf-idf vectorizer (transformer)\n",
    "# 2. Multinomial Naive Bayes (estimator)\n",
    "pipe_cvec_nb = Pipeline([\n",
    "    ('cvec' , CountVectorizer()),\n",
    "    ('nb', MultinomialNB())\n",
    "])\n",
    "pipe_cvec_lr = Pipeline([\n",
    "    ('cvec' , CountVectorizer()),\n",
    "    ('lr' , LogisticRegression(solver='liblinear', max_iter=20000))\n",
    "])"
   ]
  },
  {
   "cell_type": "code",
   "execution_count": 33,
   "metadata": {
    "execution": {
     "iopub.execute_input": "2020-08-28T12:28:13.746631Z",
     "iopub.status.busy": "2020-08-28T12:28:13.746364Z",
     "iopub.status.idle": "2020-08-28T12:28:13.750007Z",
     "shell.execute_reply": "2020-08-28T12:28:13.749572Z",
     "shell.execute_reply.started": "2020-08-28T12:28:13.746602Z"
    }
   },
   "outputs": [],
   "source": [
    "# Search over the following values of hyperparameters:\n",
    "# Maximum number of features fit: 2000, 3000, 4000, 5000\n",
    "# No stop words and english stop words\n",
    "# Check (individual tokens) and also check (individual tokens and 2-grams).\n",
    "\n",
    "\n",
    "pipe_cvec_params = {\n",
    "    'cvec__max_features': [20_000, 25_000, 30_000], #ook out max features 30,000 due to memory constraints\n",
    "    'cvec__stop_words': [None, 'english'],\n",
    "    'cvec__ngram_range': [(1,1), (1,2), (1,3)]   # Took out ngram (1,3) due to memory constraints\n",
    "}"
   ]
  },
  {
   "cell_type": "code",
   "execution_count": 34,
   "metadata": {
    "execution": {
     "iopub.execute_input": "2020-08-28T12:28:15.353842Z",
     "iopub.status.busy": "2020-08-28T12:28:15.353678Z",
     "iopub.status.idle": "2020-08-28T12:28:15.356532Z",
     "shell.execute_reply": "2020-08-28T12:28:15.356098Z",
     "shell.execute_reply.started": "2020-08-28T12:28:15.353827Z"
    }
   },
   "outputs": [],
   "source": [
    "# Instantiate GridSearchCV.\n",
    "# Instantiate GridSearchCV.\n",
    "gs_cvec_nb = GridSearchCV(pipe_cvec_nb,\n",
    "                          n_jobs=16,\n",
    "                          param_grid=pipe_cvec_params,\n",
    "                          cv = 5)\n",
    "gs_cvec_lr = GridSearchCV(pipe_cvec_lr,\n",
    "                          n_jobs=16,\n",
    "                          param_grid=pipe_cvec_params,\n",
    "                          cv=5)\n",
    "\n"
   ]
  },
  {
   "cell_type": "code",
   "execution_count": 35,
   "metadata": {
    "execution": {
     "iopub.execute_input": "2020-08-28T12:28:24.243561Z",
     "iopub.status.busy": "2020-08-28T12:28:24.243343Z",
     "iopub.status.idle": "2020-08-28T12:28:24.264993Z",
     "shell.execute_reply": "2020-08-28T12:28:24.264563Z",
     "shell.execute_reply.started": "2020-08-28T12:28:24.243538Z"
    }
   },
   "outputs": [
    {
     "data": {
      "text/plain": [
       "GridSearchCV(cv=5,\n",
       "             estimator=Pipeline(steps=[('cvec', CountVectorizer()),\n",
       "                                       ('lr',\n",
       "                                        LogisticRegression(max_iter=20000,\n",
       "                                                           solver='liblinear'))]),\n",
       "             n_jobs=16,\n",
       "             param_grid={'cvec__max_features': [20000, 25000, 30000],\n",
       "                         'cvec__ngram_range': [(1, 1), (1, 2), (1, 3)],\n",
       "                         'cvec__stop_words': [None, 'english']})"
      ]
     },
     "execution_count": 35,
     "metadata": {},
     "output_type": "execute_result"
    }
   ],
   "source": [
    "gs_cvec_lr"
   ]
  },
  {
   "cell_type": "code",
   "execution_count": 36,
   "metadata": {
    "execution": {
     "iopub.execute_input": "2020-08-28T12:28:24.846035Z",
     "iopub.status.busy": "2020-08-28T12:28:24.845881Z",
     "iopub.status.idle": "2020-08-28T12:28:24.852047Z",
     "shell.execute_reply": "2020-08-28T12:28:24.851757Z",
     "shell.execute_reply.started": "2020-08-28T12:28:24.846019Z"
    }
   },
   "outputs": [
    {
     "data": {
      "text/plain": [
       "GridSearchCV(cv=5,\n",
       "             estimator=Pipeline(steps=[('cvec', CountVectorizer()),\n",
       "                                       ('nb', MultinomialNB())]),\n",
       "             n_jobs=16,\n",
       "             param_grid={'cvec__max_features': [20000, 25000, 30000],\n",
       "                         'cvec__ngram_range': [(1, 1), (1, 2), (1, 3)],\n",
       "                         'cvec__stop_words': [None, 'english']})"
      ]
     },
     "execution_count": 36,
     "metadata": {},
     "output_type": "execute_result"
    }
   ],
   "source": [
    "gs_cvec_nb"
   ]
  },
  {
   "cell_type": "code",
   "execution_count": 37,
   "metadata": {
    "execution": {
     "iopub.execute_input": "2020-08-28T12:28:24.883031Z",
     "iopub.status.busy": "2020-08-28T12:28:24.882920Z",
     "iopub.status.idle": "2020-08-28T12:41:38.168262Z",
     "shell.execute_reply": "2020-08-28T12:41:38.167713Z",
     "shell.execute_reply.started": "2020-08-28T12:28:24.883017Z"
    }
   },
   "outputs": [
    {
     "data": {
      "text/plain": [
       "GridSearchCV(cv=5,\n",
       "             estimator=Pipeline(steps=[('cvec', CountVectorizer()),\n",
       "                                       ('lr',\n",
       "                                        LogisticRegression(max_iter=20000,\n",
       "                                                           solver='liblinear'))]),\n",
       "             n_jobs=16,\n",
       "             param_grid={'cvec__max_features': [20000, 25000, 30000],\n",
       "                         'cvec__ngram_range': [(1, 1), (1, 2), (1, 3)],\n",
       "                         'cvec__stop_words': [None, 'english']})"
      ]
     },
     "execution_count": 37,
     "metadata": {},
     "output_type": "execute_result"
    }
   ],
   "source": [
    "gs_cvec_lr.fit(X_train['title_text_combined'], y_train)"
   ]
  },
  {
   "cell_type": "code",
   "execution_count": 38,
   "metadata": {
    "execution": {
     "iopub.execute_input": "2020-08-28T12:41:38.169135Z",
     "iopub.status.busy": "2020-08-28T12:41:38.169000Z",
     "iopub.status.idle": "2020-08-28T12:43:09.081218Z",
     "shell.execute_reply": "2020-08-28T12:43:09.080772Z",
     "shell.execute_reply.started": "2020-08-28T12:41:38.169117Z"
    }
   },
   "outputs": [
    {
     "data": {
      "text/plain": [
       "GridSearchCV(cv=5,\n",
       "             estimator=Pipeline(steps=[('cvec', CountVectorizer()),\n",
       "                                       ('nb', MultinomialNB())]),\n",
       "             n_jobs=16,\n",
       "             param_grid={'cvec__max_features': [20000, 25000, 30000],\n",
       "                         'cvec__ngram_range': [(1, 1), (1, 2), (1, 3)],\n",
       "                         'cvec__stop_words': [None, 'english']})"
      ]
     },
     "execution_count": 38,
     "metadata": {},
     "output_type": "execute_result"
    }
   ],
   "source": [
    "gs_cvec_nb.fit(X_train['title_text_combined'], y_train)"
   ]
  },
  {
   "cell_type": "markdown",
   "metadata": {},
   "source": [
    "<a name=\"gridsearch_params\"></a>\n",
    "- [Back to Contents](#contents)\n",
    "### Best Gridsearch parameters"
   ]
  },
  {
   "cell_type": "code",
   "execution_count": 39,
   "metadata": {
    "execution": {
     "iopub.execute_input": "2020-08-28T12:43:09.082362Z",
     "iopub.status.busy": "2020-08-28T12:43:09.082178Z",
     "iopub.status.idle": "2020-08-28T12:43:09.085818Z",
     "shell.execute_reply": "2020-08-28T12:43:09.085440Z",
     "shell.execute_reply.started": "2020-08-28T12:43:09.082340Z"
    }
   },
   "outputs": [
    {
     "data": {
      "text/plain": [
       "{'cvec__max_features': 30000,\n",
       " 'cvec__ngram_range': (1, 2),\n",
       " 'cvec__stop_words': None}"
      ]
     },
     "execution_count": 39,
     "metadata": {},
     "output_type": "execute_result"
    }
   ],
   "source": [
    "gs_cvec_lr.best_params_"
   ]
  },
  {
   "cell_type": "code",
   "execution_count": 40,
   "metadata": {
    "execution": {
     "iopub.execute_input": "2020-08-28T12:43:09.086890Z",
     "iopub.status.busy": "2020-08-28T12:43:09.086673Z",
     "iopub.status.idle": "2020-08-28T12:43:09.094305Z",
     "shell.execute_reply": "2020-08-28T12:43:09.093905Z",
     "shell.execute_reply.started": "2020-08-28T12:43:09.086865Z"
    }
   },
   "outputs": [
    {
     "data": {
      "text/plain": [
       "{'cvec__max_features': 30000,\n",
       " 'cvec__ngram_range': (1, 1),\n",
       " 'cvec__stop_words': 'english'}"
      ]
     },
     "execution_count": 40,
     "metadata": {},
     "output_type": "execute_result"
    }
   ],
   "source": [
    "gs_cvec_nb.best_params_"
   ]
  },
  {
   "cell_type": "markdown",
   "metadata": {},
   "source": [
    "<a name=\"nb_score\"></a>\n",
    "- [Back to Contents](#contents)\n",
    "#### Model 3a: Gridsearch Naive Bayes Scores"
   ]
  },
  {
   "cell_type": "code",
   "execution_count": 41,
   "metadata": {
    "execution": {
     "iopub.execute_input": "2020-08-28T12:46:15.211975Z",
     "iopub.status.busy": "2020-08-28T12:46:15.211755Z",
     "iopub.status.idle": "2020-08-28T12:46:19.869614Z",
     "shell.execute_reply": "2020-08-28T12:46:19.869153Z",
     "shell.execute_reply.started": "2020-08-28T12:46:15.211952Z"
    }
   },
   "outputs": [
    {
     "data": {
      "text/plain": [
       "0.8162140817690299"
      ]
     },
     "execution_count": 41,
     "metadata": {},
     "output_type": "execute_result"
    }
   ],
   "source": [
    "# Score model on training set.\n",
    "gs_cvec_nb.score(X_train['title_text_combined'], y_train)"
   ]
  },
  {
   "cell_type": "code",
   "execution_count": 42,
   "metadata": {
    "execution": {
     "iopub.execute_input": "2020-08-28T12:46:20.571426Z",
     "iopub.status.busy": "2020-08-28T12:46:20.571239Z",
     "iopub.status.idle": "2020-08-28T12:46:22.073891Z",
     "shell.execute_reply": "2020-08-28T12:46:22.073490Z",
     "shell.execute_reply.started": "2020-08-28T12:46:20.571403Z"
    }
   },
   "outputs": [
    {
     "data": {
      "text/plain": [
       "0.8104793147439402"
      ]
     },
     "execution_count": 42,
     "metadata": {},
     "output_type": "execute_result"
    }
   ],
   "source": [
    "# Score model on training set.\n",
    "gs_cvec_nb.score(X_test['title_text_combined'], y_test)"
   ]
  },
  {
   "cell_type": "code",
   "execution_count": 43,
   "metadata": {
    "execution": {
     "iopub.execute_input": "2020-08-28T12:46:23.088246Z",
     "iopub.status.busy": "2020-08-28T12:46:23.088094Z",
     "iopub.status.idle": "2020-08-28T12:46:24.709170Z",
     "shell.execute_reply": "2020-08-28T12:46:24.708748Z",
     "shell.execute_reply.started": "2020-08-28T12:46:23.088227Z"
    }
   },
   "outputs": [],
   "source": [
    "# Get predictions\n",
    "preds = gs_cvec_nb.predict(X_test['title_text_combined'])\n",
    "\n",
    "# Save confusion matrix values\n",
    "tn, fp, fn, tp = confusion_matrix(y_test, preds).ravel()\n"
   ]
  },
  {
   "cell_type": "markdown",
   "metadata": {},
   "source": [
    "<a name=\"nb_visual\"></a>\n",
    "- [Back to Contents](#contents)\n",
    "#### Model 3a Confusion Matrix"
   ]
  },
  {
   "cell_type": "code",
   "execution_count": 44,
   "metadata": {
    "execution": {
     "iopub.execute_input": "2020-08-28T12:46:24.709869Z",
     "iopub.status.busy": "2020-08-28T12:46:24.709719Z",
     "iopub.status.idle": "2020-08-28T12:46:26.417916Z",
     "shell.execute_reply": "2020-08-28T12:46:26.417529Z",
     "shell.execute_reply.started": "2020-08-28T12:46:24.709857Z"
    }
   },
   "outputs": [
    {
     "data": {
      "image/png": "[encoded data removed]",
      "text/plain": [
       "<Figure size 432x288 with 2 Axes>"
      ]
     },
     "metadata": {
      "needs_background": "light"
     },
     "output_type": "display_data"
    }
   ],
   "source": [
    "# View confusion matrix\n",
    "plot_confusion_matrix(gs_cvec_nb, X_test['title_text_combined'], y_test, cmap='Blues', values_format='d')\n",
    "plt.title('Model 3a: Title and Contents Naive Bayes with Gridsearch');"
   ]
  },
  {
   "cell_type": "code",
   "execution_count": 45,
   "metadata": {
    "execution": {
     "iopub.execute_input": "2020-08-28T12:46:26.418620Z",
     "iopub.status.busy": "2020-08-28T12:46:26.418529Z",
     "iopub.status.idle": "2020-08-28T12:46:26.421012Z",
     "shell.execute_reply": "2020-08-28T12:46:26.420561Z",
     "shell.execute_reply.started": "2020-08-28T12:46:26.418608Z"
    }
   },
   "outputs": [],
   "source": [
    "TN = 24264\n",
    "TP = 20207\n",
    "FN = 7228\n",
    "FP = 3171"
   ]
  },
  {
   "cell_type": "code",
   "execution_count": 46,
   "metadata": {
    "execution": {
     "iopub.execute_input": "2020-08-28T12:46:26.421479Z",
     "iopub.status.busy": "2020-08-28T12:46:26.421397Z",
     "iopub.status.idle": "2020-08-28T12:46:26.425051Z",
     "shell.execute_reply": "2020-08-28T12:46:26.424725Z",
     "shell.execute_reply.started": "2020-08-28T12:46:26.421469Z"
    }
   },
   "outputs": [
    {
     "name": "stdout",
     "output_type": "stream",
     "text": [
      "The Accuracy score is: 81.0%\n",
      "The Missclassification rate is: 19.0%\n",
      "The Sensitivity is: 73.7%\n",
      "The Specificity is: 88.4%\n",
      "The Precision is 86.4%\n"
     ]
    }
   ],
   "source": [
    "# Credit to Aiden\n",
    "# Accuracy:  # What percentage of observation did I correctly predict?\n",
    "print(f\"The Accuracy score is: {round((TP + TN) / (TP + TN + FP + FN), 3) * 100}%\")\n",
    "# Misclassification: # What percentage of observation did I incorrectly predict?\n",
    "print(f\"The Missclassification rate is: {round((FP + FN) / (TP + TN + FP + FN), 3) * 100}%\")\n",
    "# Sensitivity:  # Among Positives, how many did I get correctly? Same as recall\n",
    "print(f\"The Sensitivity is: {round(TP / (TP + FN), 3) * 100}%\")\n",
    "# Specificity:  # Among Negatives, how many did I get correctly?\n",
    "print(f\"The Specificity is: {round(TN / (TN + FP), 3) * 100}%\")\n",
    "# Precision: # Among Positives, how many did i Predict correct\n",
    "print(f\"The Precision is {round(TP / (TP + FP), 3) * 100}%\")"
   ]
  },
  {
   "cell_type": "markdown",
   "metadata": {},
   "source": [
    "<a name=\"lr_score\"></a>\n",
    "- [Back to Contents](#contents)\n",
    "#### Model 3b: Gridsearch Logistic Regression Scores"
   ]
  },
  {
   "cell_type": "code",
   "execution_count": 47,
   "metadata": {
    "execution": {
     "iopub.execute_input": "2020-08-28T12:46:27.130776Z",
     "iopub.status.busy": "2020-08-28T12:46:27.130540Z",
     "iopub.status.idle": "2020-08-28T12:46:36.014860Z",
     "shell.execute_reply": "2020-08-28T12:46:36.014501Z",
     "shell.execute_reply.started": "2020-08-28T12:46:27.130728Z"
    }
   },
   "outputs": [
    {
     "data": {
      "text/plain": [
       "0.9417289350586234"
      ]
     },
     "execution_count": 47,
     "metadata": {},
     "output_type": "execute_result"
    }
   ],
   "source": [
    "# Score model on training set.\n",
    "gs_cvec_lr.score(X_train['title_text_combined'], y_train)"
   ]
  },
  {
   "cell_type": "code",
   "execution_count": 48,
   "metadata": {
    "execution": {
     "iopub.execute_input": "2020-08-28T12:46:36.015473Z",
     "iopub.status.busy": "2020-08-28T12:46:36.015384Z",
     "iopub.status.idle": "2020-08-28T12:46:38.948323Z",
     "shell.execute_reply": "2020-08-28T12:46:38.947894Z",
     "shell.execute_reply.started": "2020-08-28T12:46:36.015462Z"
    }
   },
   "outputs": [
    {
     "data": {
      "text/plain": [
       "0.8875341716785129"
      ]
     },
     "execution_count": 48,
     "metadata": {},
     "output_type": "execute_result"
    }
   ],
   "source": [
    "# Score model on training set.\n",
    "gs_cvec_lr.score(X_test['title_text_combined'], y_test)"
   ]
  },
  {
   "cell_type": "code",
   "execution_count": 49,
   "metadata": {
    "execution": {
     "iopub.execute_input": "2020-08-28T12:46:38.949631Z",
     "iopub.status.busy": "2020-08-28T12:46:38.949443Z",
     "iopub.status.idle": "2020-08-28T12:46:42.002474Z",
     "shell.execute_reply": "2020-08-28T12:46:42.002040Z",
     "shell.execute_reply.started": "2020-08-28T12:46:38.949608Z"
    }
   },
   "outputs": [],
   "source": [
    "# Get predictions\n",
    "preds = gs_cvec_lr.predict(X_test['title_text_combined'])\n",
    "\n",
    "# Save confusion matrix values\n",
    "tn, fp, fn, tp = confusion_matrix(y_test, preds).ravel()\n"
   ]
  },
  {
   "cell_type": "markdown",
   "metadata": {},
   "source": [
    "<a name=\"lr_visual\"></a>\n",
    "- [Back to Contents](#contents)\n",
    "#### Model 3b Confusion Matrix"
   ]
  },
  {
   "cell_type": "code",
   "execution_count": 50,
   "metadata": {
    "execution": {
     "iopub.execute_input": "2020-08-28T12:46:42.003075Z",
     "iopub.status.busy": "2020-08-28T12:46:42.002985Z",
     "iopub.status.idle": "2020-08-28T12:46:45.315410Z",
     "shell.execute_reply": "2020-08-28T12:46:45.314926Z",
     "shell.execute_reply.started": "2020-08-28T12:46:42.003064Z"
    }
   },
   "outputs": [
    {
     "data": {
      "image/png": "[encoded data removed]",
      "text/plain": [
       "<Figure size 432x288 with 2 Axes>"
      ]
     },
     "metadata": {
      "needs_background": "light"
     },
     "output_type": "display_data"
    }
   ],
   "source": [
    "# View confusion matrix\n",
    "plot_confusion_matrix(gs_cvec_lr, X_test['title_text_combined'], y_test, cmap='Blues', values_format='d')\n",
    "plt.title('Model 3b: Title and Contents Logistic Regression with Gridsearch');"
   ]
  },
  {
   "cell_type": "code",
   "execution_count": 51,
   "metadata": {
    "execution": {
     "iopub.execute_input": "2020-08-28T12:46:45.316336Z",
     "iopub.status.busy": "2020-08-28T12:46:45.316167Z",
     "iopub.status.idle": "2020-08-28T12:46:45.319269Z",
     "shell.execute_reply": "2020-08-28T12:46:45.318538Z",
     "shell.execute_reply.started": "2020-08-28T12:46:45.316314Z"
    }
   },
   "outputs": [],
   "source": [
    "TN = 24795\n",
    "TP = 23904\n",
    "FN = 3531\n",
    "FP = 2640"
   ]
  },
  {
   "cell_type": "code",
   "execution_count": 52,
   "metadata": {
    "execution": {
     "iopub.execute_input": "2020-08-28T12:46:45.320499Z",
     "iopub.status.busy": "2020-08-28T12:46:45.320221Z",
     "iopub.status.idle": "2020-08-28T12:46:45.324465Z",
     "shell.execute_reply": "2020-08-28T12:46:45.324145Z",
     "shell.execute_reply.started": "2020-08-28T12:46:45.320478Z"
    }
   },
   "outputs": [
    {
     "name": "stdout",
     "output_type": "stream",
     "text": [
      "The Accuracy score is: 88.8%\n",
      "The Missclassification rate is: 11.25%\n",
      "The Sensitivity is: 87.1%\n",
      "The Specificity is: 90.4%\n",
      "The Precision is 90.05%\n"
     ]
    }
   ],
   "source": [
    "# Credit to Aiden\n",
    "# Accuracy:  # What percentage of observation did I correctly predict?\n",
    "print(f\"The Accuracy score is: {round((TP + TN) / (TP + TN + FP + FN), 3) * 100}%\")\n",
    "# Misclassification: # What percentage of observation did I incorrectly predict?\n",
    "print(f\"The Missclassification rate is: {round((FP + FN) / (TP + TN + FP + FN), 4) * 100}%\")\n",
    "# Sensitivity:  # Among Positives, how many did I get correctly? Same as recall\n",
    "print(f\"The Sensitivity is: {round(TP / (TP + FN), 3) * 100}%\")\n",
    "# Specificity:  # Among Negatives, how many did I get correctly?\n",
    "print(f\"The Specificity is: {round(TN / (TN + FP), 3) * 100}%\")\n",
    "# Precision: # Among Positives, how many did i Predict correct\n",
    "print(f\"The Precision is {round(TP / (TP + FP), 4) * 100}%\")"
   ]
  },
  {
   "cell_type": "markdown",
   "metadata": {},
   "source": [
    "<a name=\"Model_Compare\"></a>\n",
    "- [Back to Contents](#contents)\n",
    "# Model Score Comparisons"
   ]
  },
  {
   "cell_type": "code",
   "execution_count": null,
   "metadata": {
    "execution": {
     "iopub.status.busy": "2020-08-25T17:24:02.994660Z",
     "iopub.status.idle": "2020-08-25T17:24:02.994822Z"
    }
   },
   "outputs": [],
   "source": [
    "# Model 1: Simple NLP Logistic Regression Model on Title\n",
    "\n",
    "# With ngram_range=(1,1): # max features 25000   min_df was 2 in this model\n",
    "# train score: .8575481440981715\n",
    "# test score: .84117003827228\n",
    "\n",
    "# With ngram_range=(1,2): # max features 25000   min_df was 2 in this model\n",
    "# train score: .8764655853228844\n",
    "# test score: .8442682704574449\n",
    "\n",
    "# With ngram_range=(1,3): # max features 25000   min_df was 2 in this model\n",
    "# train score: .8816839803171131\n",
    "# test score: .8528704209950793\n",
    "\n",
    "# With ngram_range=(1,2): # max features 25000   min_df was 5 in this model\n",
    "# train score: .8765749346941255\n",
    "# test score: .8452524147986149\n",
    "\n",
    "# Model 2: Simple NLP Logistic Regression Model with Title and Selftext\n",
    "\n",
    "# With ngram_range=(1,1): # max features 25000   min_df was 2 in this model\n",
    "# train score: .9072049085717757\n",
    "# test score: .879861490796428\n",
    "\n",
    "# With ngram_range=(1,2): # max features 25000   min_df was 2 in this model\n",
    "# train score: .9332604337525059\n",
    "# test score: .8841443411700383\n",
    "\n",
    "# With ngram_range=(1,3): # max features 25000   min_df was 2 in this model\n",
    "# train score: .9319482412976126\n",
    "# test score: .8877164206305814\n",
    "\n",
    "# With ngram_range=(1,2): # max features 25000   min_df was 5 in this model\n",
    "# train score: .9332118340319543\n",
    "# test score: .8839074175323491\n",
    "\n",
    "\n",
    "# It seen the best ngram range is (1,2) min_df 2\n",
    "\n",
    "# Model 3a: Naive Bayes with Gridsearch\n",
    "# Best Parameters:\n",
    "#                 {'cvec__max_features': 30000,\n",
    "#                  'cvec__ngram_range': (1, 1),\n",
    "#                  'cvec__stop_words': 'english'}\n",
    "# train score: 0.8162140817690299\n",
    "# test score: 0.8104793147439402\n",
    "\n",
    "# Model 3b: Logistic Regression with Gridsearch\n",
    "# After several iterations, these are the best gridsearch parameters.\n",
    "# Best Parameters:\n",
    "#                 {'cvec__max_features': 30000,\n",
    "#                  'cvec__ngram_range': (1, 2),\n",
    "#                  'cvec__stop_words': None}\n",
    "# train score: 0.9417289350586234\n",
    "# test score: 0.8875341716785129\n",
    "\n"
   ]
  },
  {
   "cell_type": "code",
   "execution_count": null,
   "metadata": {
    "execution": {
     "iopub.status.busy": "2020-08-25T17:24:02.995191Z",
     "iopub.status.idle": "2020-08-25T17:24:02.995314Z"
    }
   },
   "outputs": [],
   "source": [
    "# Although the Naive Bayes model with Gridsearch was a closer fit, the Linear Regression model\n",
    "# had the highest test accuracy, which is most important for predicting an outcome."
   ]
  }
 ],
 "metadata": {
  "kernelspec": {
   "display_name": "Python 3",
   "language": "python",
   "name": "python3"
  },
  "language_info": {
   "codemirror_mode": {
    "name": "ipython",
    "version": 3
   },
   "file_extension": ".py",
   "mimetype": "text/x-python",
   "name": "python",
   "nbconvert_exporter": "python",
   "pygments_lexer": "ipython3",
   "version": "3.7.7"
  }
 },
 "nbformat": 4,
 "nbformat_minor": 4
}
