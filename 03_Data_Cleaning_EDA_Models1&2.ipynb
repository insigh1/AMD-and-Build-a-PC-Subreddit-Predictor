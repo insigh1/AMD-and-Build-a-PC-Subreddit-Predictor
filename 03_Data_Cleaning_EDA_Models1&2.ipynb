{
 "cells": [
  {
   "cell_type": "markdown",
   "metadata": {},
   "source": [
    "# Data Cleaning, EDA, and Model 1 & 2 Building\n",
    "#### Credit to Aiden Curley for assistance"
   ]
  },
  {
   "cell_type": "markdown",
   "metadata": {},
   "source": [
    "<a name=\"contents\"></a>\n",
    "- [Contents](#contents)  \n",
    "    - [Imports](#imports)  \n",
    "    - [Data Cleaning](#cleaning)  \n",
    "    - [EDA](#eda)  \n",
    "    - [Model 1: Logistic Regression on Title](#model1)  \n",
    "    - [Model 1 Scores](#model1_scores) \n",
    "    - [Model 1 Confusion Matrix](#model1_visuals) \n",
    "    - [Model 2: Logistic Regression on Title and Content](#model2) \n",
    "    - [Model 2 Scores](#model2_scores) \n",
    "    - [Model 2 Confusion Matrix](#model2_visuals) \n",
    "    - [Interpreting Coefficients](#coefs) \n",
    "    - [Save to File](#save)"
   ]
  },
  {
   "cell_type": "markdown",
   "metadata": {},
   "source": [
    "<a name=\"imports\"></a>\n",
    "- [Back to Contents](#contents)\n",
    "## Imports"
   ]
  },
  {
   "cell_type": "code",
   "execution_count": 2,
   "metadata": {
    "execution": {
     "iopub.execute_input": "2020-08-26T03:03:18.276803Z",
     "iopub.status.busy": "2020-08-26T03:03:18.276580Z",
     "iopub.status.idle": "2020-08-26T03:03:19.434385Z",
     "shell.execute_reply": "2020-08-26T03:03:19.433865Z",
     "shell.execute_reply.started": "2020-08-26T03:03:18.276780Z"
    }
   },
   "outputs": [],
   "source": [
    "# Import Libraries\n",
    "import pandas as pd\n",
    "import numpy as np\n",
    "import matplotlib.pyplot as plt\n",
    "import seaborn as sns\n",
    "import re\n",
    "import nltk\n",
    "from nltk.stem import WordNetLemmatizer\n",
    "from nltk.tokenize import RegexpTokenizer\n",
    "from sklearn.model_selection import train_test_split, GridSearchCV\n",
    "from nltk.corpus import stopwords\n",
    "from sklearn.feature_extraction.text import CountVectorizer\n",
    "from sklearn.linear_model import LogisticRegression\n",
    "from sklearn.metrics import confusion_matrix, plot_confusion_matrix\n",
    "from sklearn.pipeline import Pipeline\n",
    "from sklearn.naive_bayes import MultinomialNB\n",
    "\n"
   ]
  },
  {
   "cell_type": "code",
   "execution_count": 3,
   "metadata": {
    "execution": {
     "iopub.execute_input": "2020-08-26T03:03:19.435266Z",
     "iopub.status.busy": "2020-08-26T03:03:19.435129Z",
     "iopub.status.idle": "2020-08-26T03:03:20.200590Z",
     "shell.execute_reply": "2020-08-26T03:03:20.200166Z",
     "shell.execute_reply.started": "2020-08-26T03:03:19.435248Z"
    }
   },
   "outputs": [],
   "source": [
    "amd = pd.read_csv('./Data/amd_big.csv')\n",
    "buildpc = pd.read_csv('./Data/build_pc_big.csv')"
   ]
  },
  {
   "cell_type": "markdown",
   "metadata": {},
   "source": [
    "<a name=\"cleaning\"></a>\n",
    "- [Back to Contents](#contents)\n",
    "# Data Cleaning"
   ]
  },
  {
   "cell_type": "code",
   "execution_count": 4,
   "metadata": {
    "execution": {
     "iopub.execute_input": "2020-08-26T03:03:20.201319Z",
     "iopub.status.busy": "2020-08-26T03:03:20.201222Z",
     "iopub.status.idle": "2020-08-26T03:03:20.214848Z",
     "shell.execute_reply": "2020-08-26T03:03:20.214489Z",
     "shell.execute_reply.started": "2020-08-26T03:03:20.201307Z"
    }
   },
   "outputs": [
    {
     "data": {
      "text/html": [
       "<div>\n",
       "<style scoped>\n",
       "    .dataframe tbody tr th:only-of-type {\n",
       "        vertical-align: middle;\n",
       "    }\n",
       "\n",
       "    .dataframe tbody tr th {\n",
       "        vertical-align: top;\n",
       "    }\n",
       "\n",
       "    .dataframe thead th {\n",
       "        text-align: right;\n",
       "    }\n",
       "</style>\n",
       "<table border=\"1\" class=\"dataframe\">\n",
       "  <thead>\n",
       "    <tr style=\"text-align: right;\">\n",
       "      <th></th>\n",
       "      <th>Unnamed: 0</th>\n",
       "      <th>subreddit</th>\n",
       "      <th>title</th>\n",
       "      <th>selftext</th>\n",
       "    </tr>\n",
       "  </thead>\n",
       "  <tbody>\n",
       "    <tr>\n",
       "      <th>0</th>\n",
       "      <td>0</td>\n",
       "      <td>Amd</td>\n",
       "      <td>Low VRAM Issues?</td>\n",
       "      <td>[removed]</td>\n",
       "    </tr>\n",
       "  </tbody>\n",
       "</table>\n",
       "</div>"
      ],
      "text/plain": [
       "   Unnamed: 0 subreddit             title   selftext\n",
       "0           0       Amd  Low VRAM Issues?  [removed]"
      ]
     },
     "execution_count": 4,
     "metadata": {},
     "output_type": "execute_result"
    }
   ],
   "source": [
    "amd.head(1)"
   ]
  },
  {
   "cell_type": "code",
   "execution_count": 5,
   "metadata": {
    "execution": {
     "iopub.execute_input": "2020-08-26T03:03:20.215364Z",
     "iopub.status.busy": "2020-08-26T03:03:20.215278Z",
     "iopub.status.idle": "2020-08-26T03:03:20.225670Z",
     "shell.execute_reply": "2020-08-26T03:03:20.225241Z",
     "shell.execute_reply.started": "2020-08-26T03:03:20.215353Z"
    }
   },
   "outputs": [],
   "source": [
    "# Drop unneccesary columns\n",
    "amd.drop(columns='Unnamed: 0', inplace=True)\n",
    "buildpc.drop(columns='Unnamed: 0', inplace=True)"
   ]
  },
  {
   "cell_type": "code",
   "execution_count": 6,
   "metadata": {
    "execution": {
     "iopub.execute_input": "2020-08-26T03:03:20.226263Z",
     "iopub.status.busy": "2020-08-26T03:03:20.226172Z",
     "iopub.status.idle": "2020-08-26T03:03:20.231388Z",
     "shell.execute_reply": "2020-08-26T03:03:20.230999Z",
     "shell.execute_reply.started": "2020-08-26T03:03:20.226251Z"
    }
   },
   "outputs": [
    {
     "data": {
      "text/html": [
       "<div>\n",
       "<style scoped>\n",
       "    .dataframe tbody tr th:only-of-type {\n",
       "        vertical-align: middle;\n",
       "    }\n",
       "\n",
       "    .dataframe tbody tr th {\n",
       "        vertical-align: top;\n",
       "    }\n",
       "\n",
       "    .dataframe thead th {\n",
       "        text-align: right;\n",
       "    }\n",
       "</style>\n",
       "<table border=\"1\" class=\"dataframe\">\n",
       "  <thead>\n",
       "    <tr style=\"text-align: right;\">\n",
       "      <th></th>\n",
       "      <th>subreddit</th>\n",
       "      <th>title</th>\n",
       "      <th>selftext</th>\n",
       "    </tr>\n",
       "  </thead>\n",
       "  <tbody>\n",
       "    <tr>\n",
       "      <th>0</th>\n",
       "      <td>buildapc</td>\n",
       "      <td>Windows 10</td>\n",
       "      <td>Hey guys just finished my build not able to ge...</td>\n",
       "    </tr>\n",
       "    <tr>\n",
       "      <th>1</th>\n",
       "      <td>buildapc</td>\n",
       "      <td>Is there a somewhat reasonably priced GPU that...</td>\n",
       "      <td>I have been rocking a Vega blower for a couple...</td>\n",
       "    </tr>\n",
       "  </tbody>\n",
       "</table>\n",
       "</div>"
      ],
      "text/plain": [
       "  subreddit                                              title  \\\n",
       "0  buildapc                                         Windows 10   \n",
       "1  buildapc  Is there a somewhat reasonably priced GPU that...   \n",
       "\n",
       "                                            selftext  \n",
       "0  Hey guys just finished my build not able to ge...  \n",
       "1  I have been rocking a Vega blower for a couple...  "
      ]
     },
     "execution_count": 6,
     "metadata": {},
     "output_type": "execute_result"
    }
   ],
   "source": [
    "buildpc.head(2)"
   ]
  },
  {
   "cell_type": "code",
   "execution_count": 7,
   "metadata": {
    "execution": {
     "iopub.execute_input": "2020-08-26T03:03:20.900344Z",
     "iopub.status.busy": "2020-08-26T03:03:20.900156Z",
     "iopub.status.idle": "2020-08-26T03:03:20.903329Z",
     "shell.execute_reply": "2020-08-26T03:03:20.902999Z",
     "shell.execute_reply.started": "2020-08-26T03:03:20.900322Z"
    }
   },
   "outputs": [
    {
     "data": {
      "text/plain": [
       "109740"
      ]
     },
     "execution_count": 7,
     "metadata": {},
     "output_type": "execute_result"
    }
   ],
   "source": [
    "# Resize the data to have the same number of posts for each category\n",
    "amd.shape[0]"
   ]
  },
  {
   "cell_type": "code",
   "execution_count": 8,
   "metadata": {
    "execution": {
     "iopub.execute_input": "2020-08-26T03:03:21.412307Z",
     "iopub.status.busy": "2020-08-26T03:03:21.412196Z",
     "iopub.status.idle": "2020-08-26T03:03:21.414779Z",
     "shell.execute_reply": "2020-08-26T03:03:21.414499Z",
     "shell.execute_reply.started": "2020-08-26T03:03:21.412293Z"
    }
   },
   "outputs": [
    {
     "data": {
      "text/plain": [
       "-585"
      ]
     },
     "execution_count": 8,
     "metadata": {},
     "output_type": "execute_result"
    }
   ],
   "source": [
    "amd.shape[0] - buildpc.shape[0]"
   ]
  },
  {
   "cell_type": "code",
   "execution_count": 9,
   "metadata": {
    "execution": {
     "iopub.execute_input": "2020-08-26T03:03:21.600949Z",
     "iopub.status.busy": "2020-08-26T03:03:21.600761Z",
     "iopub.status.idle": "2020-08-26T03:03:21.604165Z",
     "shell.execute_reply": "2020-08-26T03:03:21.603884Z",
     "shell.execute_reply.started": "2020-08-26T03:03:21.600931Z"
    }
   },
   "outputs": [
    {
     "data": {
      "text/plain": [
       "(109740, 3)"
      ]
     },
     "execution_count": 9,
     "metadata": {},
     "output_type": "execute_result"
    }
   ],
   "source": [
    "buildpc = buildpc[:-585]\n",
    "buildpc.shape"
   ]
  },
  {
   "cell_type": "code",
   "execution_count": 10,
   "metadata": {
    "execution": {
     "iopub.execute_input": "2020-08-26T03:03:21.796514Z",
     "iopub.status.busy": "2020-08-26T03:03:21.796371Z",
     "iopub.status.idle": "2020-08-26T03:03:21.802543Z",
     "shell.execute_reply": "2020-08-26T03:03:21.802191Z",
     "shell.execute_reply.started": "2020-08-26T03:03:21.796501Z"
    }
   },
   "outputs": [
    {
     "data": {
      "text/html": [
       "<div>\n",
       "<style scoped>\n",
       "    .dataframe tbody tr th:only-of-type {\n",
       "        vertical-align: middle;\n",
       "    }\n",
       "\n",
       "    .dataframe tbody tr th {\n",
       "        vertical-align: top;\n",
       "    }\n",
       "\n",
       "    .dataframe thead th {\n",
       "        text-align: right;\n",
       "    }\n",
       "</style>\n",
       "<table border=\"1\" class=\"dataframe\">\n",
       "  <thead>\n",
       "    <tr style=\"text-align: right;\">\n",
       "      <th></th>\n",
       "      <th>subreddit</th>\n",
       "      <th>title</th>\n",
       "      <th>selftext</th>\n",
       "    </tr>\n",
       "  </thead>\n",
       "  <tbody>\n",
       "    <tr>\n",
       "      <th>0</th>\n",
       "      <td>Amd</td>\n",
       "      <td>Low VRAM Issues?</td>\n",
       "      <td>[removed]</td>\n",
       "    </tr>\n",
       "    <tr>\n",
       "      <th>1</th>\n",
       "      <td>Amd</td>\n",
       "      <td>[Level1Techs] 32 Core Threadripper Workstation...</td>\n",
       "      <td>NaN</td>\n",
       "    </tr>\n",
       "    <tr>\n",
       "      <th>2</th>\n",
       "      <td>Amd</td>\n",
       "      <td>Decent cheap AMD prebuilt systems? Canada</td>\n",
       "      <td>Trying to see if there's anything worth recomm...</td>\n",
       "    </tr>\n",
       "    <tr>\n",
       "      <th>3</th>\n",
       "      <td>Amd</td>\n",
       "      <td>The new drivers don't wanna download</td>\n",
       "      <td>I have been trying to update my drivers from t...</td>\n",
       "    </tr>\n",
       "    <tr>\n",
       "      <th>4</th>\n",
       "      <td>Amd</td>\n",
       "      <td>aorus redemption I on b550m</td>\n",
       "      <td>last time, i said only gigabyte has not used d...</td>\n",
       "    </tr>\n",
       "  </tbody>\n",
       "</table>\n",
       "</div>"
      ],
      "text/plain": [
       "  subreddit                                              title  \\\n",
       "0       Amd                                   Low VRAM Issues?   \n",
       "1       Amd  [Level1Techs] 32 Core Threadripper Workstation...   \n",
       "2       Amd          Decent cheap AMD prebuilt systems? Canada   \n",
       "3       Amd               The new drivers don't wanna download   \n",
       "4       Amd                        aorus redemption I on b550m   \n",
       "\n",
       "                                            selftext  \n",
       "0                                          [removed]  \n",
       "1                                                NaN  \n",
       "2  Trying to see if there's anything worth recomm...  \n",
       "3  I have been trying to update my drivers from t...  \n",
       "4  last time, i said only gigabyte has not used d...  "
      ]
     },
     "execution_count": 10,
     "metadata": {},
     "output_type": "execute_result"
    }
   ],
   "source": [
    "amd.head()"
   ]
  },
  {
   "cell_type": "code",
   "execution_count": 11,
   "metadata": {
    "execution": {
     "iopub.execute_input": "2020-08-26T03:03:21.954774Z",
     "iopub.status.busy": "2020-08-26T03:03:21.954538Z",
     "iopub.status.idle": "2020-08-26T03:03:21.973723Z",
     "shell.execute_reply": "2020-08-26T03:03:21.973281Z",
     "shell.execute_reply.started": "2020-08-26T03:03:21.954751Z"
    }
   },
   "outputs": [
    {
     "name": "stdout",
     "output_type": "stream",
     "text": [
      "<class 'pandas.core.frame.DataFrame'>\n",
      "RangeIndex: 109740 entries, 0 to 109739\n",
      "Data columns (total 3 columns):\n",
      " #   Column     Non-Null Count   Dtype \n",
      "---  ------     --------------   ----- \n",
      " 0   subreddit  109740 non-null  object\n",
      " 1   title      109740 non-null  object\n",
      " 2   selftext   78415 non-null   object\n",
      "dtypes: object(3)\n",
      "memory usage: 2.5+ MB\n"
     ]
    }
   ],
   "source": [
    "# Check nan values\n",
    "amd.info()"
   ]
  },
  {
   "cell_type": "code",
   "execution_count": 12,
   "metadata": {
    "execution": {
     "iopub.execute_input": "2020-08-26T03:03:22.159158Z",
     "iopub.status.busy": "2020-08-26T03:03:22.158934Z",
     "iopub.status.idle": "2020-08-26T03:03:22.183871Z",
     "shell.execute_reply": "2020-08-26T03:03:22.183398Z",
     "shell.execute_reply.started": "2020-08-26T03:03:22.159135Z"
    }
   },
   "outputs": [
    {
     "name": "stdout",
     "output_type": "stream",
     "text": [
      "<class 'pandas.core.frame.DataFrame'>\n",
      "RangeIndex: 109740 entries, 0 to 109739\n",
      "Data columns (total 3 columns):\n",
      " #   Column     Non-Null Count   Dtype \n",
      "---  ------     --------------   ----- \n",
      " 0   subreddit  109740 non-null  object\n",
      " 1   title      109740 non-null  object\n",
      " 2   selftext   106497 non-null  object\n",
      "dtypes: object(3)\n",
      "memory usage: 2.5+ MB\n"
     ]
    }
   ],
   "source": [
    "buildpc.info()"
   ]
  },
  {
   "cell_type": "code",
   "execution_count": 13,
   "metadata": {
    "execution": {
     "iopub.execute_input": "2020-08-26T03:03:22.342595Z",
     "iopub.status.busy": "2020-08-26T03:03:22.342382Z",
     "iopub.status.idle": "2020-08-26T03:03:22.359394Z",
     "shell.execute_reply": "2020-08-26T03:03:22.358932Z",
     "shell.execute_reply.started": "2020-08-26T03:03:22.342573Z"
    }
   },
   "outputs": [],
   "source": [
    "# Replace nan values\n",
    "amd.fillna(\"\", inplace=True)"
   ]
  },
  {
   "cell_type": "code",
   "execution_count": 14,
   "metadata": {
    "execution": {
     "iopub.execute_input": "2020-08-26T03:03:22.534431Z",
     "iopub.status.busy": "2020-08-26T03:03:22.534219Z",
     "iopub.status.idle": "2020-08-26T03:03:22.559117Z",
     "shell.execute_reply": "2020-08-26T03:03:22.558653Z",
     "shell.execute_reply.started": "2020-08-26T03:03:22.534409Z"
    }
   },
   "outputs": [],
   "source": [
    "buildpc.fillna(\"\", inplace=True)"
   ]
  },
  {
   "cell_type": "code",
   "execution_count": 15,
   "metadata": {
    "execution": {
     "iopub.execute_input": "2020-08-26T03:03:22.936438Z",
     "iopub.status.busy": "2020-08-26T03:03:22.936211Z",
     "iopub.status.idle": "2020-08-26T03:03:22.959490Z",
     "shell.execute_reply": "2020-08-26T03:03:22.959043Z",
     "shell.execute_reply.started": "2020-08-26T03:03:22.936415Z"
    }
   },
   "outputs": [],
   "source": [
    "# Combine the Dataframes\n",
    "df = amd.append(buildpc, ignore_index=True)"
   ]
  },
  {
   "cell_type": "code",
   "execution_count": 16,
   "metadata": {
    "execution": {
     "iopub.execute_input": "2020-08-26T03:03:23.241262Z",
     "iopub.status.busy": "2020-08-26T03:03:23.241165Z",
     "iopub.status.idle": "2020-08-26T03:03:23.246771Z",
     "shell.execute_reply": "2020-08-26T03:03:23.246294Z",
     "shell.execute_reply.started": "2020-08-26T03:03:23.241250Z"
    }
   },
   "outputs": [
    {
     "data": {
      "text/html": [
       "<div>\n",
       "<style scoped>\n",
       "    .dataframe tbody tr th:only-of-type {\n",
       "        vertical-align: middle;\n",
       "    }\n",
       "\n",
       "    .dataframe tbody tr th {\n",
       "        vertical-align: top;\n",
       "    }\n",
       "\n",
       "    .dataframe thead th {\n",
       "        text-align: right;\n",
       "    }\n",
       "</style>\n",
       "<table border=\"1\" class=\"dataframe\">\n",
       "  <thead>\n",
       "    <tr style=\"text-align: right;\">\n",
       "      <th></th>\n",
       "      <th>subreddit</th>\n",
       "      <th>title</th>\n",
       "      <th>selftext</th>\n",
       "    </tr>\n",
       "  </thead>\n",
       "  <tbody>\n",
       "    <tr>\n",
       "      <th>0</th>\n",
       "      <td>Amd</td>\n",
       "      <td>Low VRAM Issues?</td>\n",
       "      <td>[removed]</td>\n",
       "    </tr>\n",
       "    <tr>\n",
       "      <th>1</th>\n",
       "      <td>Amd</td>\n",
       "      <td>[Level1Techs] 32 Core Threadripper Workstation...</td>\n",
       "      <td></td>\n",
       "    </tr>\n",
       "    <tr>\n",
       "      <th>2</th>\n",
       "      <td>Amd</td>\n",
       "      <td>Decent cheap AMD prebuilt systems? Canada</td>\n",
       "      <td>Trying to see if there's anything worth recomm...</td>\n",
       "    </tr>\n",
       "    <tr>\n",
       "      <th>3</th>\n",
       "      <td>Amd</td>\n",
       "      <td>The new drivers don't wanna download</td>\n",
       "      <td>I have been trying to update my drivers from t...</td>\n",
       "    </tr>\n",
       "    <tr>\n",
       "      <th>4</th>\n",
       "      <td>Amd</td>\n",
       "      <td>aorus redemption I on b550m</td>\n",
       "      <td>last time, i said only gigabyte has not used d...</td>\n",
       "    </tr>\n",
       "  </tbody>\n",
       "</table>\n",
       "</div>"
      ],
      "text/plain": [
       "  subreddit                                              title  \\\n",
       "0       Amd                                   Low VRAM Issues?   \n",
       "1       Amd  [Level1Techs] 32 Core Threadripper Workstation...   \n",
       "2       Amd          Decent cheap AMD prebuilt systems? Canada   \n",
       "3       Amd               The new drivers don't wanna download   \n",
       "4       Amd                        aorus redemption I on b550m   \n",
       "\n",
       "                                            selftext  \n",
       "0                                          [removed]  \n",
       "1                                                     \n",
       "2  Trying to see if there's anything worth recomm...  \n",
       "3  I have been trying to update my drivers from t...  \n",
       "4  last time, i said only gigabyte has not used d...  "
      ]
     },
     "execution_count": 16,
     "metadata": {},
     "output_type": "execute_result"
    }
   ],
   "source": [
    "df.head()"
   ]
  },
  {
   "cell_type": "code",
   "execution_count": 17,
   "metadata": {
    "execution": {
     "iopub.execute_input": "2020-08-26T03:03:23.638628Z",
     "iopub.status.busy": "2020-08-26T03:03:23.638419Z",
     "iopub.status.idle": "2020-08-26T03:03:23.642277Z",
     "shell.execute_reply": "2020-08-26T03:03:23.641782Z",
     "shell.execute_reply.started": "2020-08-26T03:03:23.638604Z"
    }
   },
   "outputs": [
    {
     "data": {
      "text/plain": [
       "(219480, 3)"
      ]
     },
     "execution_count": 17,
     "metadata": {},
     "output_type": "execute_result"
    }
   ],
   "source": [
    "df.shape"
   ]
  },
  {
   "cell_type": "code",
   "execution_count": 18,
   "metadata": {
    "execution": {
     "iopub.execute_input": "2020-08-26T03:03:24.321147Z",
     "iopub.status.busy": "2020-08-26T03:03:24.321042Z",
     "iopub.status.idle": "2020-08-26T03:03:24.327472Z",
     "shell.execute_reply": "2020-08-26T03:03:24.327114Z",
     "shell.execute_reply.started": "2020-08-26T03:03:24.321135Z"
    }
   },
   "outputs": [
    {
     "data": {
      "text/html": [
       "<div>\n",
       "<style scoped>\n",
       "    .dataframe tbody tr th:only-of-type {\n",
       "        vertical-align: middle;\n",
       "    }\n",
       "\n",
       "    .dataframe tbody tr th {\n",
       "        vertical-align: top;\n",
       "    }\n",
       "\n",
       "    .dataframe thead th {\n",
       "        text-align: right;\n",
       "    }\n",
       "</style>\n",
       "<table border=\"1\" class=\"dataframe\">\n",
       "  <thead>\n",
       "    <tr style=\"text-align: right;\">\n",
       "      <th></th>\n",
       "      <th>subreddit</th>\n",
       "      <th>title</th>\n",
       "      <th>selftext</th>\n",
       "    </tr>\n",
       "  </thead>\n",
       "  <tbody>\n",
       "    <tr>\n",
       "      <th>0</th>\n",
       "      <td>Amd</td>\n",
       "      <td>Low VRAM Issues?</td>\n",
       "      <td>[removed]</td>\n",
       "    </tr>\n",
       "    <tr>\n",
       "      <th>1</th>\n",
       "      <td>Amd</td>\n",
       "      <td>[Level1Techs] 32 Core Threadripper Workstation...</td>\n",
       "      <td></td>\n",
       "    </tr>\n",
       "    <tr>\n",
       "      <th>2</th>\n",
       "      <td>Amd</td>\n",
       "      <td>Decent cheap AMD prebuilt systems? Canada</td>\n",
       "      <td>Trying to see if there's anything worth recomm...</td>\n",
       "    </tr>\n",
       "    <tr>\n",
       "      <th>3</th>\n",
       "      <td>Amd</td>\n",
       "      <td>The new drivers don't wanna download</td>\n",
       "      <td>I have been trying to update my drivers from t...</td>\n",
       "    </tr>\n",
       "    <tr>\n",
       "      <th>4</th>\n",
       "      <td>Amd</td>\n",
       "      <td>aorus redemption I on b550m</td>\n",
       "      <td>last time, i said only gigabyte has not used d...</td>\n",
       "    </tr>\n",
       "    <tr>\n",
       "      <th>...</th>\n",
       "      <td>...</td>\n",
       "      <td>...</td>\n",
       "      <td>...</td>\n",
       "    </tr>\n",
       "    <tr>\n",
       "      <th>219475</th>\n",
       "      <td>buildapc</td>\n",
       "      <td>Installing Hyper 212 Evo</td>\n",
       "      <td>I’m trying to install a Hyper 212 Evo on a Ryz...</td>\n",
       "    </tr>\n",
       "    <tr>\n",
       "      <th>219476</th>\n",
       "      <td>buildapc</td>\n",
       "      <td>Loud pop 1 day after replacing PSU now won’t t...</td>\n",
       "      <td>Literally blew my old PSU 3 days ago, fixed it...</td>\n",
       "    </tr>\n",
       "    <tr>\n",
       "      <th>219477</th>\n",
       "      <td>buildapc</td>\n",
       "      <td>Error code 4d</td>\n",
       "      <td>So I started my build last night and after com...</td>\n",
       "    </tr>\n",
       "    <tr>\n",
       "      <th>219478</th>\n",
       "      <td>buildapc</td>\n",
       "      <td>Someone help me!</td>\n",
       "      <td>My PC screen turned green and then black after...</td>\n",
       "    </tr>\n",
       "    <tr>\n",
       "      <th>219479</th>\n",
       "      <td>buildapc</td>\n",
       "      <td>Clean case design with wood?</td>\n",
       "      <td>Looking for an atx case that's basic / clean a...</td>\n",
       "    </tr>\n",
       "  </tbody>\n",
       "</table>\n",
       "<p>219480 rows × 3 columns</p>\n",
       "</div>"
      ],
      "text/plain": [
       "       subreddit                                              title  \\\n",
       "0            Amd                                   Low VRAM Issues?   \n",
       "1            Amd  [Level1Techs] 32 Core Threadripper Workstation...   \n",
       "2            Amd          Decent cheap AMD prebuilt systems? Canada   \n",
       "3            Amd               The new drivers don't wanna download   \n",
       "4            Amd                        aorus redemption I on b550m   \n",
       "...          ...                                                ...   \n",
       "219475  buildapc                           Installing Hyper 212 Evo   \n",
       "219476  buildapc  Loud pop 1 day after replacing PSU now won’t t...   \n",
       "219477  buildapc                                      Error code 4d   \n",
       "219478  buildapc                                   Someone help me!   \n",
       "219479  buildapc                       Clean case design with wood?   \n",
       "\n",
       "                                                 selftext  \n",
       "0                                               [removed]  \n",
       "1                                                          \n",
       "2       Trying to see if there's anything worth recomm...  \n",
       "3       I have been trying to update my drivers from t...  \n",
       "4       last time, i said only gigabyte has not used d...  \n",
       "...                                                   ...  \n",
       "219475  I’m trying to install a Hyper 212 Evo on a Ryz...  \n",
       "219476  Literally blew my old PSU 3 days ago, fixed it...  \n",
       "219477  So I started my build last night and after com...  \n",
       "219478  My PC screen turned green and then black after...  \n",
       "219479  Looking for an atx case that's basic / clean a...  \n",
       "\n",
       "[219480 rows x 3 columns]"
      ]
     },
     "execution_count": 18,
     "metadata": {},
     "output_type": "execute_result"
    }
   ],
   "source": [
    "df"
   ]
  },
  {
   "cell_type": "code",
   "execution_count": 19,
   "metadata": {
    "execution": {
     "iopub.execute_input": "2020-08-26T03:03:24.813181Z",
     "iopub.status.busy": "2020-08-26T03:03:24.812970Z",
     "iopub.status.idle": "2020-08-26T03:03:24.838214Z",
     "shell.execute_reply": "2020-08-26T03:03:24.837780Z",
     "shell.execute_reply.started": "2020-08-26T03:03:24.813158Z"
    }
   },
   "outputs": [],
   "source": [
    "# Replace [removed]\n",
    "df.replace(to_replace='[removed]', value='', inplace=True)"
   ]
  },
  {
   "cell_type": "code",
   "execution_count": 20,
   "metadata": {
    "execution": {
     "iopub.execute_input": "2020-08-26T03:03:25.496774Z",
     "iopub.status.busy": "2020-08-26T03:03:25.496609Z",
     "iopub.status.idle": "2020-08-26T03:03:25.502203Z",
     "shell.execute_reply": "2020-08-26T03:03:25.501847Z",
     "shell.execute_reply.started": "2020-08-26T03:03:25.496759Z"
    }
   },
   "outputs": [
    {
     "data": {
      "text/html": [
       "<div>\n",
       "<style scoped>\n",
       "    .dataframe tbody tr th:only-of-type {\n",
       "        vertical-align: middle;\n",
       "    }\n",
       "\n",
       "    .dataframe tbody tr th {\n",
       "        vertical-align: top;\n",
       "    }\n",
       "\n",
       "    .dataframe thead th {\n",
       "        text-align: right;\n",
       "    }\n",
       "</style>\n",
       "<table border=\"1\" class=\"dataframe\">\n",
       "  <thead>\n",
       "    <tr style=\"text-align: right;\">\n",
       "      <th></th>\n",
       "      <th>subreddit</th>\n",
       "      <th>title</th>\n",
       "      <th>selftext</th>\n",
       "    </tr>\n",
       "  </thead>\n",
       "  <tbody>\n",
       "    <tr>\n",
       "      <th>0</th>\n",
       "      <td>Amd</td>\n",
       "      <td>Low VRAM Issues?</td>\n",
       "      <td></td>\n",
       "    </tr>\n",
       "    <tr>\n",
       "      <th>1</th>\n",
       "      <td>Amd</td>\n",
       "      <td>[Level1Techs] 32 Core Threadripper Workstation...</td>\n",
       "      <td></td>\n",
       "    </tr>\n",
       "    <tr>\n",
       "      <th>2</th>\n",
       "      <td>Amd</td>\n",
       "      <td>Decent cheap AMD prebuilt systems? Canada</td>\n",
       "      <td>Trying to see if there's anything worth recomm...</td>\n",
       "    </tr>\n",
       "    <tr>\n",
       "      <th>3</th>\n",
       "      <td>Amd</td>\n",
       "      <td>The new drivers don't wanna download</td>\n",
       "      <td>I have been trying to update my drivers from t...</td>\n",
       "    </tr>\n",
       "    <tr>\n",
       "      <th>4</th>\n",
       "      <td>Amd</td>\n",
       "      <td>aorus redemption I on b550m</td>\n",
       "      <td>last time, i said only gigabyte has not used d...</td>\n",
       "    </tr>\n",
       "  </tbody>\n",
       "</table>\n",
       "</div>"
      ],
      "text/plain": [
       "  subreddit                                              title  \\\n",
       "0       Amd                                   Low VRAM Issues?   \n",
       "1       Amd  [Level1Techs] 32 Core Threadripper Workstation...   \n",
       "2       Amd          Decent cheap AMD prebuilt systems? Canada   \n",
       "3       Amd               The new drivers don't wanna download   \n",
       "4       Amd                        aorus redemption I on b550m   \n",
       "\n",
       "                                            selftext  \n",
       "0                                                     \n",
       "1                                                     \n",
       "2  Trying to see if there's anything worth recomm...  \n",
       "3  I have been trying to update my drivers from t...  \n",
       "4  last time, i said only gigabyte has not used d...  "
      ]
     },
     "execution_count": 20,
     "metadata": {},
     "output_type": "execute_result"
    }
   ],
   "source": [
    "df.head()"
   ]
  },
  {
   "cell_type": "code",
   "execution_count": 21,
   "metadata": {
    "execution": {
     "iopub.execute_input": "2020-08-26T03:03:27.982516Z",
     "iopub.status.busy": "2020-08-26T03:03:27.982305Z",
     "iopub.status.idle": "2020-08-26T03:03:27.997408Z",
     "shell.execute_reply": "2020-08-26T03:03:27.996976Z",
     "shell.execute_reply.started": "2020-08-26T03:03:27.982493Z"
    }
   },
   "outputs": [
    {
     "data": {
      "text/plain": [
       "buildapc    109740\n",
       "Amd         109740\n",
       "Name: subreddit, dtype: int64"
      ]
     },
     "execution_count": 21,
     "metadata": {},
     "output_type": "execute_result"
    }
   ],
   "source": [
    "df['subreddit'].value_counts()"
   ]
  },
  {
   "cell_type": "code",
   "execution_count": 22,
   "metadata": {
    "execution": {
     "iopub.execute_input": "2020-08-26T03:03:28.133885Z",
     "iopub.status.busy": "2020-08-26T03:03:28.133706Z",
     "iopub.status.idle": "2020-08-26T03:03:28.138343Z",
     "shell.execute_reply": "2020-08-26T03:03:28.137929Z",
     "shell.execute_reply.started": "2020-08-26T03:03:28.133863Z"
    }
   },
   "outputs": [
    {
     "data": {
      "text/plain": [
       "subreddit    object\n",
       "title        object\n",
       "selftext     object\n",
       "dtype: object"
      ]
     },
     "execution_count": 22,
     "metadata": {},
     "output_type": "execute_result"
    }
   ],
   "source": [
    "df.dtypes"
   ]
  },
  {
   "cell_type": "code",
   "execution_count": 23,
   "metadata": {
    "execution": {
     "iopub.execute_input": "2020-08-26T03:03:28.302914Z",
     "iopub.status.busy": "2020-08-26T03:03:28.302652Z",
     "iopub.status.idle": "2020-08-26T03:03:28.349505Z",
     "shell.execute_reply": "2020-08-26T03:03:28.349128Z",
     "shell.execute_reply.started": "2020-08-26T03:03:28.302880Z"
    }
   },
   "outputs": [
    {
     "data": {
      "text/plain": [
       "subreddit    0\n",
       "title        0\n",
       "selftext     0\n",
       "dtype: int64"
      ]
     },
     "execution_count": 23,
     "metadata": {},
     "output_type": "execute_result"
    }
   ],
   "source": [
    "df.isnull().sum()"
   ]
  },
  {
   "cell_type": "code",
   "execution_count": 24,
   "metadata": {
    "execution": {
     "iopub.execute_input": "2020-08-26T03:03:28.452756Z",
     "iopub.status.busy": "2020-08-26T03:03:28.452651Z",
     "iopub.status.idle": "2020-08-26T03:03:28.553507Z",
     "shell.execute_reply": "2020-08-26T03:03:28.553032Z",
     "shell.execute_reply.started": "2020-08-26T03:03:28.452745Z"
    }
   },
   "outputs": [],
   "source": [
    "# Create a column that includes both Title and Selftext \n",
    "df['title_text_combined'] = df['title'] + ' ' + df['selftext']\n"
   ]
  },
  {
   "cell_type": "code",
   "execution_count": 25,
   "metadata": {
    "execution": {
     "iopub.execute_input": "2020-08-26T03:03:28.630044Z",
     "iopub.status.busy": "2020-08-26T03:03:28.629946Z",
     "iopub.status.idle": "2020-08-26T03:03:28.636069Z",
     "shell.execute_reply": "2020-08-26T03:03:28.635709Z",
     "shell.execute_reply.started": "2020-08-26T03:03:28.630032Z"
    }
   },
   "outputs": [
    {
     "data": {
      "text/html": [
       "<div>\n",
       "<style scoped>\n",
       "    .dataframe tbody tr th:only-of-type {\n",
       "        vertical-align: middle;\n",
       "    }\n",
       "\n",
       "    .dataframe tbody tr th {\n",
       "        vertical-align: top;\n",
       "    }\n",
       "\n",
       "    .dataframe thead th {\n",
       "        text-align: right;\n",
       "    }\n",
       "</style>\n",
       "<table border=\"1\" class=\"dataframe\">\n",
       "  <thead>\n",
       "    <tr style=\"text-align: right;\">\n",
       "      <th></th>\n",
       "      <th>subreddit</th>\n",
       "      <th>title</th>\n",
       "      <th>selftext</th>\n",
       "      <th>title_text_combined</th>\n",
       "    </tr>\n",
       "  </thead>\n",
       "  <tbody>\n",
       "    <tr>\n",
       "      <th>0</th>\n",
       "      <td>Amd</td>\n",
       "      <td>Low VRAM Issues?</td>\n",
       "      <td></td>\n",
       "      <td>Low VRAM Issues?</td>\n",
       "    </tr>\n",
       "  </tbody>\n",
       "</table>\n",
       "</div>"
      ],
      "text/plain": [
       "  subreddit             title selftext title_text_combined\n",
       "0       Amd  Low VRAM Issues?            Low VRAM Issues? "
      ]
     },
     "execution_count": 25,
     "metadata": {},
     "output_type": "execute_result"
    }
   ],
   "source": [
    "df.head(1)"
   ]
  },
  {
   "cell_type": "markdown",
   "metadata": {
    "execution": {
     "iopub.execute_input": "2020-08-25T01:57:36.151985Z",
     "iopub.status.busy": "2020-08-25T01:57:36.151763Z",
     "iopub.status.idle": "2020-08-25T01:57:36.155033Z",
     "shell.execute_reply": "2020-08-25T01:57:36.154465Z",
     "shell.execute_reply.started": "2020-08-25T01:57:36.151961Z"
    }
   },
   "source": [
    "### Calculate percentage of selftext that has no content"
   ]
  },
  {
   "cell_type": "code",
   "execution_count": 26,
   "metadata": {
    "execution": {
     "iopub.execute_input": "2020-08-26T03:03:33.590927Z",
     "iopub.status.busy": "2020-08-26T03:03:33.590641Z",
     "iopub.status.idle": "2020-08-26T03:03:33.615096Z",
     "shell.execute_reply": "2020-08-26T03:03:33.614708Z",
     "shell.execute_reply.started": "2020-08-26T03:03:33.590898Z"
    }
   },
   "outputs": [
    {
     "data": {
      "text/plain": [
       "47059"
      ]
     },
     "execution_count": 26,
     "metadata": {},
     "output_type": "execute_result"
    }
   ],
   "source": [
    "# Number of rows in selftext that have no input\n",
    "(df['selftext'] == '').sum()"
   ]
  },
  {
   "cell_type": "code",
   "execution_count": 27,
   "metadata": {
    "execution": {
     "iopub.execute_input": "2020-08-26T03:03:33.783906Z",
     "iopub.status.busy": "2020-08-26T03:03:33.783709Z",
     "iopub.status.idle": "2020-08-26T03:03:33.787762Z",
     "shell.execute_reply": "2020-08-26T03:03:33.787170Z",
     "shell.execute_reply.started": "2020-08-26T03:03:33.783884Z"
    }
   },
   "outputs": [
    {
     "data": {
      "text/plain": [
       "21.44"
      ]
     },
     "execution_count": 27,
     "metadata": {},
     "output_type": "execute_result"
    }
   ],
   "source": [
    "# Percent of data in selftext that has no input in selftext column\n",
    "round((47059 / df.shape[0]) *100, 2) "
   ]
  },
  {
   "cell_type": "code",
   "execution_count": 28,
   "metadata": {
    "execution": {
     "iopub.execute_input": "2020-08-26T03:03:33.929545Z",
     "iopub.status.busy": "2020-08-26T03:03:33.929346Z",
     "iopub.status.idle": "2020-08-26T03:03:33.958042Z",
     "shell.execute_reply": "2020-08-26T03:03:33.957656Z",
     "shell.execute_reply.started": "2020-08-26T03:03:33.929520Z"
    }
   },
   "outputs": [
    {
     "data": {
      "text/plain": [
       "0"
      ]
     },
     "execution_count": 28,
     "metadata": {},
     "output_type": "execute_result"
    }
   ],
   "source": [
    "(df['title_text_combined'] == '').sum()"
   ]
  },
  {
   "cell_type": "code",
   "execution_count": 29,
   "metadata": {
    "execution": {
     "iopub.execute_input": "2020-08-26T03:03:34.090353Z",
     "iopub.status.busy": "2020-08-26T03:03:34.090199Z",
     "iopub.status.idle": "2020-08-26T03:03:34.093299Z",
     "shell.execute_reply": "2020-08-26T03:03:34.092916Z",
     "shell.execute_reply.started": "2020-08-26T03:03:34.090335Z"
    }
   },
   "outputs": [
    {
     "data": {
      "text/plain": [
       "(219480, 4)"
      ]
     },
     "execution_count": 29,
     "metadata": {},
     "output_type": "execute_result"
    }
   ],
   "source": [
    "df.shape"
   ]
  },
  {
   "cell_type": "code",
   "execution_count": 30,
   "metadata": {
    "execution": {
     "iopub.execute_input": "2020-08-26T03:03:34.258263Z",
     "iopub.status.busy": "2020-08-26T03:03:34.258132Z",
     "iopub.status.idle": "2020-08-26T03:03:34.266566Z",
     "shell.execute_reply": "2020-08-26T03:03:34.266251Z",
     "shell.execute_reply.started": "2020-08-26T03:03:34.258247Z"
    }
   },
   "outputs": [
    {
     "data": {
      "text/plain": [
       "'Low VRAM Issues?'"
      ]
     },
     "execution_count": 30,
     "metadata": {},
     "output_type": "execute_result"
    }
   ],
   "source": [
    "# Verifying that the title is pulled correctly\n",
    "df['title'][0]"
   ]
  },
  {
   "cell_type": "code",
   "execution_count": 31,
   "metadata": {
    "execution": {
     "iopub.execute_input": "2020-08-26T03:03:34.425480Z",
     "iopub.status.busy": "2020-08-26T03:03:34.425270Z",
     "iopub.status.idle": "2020-08-26T03:03:43.218147Z",
     "shell.execute_reply": "2020-08-26T03:03:43.217723Z",
     "shell.execute_reply.started": "2020-08-26T03:03:34.425454Z"
    }
   },
   "outputs": [],
   "source": [
    "# Create a funcion that removes special character, symbols, \n",
    "# and stopwords that may hurt the performance of my models\n",
    "REPLACE_BY_SPACE_RE = re.compile('[/(){}\\[\\]\\|@,;]')   \n",
    "BAD_SYMBOLS_RE = re.compile('[^0-9a-z #+_]')\n",
    "STOPWORDS = set(stopwords.words('english'))\n",
    "\n",
    "def clean_text(text):\n",
    "    \"\"\"\n",
    "        text: a string\n",
    "        \n",
    "        return: modified initial string\n",
    "    \"\"\"\n",
    "    text = text.lower() # lowercase text\n",
    "    text = REPLACE_BY_SPACE_RE.sub(' ', text) # replace REPLACE_BY_SPACE_RE symbols by space in text. substitute the matched string in REPLACE_BY_SPACE_RE with space.\n",
    "    text = BAD_SYMBOLS_RE.sub('', text) # remove symbols which are in BAD_SYMBOLS_RE from text. substitute the matched string in BAD_SYMBOLS_RE with nothing. \n",
    "    text = re.sub(r'\\d+', '', text) # This gets rid of xthe integers\n",
    "    text = text.replace('x', '') # Credit - https://stackoverflow.com/questions/30315035/strip-numbers-from-string-in-python\n",
    "    text = ' '.join(word for word in text.split() if word not in STOPWORDS) # remove stopwors from text\n",
    "    \n",
    "    return text\n",
    "\n",
    "df['title'] = df['title'].apply(clean_text)\n",
    "df['title_text_combined'] = df['title_text_combined'].apply(clean_text)"
   ]
  },
  {
   "cell_type": "markdown",
   "metadata": {},
   "source": [
    "<a name=\"eda\"></a>\n",
    "- [Back to Contents](#contents)\n",
    "# EDA"
   ]
  },
  {
   "cell_type": "markdown",
   "metadata": {
    "execution": {
     "iopub.execute_input": "2020-08-24T23:48:00.020797Z",
     "iopub.status.busy": "2020-08-24T23:48:00.020641Z",
     "iopub.status.idle": "2020-08-24T23:48:00.022707Z",
     "shell.execute_reply": "2020-08-24T23:48:00.022193Z",
     "shell.execute_reply.started": "2020-08-24T23:48:00.020780Z"
    }
   },
   "source": [
    "### Max word count for each subreddit "
   ]
  },
  {
   "cell_type": "code",
   "execution_count": 32,
   "metadata": {
    "execution": {
     "iopub.execute_input": "2020-08-26T01:03:56.084847Z",
     "iopub.status.busy": "2020-08-26T01:03:56.084756Z",
     "iopub.status.idle": "2020-08-26T01:03:57.062625Z",
     "shell.execute_reply": "2020-08-26T01:03:57.062118Z",
     "shell.execute_reply.started": "2020-08-26T01:03:56.084834Z"
    }
   },
   "outputs": [],
   "source": [
    "# Vecortrize up to 25,000 features with at least 5 instances \n",
    "eda_cvec = CountVectorizer(analyzer = \"word\",\n",
    "                             tokenizer = None,\n",
    "                             preprocessor = None,\n",
    "                             stop_words = None,\n",
    "                             max_features = 25000,\n",
    "                             min_df = 5\n",
    "                             )\n",
    "eda_cvec_data = eda_cvec.fit_transform(df['title'])"
   ]
  },
  {
   "cell_type": "code",
   "execution_count": 33,
   "metadata": {
    "execution": {
     "iopub.execute_input": "2020-08-26T01:03:57.063219Z",
     "iopub.status.busy": "2020-08-26T01:03:57.063127Z",
     "iopub.status.idle": "2020-08-26T01:03:57.654267Z",
     "shell.execute_reply": "2020-08-26T01:03:57.653774Z",
     "shell.execute_reply.started": "2020-08-26T01:03:57.063207Z"
    }
   },
   "outputs": [],
   "source": [
    "cleaned_df = pd.DataFrame(eda_cvec_data.toarray(), columns= eda_cvec.get_feature_names())"
   ]
  },
  {
   "cell_type": "code",
   "execution_count": 34,
   "metadata": {
    "execution": {
     "iopub.execute_input": "2020-08-26T01:03:57.654868Z",
     "iopub.status.busy": "2020-08-26T01:03:57.654775Z",
     "iopub.status.idle": "2020-08-26T01:03:57.664461Z",
     "shell.execute_reply": "2020-08-26T01:03:57.664050Z",
     "shell.execute_reply.started": "2020-08-26T01:03:57.654856Z"
    }
   },
   "outputs": [
    {
     "data": {
      "text/html": [
       "<div>\n",
       "<style scoped>\n",
       "    .dataframe tbody tr th:only-of-type {\n",
       "        vertical-align: middle;\n",
       "    }\n",
       "\n",
       "    .dataframe tbody tr th {\n",
       "        vertical-align: top;\n",
       "    }\n",
       "\n",
       "    .dataframe thead th {\n",
       "        text-align: right;\n",
       "    }\n",
       "</style>\n",
       "<table border=\"1\" class=\"dataframe\">\n",
       "  <thead>\n",
       "    <tr style=\"text-align: right;\">\n",
       "      <th></th>\n",
       "      <th>_rogame</th>\n",
       "      <th>aa</th>\n",
       "      <th>aaa</th>\n",
       "      <th>ab</th>\n",
       "      <th>abandoned</th>\n",
       "      <th>abb</th>\n",
       "      <th>abba</th>\n",
       "      <th>abgaming</th>\n",
       "      <th>abilities</th>\n",
       "      <th>ability</th>\n",
       "      <th>...</th>\n",
       "      <th>zh</th>\n",
       "      <th>zhaoin</th>\n",
       "      <th>zi</th>\n",
       "      <th>zip</th>\n",
       "      <th>zm</th>\n",
       "      <th>zone</th>\n",
       "      <th>zoom</th>\n",
       "      <th>zotac</th>\n",
       "      <th>zowie</th>\n",
       "      <th>zp</th>\n",
       "    </tr>\n",
       "  </thead>\n",
       "  <tbody>\n",
       "    <tr>\n",
       "      <th>0</th>\n",
       "      <td>0</td>\n",
       "      <td>0</td>\n",
       "      <td>0</td>\n",
       "      <td>0</td>\n",
       "      <td>0</td>\n",
       "      <td>0</td>\n",
       "      <td>0</td>\n",
       "      <td>0</td>\n",
       "      <td>0</td>\n",
       "      <td>0</td>\n",
       "      <td>...</td>\n",
       "      <td>0</td>\n",
       "      <td>0</td>\n",
       "      <td>0</td>\n",
       "      <td>0</td>\n",
       "      <td>0</td>\n",
       "      <td>0</td>\n",
       "      <td>0</td>\n",
       "      <td>0</td>\n",
       "      <td>0</td>\n",
       "      <td>0</td>\n",
       "    </tr>\n",
       "    <tr>\n",
       "      <th>1</th>\n",
       "      <td>0</td>\n",
       "      <td>0</td>\n",
       "      <td>0</td>\n",
       "      <td>0</td>\n",
       "      <td>0</td>\n",
       "      <td>0</td>\n",
       "      <td>0</td>\n",
       "      <td>0</td>\n",
       "      <td>0</td>\n",
       "      <td>0</td>\n",
       "      <td>...</td>\n",
       "      <td>0</td>\n",
       "      <td>0</td>\n",
       "      <td>0</td>\n",
       "      <td>0</td>\n",
       "      <td>0</td>\n",
       "      <td>0</td>\n",
       "      <td>0</td>\n",
       "      <td>0</td>\n",
       "      <td>0</td>\n",
       "      <td>0</td>\n",
       "    </tr>\n",
       "    <tr>\n",
       "      <th>2</th>\n",
       "      <td>0</td>\n",
       "      <td>0</td>\n",
       "      <td>0</td>\n",
       "      <td>0</td>\n",
       "      <td>0</td>\n",
       "      <td>0</td>\n",
       "      <td>0</td>\n",
       "      <td>0</td>\n",
       "      <td>0</td>\n",
       "      <td>0</td>\n",
       "      <td>...</td>\n",
       "      <td>0</td>\n",
       "      <td>0</td>\n",
       "      <td>0</td>\n",
       "      <td>0</td>\n",
       "      <td>0</td>\n",
       "      <td>0</td>\n",
       "      <td>0</td>\n",
       "      <td>0</td>\n",
       "      <td>0</td>\n",
       "      <td>0</td>\n",
       "    </tr>\n",
       "    <tr>\n",
       "      <th>3</th>\n",
       "      <td>0</td>\n",
       "      <td>0</td>\n",
       "      <td>0</td>\n",
       "      <td>0</td>\n",
       "      <td>0</td>\n",
       "      <td>0</td>\n",
       "      <td>0</td>\n",
       "      <td>0</td>\n",
       "      <td>0</td>\n",
       "      <td>0</td>\n",
       "      <td>...</td>\n",
       "      <td>0</td>\n",
       "      <td>0</td>\n",
       "      <td>0</td>\n",
       "      <td>0</td>\n",
       "      <td>0</td>\n",
       "      <td>0</td>\n",
       "      <td>0</td>\n",
       "      <td>0</td>\n",
       "      <td>0</td>\n",
       "      <td>0</td>\n",
       "    </tr>\n",
       "    <tr>\n",
       "      <th>4</th>\n",
       "      <td>0</td>\n",
       "      <td>0</td>\n",
       "      <td>0</td>\n",
       "      <td>0</td>\n",
       "      <td>0</td>\n",
       "      <td>0</td>\n",
       "      <td>0</td>\n",
       "      <td>0</td>\n",
       "      <td>0</td>\n",
       "      <td>0</td>\n",
       "      <td>...</td>\n",
       "      <td>0</td>\n",
       "      <td>0</td>\n",
       "      <td>0</td>\n",
       "      <td>0</td>\n",
       "      <td>0</td>\n",
       "      <td>0</td>\n",
       "      <td>0</td>\n",
       "      <td>0</td>\n",
       "      <td>0</td>\n",
       "      <td>0</td>\n",
       "    </tr>\n",
       "  </tbody>\n",
       "</table>\n",
       "<p>5 rows × 8397 columns</p>\n",
       "</div>"
      ],
      "text/plain": [
       "   _rogame  aa  aaa  ab  abandoned  abb  abba  abgaming  abilities  ability  \\\n",
       "0        0   0    0   0          0    0     0         0          0        0   \n",
       "1        0   0    0   0          0    0     0         0          0        0   \n",
       "2        0   0    0   0          0    0     0         0          0        0   \n",
       "3        0   0    0   0          0    0     0         0          0        0   \n",
       "4        0   0    0   0          0    0     0         0          0        0   \n",
       "\n",
       "   ...  zh  zhaoin  zi  zip  zm  zone  zoom  zotac  zowie  zp  \n",
       "0  ...   0       0   0    0   0     0     0      0      0   0  \n",
       "1  ...   0       0   0    0   0     0     0      0      0   0  \n",
       "2  ...   0       0   0    0   0     0     0      0      0   0  \n",
       "3  ...   0       0   0    0   0     0     0      0      0   0  \n",
       "4  ...   0       0   0    0   0     0     0      0      0   0  \n",
       "\n",
       "[5 rows x 8397 columns]"
      ]
     },
     "execution_count": 34,
     "metadata": {},
     "output_type": "execute_result"
    }
   ],
   "source": [
    "cleaned_df.head(5)"
   ]
  },
  {
   "cell_type": "code",
   "execution_count": 35,
   "metadata": {
    "execution": {
     "iopub.execute_input": "2020-08-26T01:03:57.664972Z",
     "iopub.status.busy": "2020-08-26T01:03:57.664881Z",
     "iopub.status.idle": "2020-08-26T01:05:02.513725Z",
     "shell.execute_reply": "2020-08-26T01:05:02.513283Z",
     "shell.execute_reply.started": "2020-08-26T01:03:57.664961Z"
    }
   },
   "outputs": [],
   "source": [
    "split_these = pd.concat([cleaned_df,df['subreddit']], axis=1 )"
   ]
  },
  {
   "cell_type": "code",
   "execution_count": 36,
   "metadata": {
    "execution": {
     "iopub.execute_input": "2020-08-26T01:05:02.514343Z",
     "iopub.status.busy": "2020-08-26T01:05:02.514249Z",
     "iopub.status.idle": "2020-08-26T01:05:02.524919Z",
     "shell.execute_reply": "2020-08-26T01:05:02.524471Z",
     "shell.execute_reply.started": "2020-08-26T01:05:02.514331Z"
    }
   },
   "outputs": [],
   "source": [
    "subs = split_these['subreddit']"
   ]
  },
  {
   "cell_type": "code",
   "execution_count": 37,
   "metadata": {
    "execution": {
     "iopub.execute_input": "2020-08-26T01:05:02.525432Z",
     "iopub.status.busy": "2020-08-26T01:05:02.525346Z",
     "iopub.status.idle": "2020-08-26T01:05:02.531520Z",
     "shell.execute_reply": "2020-08-26T01:05:02.531163Z",
     "shell.execute_reply.started": "2020-08-26T01:05:02.525421Z"
    }
   },
   "outputs": [
    {
     "data": {
      "text/html": [
       "<div>\n",
       "<style scoped>\n",
       "    .dataframe tbody tr th:only-of-type {\n",
       "        vertical-align: middle;\n",
       "    }\n",
       "\n",
       "    .dataframe tbody tr th {\n",
       "        vertical-align: top;\n",
       "    }\n",
       "\n",
       "    .dataframe thead th {\n",
       "        text-align: right;\n",
       "    }\n",
       "</style>\n",
       "<table border=\"1\" class=\"dataframe\">\n",
       "  <thead>\n",
       "    <tr style=\"text-align: right;\">\n",
       "      <th></th>\n",
       "      <th>subreddit</th>\n",
       "      <th>subreddit</th>\n",
       "    </tr>\n",
       "  </thead>\n",
       "  <tbody>\n",
       "    <tr>\n",
       "      <th>0</th>\n",
       "      <td>0</td>\n",
       "      <td>Amd</td>\n",
       "    </tr>\n",
       "    <tr>\n",
       "      <th>1</th>\n",
       "      <td>0</td>\n",
       "      <td>Amd</td>\n",
       "    </tr>\n",
       "    <tr>\n",
       "      <th>2</th>\n",
       "      <td>0</td>\n",
       "      <td>Amd</td>\n",
       "    </tr>\n",
       "    <tr>\n",
       "      <th>3</th>\n",
       "      <td>0</td>\n",
       "      <td>Amd</td>\n",
       "    </tr>\n",
       "    <tr>\n",
       "      <th>4</th>\n",
       "      <td>0</td>\n",
       "      <td>Amd</td>\n",
       "    </tr>\n",
       "    <tr>\n",
       "      <th>...</th>\n",
       "      <td>...</td>\n",
       "      <td>...</td>\n",
       "    </tr>\n",
       "    <tr>\n",
       "      <th>219475</th>\n",
       "      <td>0</td>\n",
       "      <td>buildapc</td>\n",
       "    </tr>\n",
       "    <tr>\n",
       "      <th>219476</th>\n",
       "      <td>0</td>\n",
       "      <td>buildapc</td>\n",
       "    </tr>\n",
       "    <tr>\n",
       "      <th>219477</th>\n",
       "      <td>0</td>\n",
       "      <td>buildapc</td>\n",
       "    </tr>\n",
       "    <tr>\n",
       "      <th>219478</th>\n",
       "      <td>0</td>\n",
       "      <td>buildapc</td>\n",
       "    </tr>\n",
       "    <tr>\n",
       "      <th>219479</th>\n",
       "      <td>0</td>\n",
       "      <td>buildapc</td>\n",
       "    </tr>\n",
       "  </tbody>\n",
       "</table>\n",
       "<p>219480 rows × 2 columns</p>\n",
       "</div>"
      ],
      "text/plain": [
       "       subreddit subreddit\n",
       "0              0       Amd\n",
       "1              0       Amd\n",
       "2              0       Amd\n",
       "3              0       Amd\n",
       "4              0       Amd\n",
       "...          ...       ...\n",
       "219475         0  buildapc\n",
       "219476         0  buildapc\n",
       "219477         0  buildapc\n",
       "219478         0  buildapc\n",
       "219479         0  buildapc\n",
       "\n",
       "[219480 rows x 2 columns]"
      ]
     },
     "execution_count": 37,
     "metadata": {},
     "output_type": "execute_result"
    }
   ],
   "source": [
    "subs"
   ]
  },
  {
   "cell_type": "code",
   "execution_count": 38,
   "metadata": {
    "execution": {
     "iopub.execute_input": "2020-08-26T01:05:02.532019Z",
     "iopub.status.busy": "2020-08-26T01:05:02.531932Z",
     "iopub.status.idle": "2020-08-26T01:05:04.246299Z",
     "shell.execute_reply": "2020-08-26T01:05:04.245813Z",
     "shell.execute_reply.started": "2020-08-26T01:05:02.532008Z"
    }
   },
   "outputs": [],
   "source": [
    "# Credit https://stackoverflow.com/questions/32041245/fast-method-for-removing-duplicate-columns-in-pandas-dataframe\n",
    "split_these = split_these.loc[:,~split_these.columns.duplicated(keep='last')]"
   ]
  },
  {
   "cell_type": "code",
   "execution_count": 39,
   "metadata": {
    "execution": {
     "iopub.execute_input": "2020-08-26T01:05:04.246943Z",
     "iopub.status.busy": "2020-08-26T01:05:04.246848Z",
     "iopub.status.idle": "2020-08-26T01:05:04.261445Z",
     "shell.execute_reply": "2020-08-26T01:05:04.261086Z",
     "shell.execute_reply.started": "2020-08-26T01:05:04.246931Z"
    }
   },
   "outputs": [
    {
     "data": {
      "text/plain": [
       "Amd         109740\n",
       "buildapc    109740\n",
       "Name: subreddit, dtype: int64"
      ]
     },
     "execution_count": 39,
     "metadata": {},
     "output_type": "execute_result"
    }
   ],
   "source": [
    "split_these['subreddit'].value_counts()"
   ]
  },
  {
   "cell_type": "code",
   "execution_count": 40,
   "metadata": {
    "execution": {
     "iopub.execute_input": "2020-08-26T01:05:04.261944Z",
     "iopub.status.busy": "2020-08-26T01:05:04.261857Z",
     "iopub.status.idle": "2020-08-26T01:05:06.428909Z",
     "shell.execute_reply": "2020-08-26T01:05:06.428407Z",
     "shell.execute_reply.started": "2020-08-26T01:05:04.261933Z"
    }
   },
   "outputs": [],
   "source": [
    "amd = split_these[split_these['subreddit'] == 'Amd']\n",
    "build_pc = split_these[split_these['subreddit'] == 'buildapc']"
   ]
  },
  {
   "cell_type": "code",
   "execution_count": 41,
   "metadata": {
    "execution": {
     "iopub.execute_input": "2020-08-26T01:05:06.429508Z",
     "iopub.status.busy": "2020-08-26T01:05:06.429416Z",
     "iopub.status.idle": "2020-08-26T01:05:06.432453Z",
     "shell.execute_reply": "2020-08-26T01:05:06.431939Z",
     "shell.execute_reply.started": "2020-08-26T01:05:06.429495Z"
    }
   },
   "outputs": [
    {
     "name": "stdout",
     "output_type": "stream",
     "text": [
      "(109740, 8397)\n",
      "(109740, 8397)\n"
     ]
    }
   ],
   "source": [
    "print(amd.shape)\n",
    "print(build_pc.shape)"
   ]
  },
  {
   "cell_type": "code",
   "execution_count": 42,
   "metadata": {
    "execution": {
     "iopub.execute_input": "2020-08-26T01:05:06.433158Z",
     "iopub.status.busy": "2020-08-26T01:05:06.433030Z",
     "iopub.status.idle": "2020-08-26T01:05:07.537606Z",
     "shell.execute_reply": "2020-08-26T01:05:07.537108Z",
     "shell.execute_reply.started": "2020-08-26T01:05:06.433142Z"
    }
   },
   "outputs": [],
   "source": [
    "# Credit to Chris :)\n",
    "top_words_amd = {}\n",
    "for i in amd.columns[:-1]:\n",
    "    top_words_amd[i] =  amd[i].sum()\n",
    "# top_words to dataframe sorted by highest occurance\n",
    "most_freq_amd = pd.DataFrame(sorted(top_words_amd.items(), key = lambda x: x[1], reverse = True))"
   ]
  },
  {
   "cell_type": "code",
   "execution_count": 43,
   "metadata": {
    "execution": {
     "iopub.execute_input": "2020-08-26T01:05:07.538193Z",
     "iopub.status.busy": "2020-08-26T01:05:07.538102Z",
     "iopub.status.idle": "2020-08-26T01:05:07.540650Z",
     "shell.execute_reply": "2020-08-26T01:05:07.540155Z",
     "shell.execute_reply.started": "2020-08-26T01:05:07.538181Z"
    }
   },
   "outputs": [],
   "source": [
    "most_freq_amd = most_freq_amd[:25]"
   ]
  },
  {
   "cell_type": "code",
   "execution_count": 44,
   "metadata": {
    "execution": {
     "iopub.execute_input": "2020-08-26T01:05:07.541420Z",
     "iopub.status.busy": "2020-08-26T01:05:07.541290Z",
     "iopub.status.idle": "2020-08-26T01:05:08.660125Z",
     "shell.execute_reply": "2020-08-26T01:05:08.659700Z",
     "shell.execute_reply.started": "2020-08-26T01:05:07.541403Z"
    }
   },
   "outputs": [],
   "source": [
    "# Credit to Chris :)\n",
    "top_words_build_pc = {}\n",
    "for i in amd.columns[:-1]:\n",
    "    top_words_build_pc[i] =  build_pc[i].sum()\n",
    "# top_words to dataframe sorted by highest occurance\n",
    "most_freq_build_pc = pd.DataFrame(sorted(top_words_build_pc.items(), key = lambda x: x[1], reverse = True))"
   ]
  },
  {
   "cell_type": "code",
   "execution_count": 45,
   "metadata": {
    "execution": {
     "iopub.execute_input": "2020-08-26T01:05:08.660903Z",
     "iopub.status.busy": "2020-08-26T01:05:08.660768Z",
     "iopub.status.idle": "2020-08-26T01:05:08.663284Z",
     "shell.execute_reply": "2020-08-26T01:05:08.662964Z",
     "shell.execute_reply.started": "2020-08-26T01:05:08.660886Z"
    }
   },
   "outputs": [],
   "source": [
    "most_freq_build_pc = most_freq_build_pc[:25]"
   ]
  },
  {
   "cell_type": "code",
   "execution_count": 46,
   "metadata": {
    "execution": {
     "iopub.execute_input": "2020-08-26T01:05:08.663781Z",
     "iopub.status.busy": "2020-08-26T01:05:08.663695Z",
     "iopub.status.idle": "2020-08-26T01:05:08.845750Z",
     "shell.execute_reply": "2020-08-26T01:05:08.845361Z",
     "shell.execute_reply.started": "2020-08-26T01:05:08.663770Z"
    }
   },
   "outputs": [
    {
     "data": {
      "image/png": "[encoded data removed]",
      "text/plain": [
       "<Figure size 864x576 with 1 Axes>"
      ]
     },
     "metadata": {
      "needs_background": "light"
     },
     "output_type": "display_data"
    }
   ],
   "source": [
    "plt.figure(figsize=(12,8))\n",
    "chart = sns.barplot(x= most_freq_amd[0], y = most_freq_amd[1], palette='YlGnBu_r')\n",
    "chart.set_xticklabels(chart.get_xticklabels(), rotation=45);\n",
    "plt.title('Most Common Words in AMD')\n",
    "\n",
    "plt.xlabel('Common Words')\n",
    "plt.ylabel('Word Count');"
   ]
  },
  {
   "cell_type": "code",
   "execution_count": 47,
   "metadata": {
    "execution": {
     "iopub.execute_input": "2020-08-26T01:05:08.846357Z",
     "iopub.status.busy": "2020-08-26T01:05:08.846261Z",
     "iopub.status.idle": "2020-08-26T01:05:08.992965Z",
     "shell.execute_reply": "2020-08-26T01:05:08.992577Z",
     "shell.execute_reply.started": "2020-08-26T01:05:08.846344Z"
    }
   },
   "outputs": [
    {
     "data": {
      "image/png": "[encoded data removed]",
      "text/plain": [
       "<Figure size 864x576 with 1 Axes>"
      ]
     },
     "metadata": {
      "needs_background": "light"
     },
     "output_type": "display_data"
    }
   ],
   "source": [
    "plt.figure(figsize=(12,8))\n",
    "chartbuildpc = sns.barplot(x= most_freq_build_pc[0], y = most_freq_build_pc[1], palette='YlGnBu_r')\n",
    "chartbuildpc.set_xticklabels(chartbuildpc.get_xticklabels(), rotation=45)\n",
    "plt.title('Most Common Words in Build PC')\n",
    "plt.xlabel('Common Words')\n",
    "plt.ylabel('Word Count');"
   ]
  },
  {
   "cell_type": "code",
   "execution_count": 48,
   "metadata": {
    "execution": {
     "iopub.execute_input": "2020-08-26T01:05:08.993619Z",
     "iopub.status.busy": "2020-08-26T01:05:08.993520Z",
     "iopub.status.idle": "2020-08-26T01:05:08.998065Z",
     "shell.execute_reply": "2020-08-26T01:05:08.997638Z",
     "shell.execute_reply.started": "2020-08-26T01:05:08.993605Z"
    }
   },
   "outputs": [],
   "source": [
    "amd_list = [i for i in most_freq_amd[0]]\n",
    "build_pc_list = [i for i in most_freq_build_pc[0]]"
   ]
  },
  {
   "cell_type": "code",
   "execution_count": 49,
   "metadata": {
    "execution": {
     "iopub.execute_input": "2020-08-26T01:05:08.998622Z",
     "iopub.status.busy": "2020-08-26T01:05:08.998529Z",
     "iopub.status.idle": "2020-08-26T01:05:09.001495Z",
     "shell.execute_reply": "2020-08-26T01:05:09.001147Z",
     "shell.execute_reply.started": "2020-08-26T01:05:08.998609Z"
    }
   },
   "outputs": [
    {
     "data": {
      "text/plain": [
       "{'amd',\n",
       " 'asus',\n",
       " 'bios',\n",
       " 'cooler',\n",
       " 'driver',\n",
       " 'drivers',\n",
       " 'gb',\n",
       " 'intel',\n",
       " 'msi',\n",
       " 'radeon',\n",
       " 'vega',\n",
       " 'vs'}"
      ]
     },
     "execution_count": 49,
     "metadata": {},
     "output_type": "execute_result"
    }
   ],
   "source": [
    "# Words in Amd list not in build pc list\n",
    "set(amd_list) - set(build_pc_list)"
   ]
  },
  {
   "cell_type": "code",
   "execution_count": 50,
   "metadata": {
    "execution": {
     "iopub.execute_input": "2020-08-26T01:05:09.002038Z",
     "iopub.status.busy": "2020-08-26T01:05:09.001949Z",
     "iopub.status.idle": "2020-08-26T01:05:09.004981Z",
     "shell.execute_reply": "2020-08-26T01:05:09.004639Z",
     "shell.execute_reply.started": "2020-08-26T01:05:09.002027Z"
    }
   },
   "outputs": [
    {
     "data": {
      "text/plain": [
       "{'advice',\n",
       " 'budget',\n",
       " 'building',\n",
       " 'case',\n",
       " 'get',\n",
       " 'good',\n",
       " 'im',\n",
       " 'looking',\n",
       " 'monitor',\n",
       " 'parts',\n",
       " 'question',\n",
       " 'time'}"
      ]
     },
     "execution_count": 50,
     "metadata": {},
     "output_type": "execute_result"
    }
   ],
   "source": [
    "# Words in build pc list not in Amd list\n",
    "\n",
    "set(build_pc_list) - set(amd_list)"
   ]
  },
  {
   "cell_type": "code",
   "execution_count": 51,
   "metadata": {
    "execution": {
     "iopub.execute_input": "2020-08-26T01:05:09.005496Z",
     "iopub.status.busy": "2020-08-26T01:05:09.005405Z",
     "iopub.status.idle": "2020-08-26T01:05:09.007290Z",
     "shell.execute_reply": "2020-08-26T01:05:09.006956Z",
     "shell.execute_reply.started": "2020-08-26T01:05:09.005485Z"
    }
   },
   "outputs": [],
   "source": [
    "# There seems to be enough variation in words, so I believe lemmatizing and stemming is not required for my topics."
   ]
  },
  {
   "cell_type": "markdown",
   "metadata": {},
   "source": [
    "<a name=\"model1\"></a>\n",
    "- [Back to Contents](#contents)\n",
    "# Model 1: Logistic Regression Model with just Title"
   ]
  },
  {
   "cell_type": "code",
   "execution_count": 61,
   "metadata": {
    "execution": {
     "iopub.execute_input": "2020-08-26T03:11:19.722598Z",
     "iopub.status.busy": "2020-08-26T03:11:19.722382Z",
     "iopub.status.idle": "2020-08-26T03:11:19.730698Z",
     "shell.execute_reply": "2020-08-26T03:11:19.730171Z",
     "shell.execute_reply.started": "2020-08-26T03:11:19.722575Z"
    }
   },
   "outputs": [],
   "source": [
    "# First test on just the title\n",
    "X = df[['title']]\n",
    "y = df['subreddit']"
   ]
  },
  {
   "cell_type": "code",
   "execution_count": 62,
   "metadata": {
    "execution": {
     "iopub.execute_input": "2020-08-26T03:11:20.408856Z",
     "iopub.status.busy": "2020-08-26T03:11:20.408621Z",
     "iopub.status.idle": "2020-08-26T03:11:20.412514Z",
     "shell.execute_reply": "2020-08-26T03:11:20.412011Z",
     "shell.execute_reply.started": "2020-08-26T03:11:20.408832Z"
    }
   },
   "outputs": [
    {
     "data": {
      "text/plain": [
       "(219480, 1)"
      ]
     },
     "execution_count": 62,
     "metadata": {},
     "output_type": "execute_result"
    }
   ],
   "source": [
    "X.shape"
   ]
  },
  {
   "cell_type": "code",
   "execution_count": 63,
   "metadata": {
    "execution": {
     "iopub.execute_input": "2020-08-26T03:11:20.999814Z",
     "iopub.status.busy": "2020-08-26T03:11:20.999595Z",
     "iopub.status.idle": "2020-08-26T03:11:21.002950Z",
     "shell.execute_reply": "2020-08-26T03:11:21.002689Z",
     "shell.execute_reply.started": "2020-08-26T03:11:20.999788Z"
    }
   },
   "outputs": [
    {
     "data": {
      "text/plain": [
       "(219480,)"
      ]
     },
     "execution_count": 63,
     "metadata": {},
     "output_type": "execute_result"
    }
   ],
   "source": [
    "y.shape"
   ]
  },
  {
   "cell_type": "code",
   "execution_count": 64,
   "metadata": {
    "execution": {
     "iopub.execute_input": "2020-08-26T03:11:22.222430Z",
     "iopub.status.busy": "2020-08-26T03:11:22.222287Z",
     "iopub.status.idle": "2020-08-26T03:11:22.355649Z",
     "shell.execute_reply": "2020-08-26T03:11:22.355219Z",
     "shell.execute_reply.started": "2020-08-26T03:11:22.222413Z"
    }
   },
   "outputs": [],
   "source": [
    "# Train_test_split\n",
    "X_train, X_test, y_train, y_test = train_test_split(X, y, stratify = y, random_state=42)"
   ]
  },
  {
   "cell_type": "code",
   "execution_count": 65,
   "metadata": {
    "execution": {
     "iopub.execute_input": "2020-08-26T03:11:23.705379Z",
     "iopub.status.busy": "2020-08-26T03:11:23.705251Z",
     "iopub.status.idle": "2020-08-26T03:11:23.718249Z",
     "shell.execute_reply": "2020-08-26T03:11:23.717888Z",
     "shell.execute_reply.started": "2020-08-26T03:11:23.705364Z"
    }
   },
   "outputs": [],
   "source": [
    "vectorizer = CountVectorizer(ngram_range=(1,2),\n",
    "                             min_df=2,   \n",
    "                            max_features=25000\n",
    "                            )"
   ]
  },
  {
   "cell_type": "code",
   "execution_count": 66,
   "metadata": {
    "execution": {
     "iopub.execute_input": "2020-08-26T03:11:24.470930Z",
     "iopub.status.busy": "2020-08-26T03:11:24.470814Z",
     "iopub.status.idle": "2020-08-26T03:11:26.276382Z",
     "shell.execute_reply": "2020-08-26T03:11:26.275956Z",
     "shell.execute_reply.started": "2020-08-26T03:11:24.470915Z"
    }
   },
   "outputs": [],
   "source": [
    "train_features = vectorizer.fit_transform(X_train['title'])\n",
    "test_features = vectorizer.transform(X_test['title'])"
   ]
  },
  {
   "cell_type": "code",
   "execution_count": 67,
   "metadata": {
    "execution": {
     "iopub.execute_input": "2020-08-26T03:11:29.443427Z",
     "iopub.status.busy": "2020-08-26T03:11:29.443221Z",
     "iopub.status.idle": "2020-08-26T03:11:29.941351Z",
     "shell.execute_reply": "2020-08-26T03:11:29.940936Z",
     "shell.execute_reply.started": "2020-08-26T03:11:29.443404Z"
    }
   },
   "outputs": [],
   "source": [
    "train_features = train_features.toarray()"
   ]
  },
  {
   "cell_type": "code",
   "execution_count": 68,
   "metadata": {
    "execution": {
     "iopub.execute_input": "2020-08-26T03:11:31.374361Z",
     "iopub.status.busy": "2020-08-26T03:11:31.374238Z",
     "iopub.status.idle": "2020-08-26T03:11:31.377247Z",
     "shell.execute_reply": "2020-08-26T03:11:31.376819Z",
     "shell.execute_reply.started": "2020-08-26T03:11:31.374346Z"
    }
   },
   "outputs": [
    {
     "data": {
      "text/plain": [
       "(164610, 25000)"
      ]
     },
     "execution_count": 68,
     "metadata": {},
     "output_type": "execute_result"
    }
   ],
   "source": [
    "train_features.shape"
   ]
  },
  {
   "cell_type": "code",
   "execution_count": 69,
   "metadata": {
    "execution": {
     "iopub.execute_input": "2020-08-26T03:11:32.004416Z",
     "iopub.status.busy": "2020-08-26T03:11:32.004241Z",
     "iopub.status.idle": "2020-08-26T03:11:32.007465Z",
     "shell.execute_reply": "2020-08-26T03:11:32.007121Z",
     "shell.execute_reply.started": "2020-08-26T03:11:32.004394Z"
    }
   },
   "outputs": [
    {
     "data": {
      "text/plain": [
       "(54870, 25000)"
      ]
     },
     "execution_count": 69,
     "metadata": {},
     "output_type": "execute_result"
    }
   ],
   "source": [
    "test_features.shape"
   ]
  },
  {
   "cell_type": "code",
   "execution_count": 70,
   "metadata": {
    "execution": {
     "iopub.execute_input": "2020-08-26T03:11:32.705286Z",
     "iopub.status.busy": "2020-08-26T03:11:32.705196Z",
     "iopub.status.idle": "2020-08-26T03:11:32.717434Z",
     "shell.execute_reply": "2020-08-26T03:11:32.717079Z",
     "shell.execute_reply.started": "2020-08-26T03:11:32.705275Z"
    }
   },
   "outputs": [],
   "source": [
    "vocab = vectorizer.get_feature_names()\n"
   ]
  },
  {
   "cell_type": "code",
   "execution_count": 71,
   "metadata": {
    "execution": {
     "iopub.execute_input": "2020-08-26T03:11:33.629269Z",
     "iopub.status.busy": "2020-08-26T03:11:33.629071Z",
     "iopub.status.idle": "2020-08-26T03:11:33.632728Z",
     "shell.execute_reply": "2020-08-26T03:11:33.632437Z",
     "shell.execute_reply.started": "2020-08-26T03:11:33.629246Z"
    }
   },
   "outputs": [
    {
     "data": {
      "text/plain": [
       "array([[0, 0, 0, ..., 0, 0, 0],\n",
       "       [0, 0, 0, ..., 0, 0, 0],\n",
       "       [0, 0, 0, ..., 0, 0, 0],\n",
       "       [0, 0, 0, ..., 0, 0, 0],\n",
       "       [0, 0, 0, ..., 0, 0, 0],\n",
       "       [0, 0, 0, ..., 0, 0, 0]])"
      ]
     },
     "execution_count": 71,
     "metadata": {},
     "output_type": "execute_result"
    }
   ],
   "source": [
    "train_features[0:6]"
   ]
  },
  {
   "cell_type": "code",
   "execution_count": 72,
   "metadata": {
    "execution": {
     "iopub.execute_input": "2020-08-26T03:11:34.714353Z",
     "iopub.status.busy": "2020-08-26T03:11:34.714255Z",
     "iopub.status.idle": "2020-08-26T03:11:34.716192Z",
     "shell.execute_reply": "2020-08-26T03:11:34.715914Z",
     "shell.execute_reply.started": "2020-08-26T03:11:34.714342Z"
    }
   },
   "outputs": [],
   "source": [
    "lr = LogisticRegression(max_iter=15000,\n",
    "                       solver='liblinear'\n",
    "                       )"
   ]
  },
  {
   "cell_type": "code",
   "execution_count": 73,
   "metadata": {
    "execution": {
     "iopub.execute_input": "2020-08-26T03:11:36.516198Z",
     "iopub.status.busy": "2020-08-26T03:11:36.515991Z",
     "iopub.status.idle": "2020-08-26T03:11:55.100837Z",
     "shell.execute_reply": "2020-08-26T03:11:55.100381Z",
     "shell.execute_reply.started": "2020-08-26T03:11:36.516175Z"
    }
   },
   "outputs": [
    {
     "data": {
      "text/plain": [
       "LogisticRegression(max_iter=15000, solver='liblinear')"
      ]
     },
     "execution_count": 73,
     "metadata": {},
     "output_type": "execute_result"
    }
   ],
   "source": [
    "lr.fit(train_features, y_train)"
   ]
  },
  {
   "cell_type": "code",
   "execution_count": 74,
   "metadata": {
    "execution": {
     "iopub.execute_input": "2020-08-26T03:11:56.968491Z",
     "iopub.status.busy": "2020-08-26T03:11:56.968270Z",
     "iopub.status.idle": "2020-08-26T03:12:01.609811Z",
     "shell.execute_reply": "2020-08-26T03:12:01.609340Z",
     "shell.execute_reply.started": "2020-08-26T03:11:56.968467Z"
    }
   },
   "outputs": [
    {
     "data": {
      "text/plain": [
       "0.8764655853228844"
      ]
     },
     "execution_count": 74,
     "metadata": {},
     "output_type": "execute_result"
    }
   ],
   "source": [
    "lr.score(train_features, y_train)"
   ]
  },
  {
   "cell_type": "code",
   "execution_count": 75,
   "metadata": {
    "execution": {
     "iopub.execute_input": "2020-08-26T03:12:05.054964Z",
     "iopub.status.busy": "2020-08-26T03:12:05.054745Z",
     "iopub.status.idle": "2020-08-26T03:12:05.122257Z",
     "shell.execute_reply": "2020-08-26T03:12:05.121806Z",
     "shell.execute_reply.started": "2020-08-26T03:12:05.054940Z"
    }
   },
   "outputs": [
    {
     "data": {
      "text/plain": [
       "0.8442682704574449"
      ]
     },
     "execution_count": 75,
     "metadata": {},
     "output_type": "execute_result"
    }
   ],
   "source": [
    "lr.score(test_features, y_test)\n"
   ]
  },
  {
   "cell_type": "markdown",
   "metadata": {},
   "source": [
    "<a name=\"model1_scores\"></a>\n",
    "- [Back to Contents](#contents)\n",
    "## Model 1 Scores"
   ]
  },
  {
   "cell_type": "code",
   "execution_count": 67,
   "metadata": {
    "execution": {
     "iopub.execute_input": "2020-08-26T01:05:52.471504Z",
     "iopub.status.busy": "2020-08-26T01:05:52.471284Z",
     "iopub.status.idle": "2020-08-26T01:05:52.475461Z",
     "shell.execute_reply": "2020-08-26T01:05:52.474989Z",
     "shell.execute_reply.started": "2020-08-26T01:05:52.471485Z"
    }
   },
   "outputs": [],
   "source": [
    "# Model 1: NLP Logistic Regression Model for Title only\n",
    "\n",
    "# With ngram_range=(1,1): # max features 25000   min_df was 2 in this model\n",
    "# train score: .8575481440981715\n",
    "# test score: .84117003827228\n",
    "\n",
    "# With ngram_range=(1,2): # max features 25000   min_df was 2 in this model\n",
    "# train score: .8764655853228844\n",
    "# test score: .8442682704574449\n",
    "\n",
    "# With ngram_range=(1,3): # max features 25000   min_df was 2 in this model\n",
    "# train score: .8816839803171131\n",
    "# test score: .8528704209950793\n",
    "\n",
    "# With ngram_range=(1,2): # max features 25000   min_df was 5 in this model\n",
    "# train score: .8765749346941255\n",
    "# test score: .8452524147986149\n",
    "\n",
    "# It seems the best ngram range is (1,3), min_df 2"
   ]
  },
  {
   "cell_type": "code",
   "execution_count": 68,
   "metadata": {
    "execution": {
     "iopub.execute_input": "2020-08-26T01:05:52.476693Z",
     "iopub.status.busy": "2020-08-26T01:05:52.476473Z",
     "iopub.status.idle": "2020-08-26T01:05:52.628689Z",
     "shell.execute_reply": "2020-08-26T01:05:52.628243Z",
     "shell.execute_reply.started": "2020-08-26T01:05:52.476668Z"
    }
   },
   "outputs": [],
   "source": [
    "# Get predictions\n",
    "preds = lr.predict(test_features)\n",
    "\n",
    "# Save confusion matrix values\n",
    "tn, fp, fn, tp = confusion_matrix(y_test, preds).ravel()\n",
    "\n"
   ]
  },
  {
   "cell_type": "markdown",
   "metadata": {},
   "source": [
    "<a name=\"model1_visuals\"></a>\n",
    "- [Back to Contents](#contents)\n",
    "### Model 1 Confusion Matrix"
   ]
  },
  {
   "cell_type": "code",
   "execution_count": 143,
   "metadata": {
    "execution": {
     "iopub.execute_input": "2020-08-26T02:40:48.270860Z",
     "iopub.status.busy": "2020-08-26T02:40:48.270618Z",
     "iopub.status.idle": "2020-08-26T02:40:48.495579Z",
     "shell.execute_reply": "2020-08-26T02:40:48.495181Z",
     "shell.execute_reply.started": "2020-08-26T02:40:48.270836Z"
    }
   },
   "outputs": [
    {
     "data": {
      "image/png": "[encoded data removed]",
      "text/plain": [
       "<Figure size 432x288 with 2 Axes>"
      ]
     },
     "metadata": {
      "needs_background": "light"
     },
     "output_type": "display_data"
    }
   ],
   "source": [
    "# View confusion matrix\n",
    "plot_confusion_matrix(lr, test_features, y_test, cmap='Blues', values_format='d')\n",
    "plt.title('Model 1: Title only Logistic Regression Model');"
   ]
  },
  {
   "cell_type": "code",
   "execution_count": 70,
   "metadata": {
    "execution": {
     "iopub.execute_input": "2020-08-26T01:05:52.983763Z",
     "iopub.status.busy": "2020-08-26T01:05:52.983602Z",
     "iopub.status.idle": "2020-08-26T01:05:52.986960Z",
     "shell.execute_reply": "2020-08-26T01:05:52.986408Z",
     "shell.execute_reply.started": "2020-08-26T01:05:52.983743Z"
    }
   },
   "outputs": [],
   "source": [
    "TN = 22860\n",
    "TP = 23519\n",
    "FN = 3916\n",
    "FP = 4575"
   ]
  },
  {
   "cell_type": "code",
   "execution_count": 71,
   "metadata": {
    "execution": {
     "iopub.execute_input": "2020-08-26T01:05:52.988797Z",
     "iopub.status.busy": "2020-08-26T01:05:52.988594Z",
     "iopub.status.idle": "2020-08-26T01:05:52.994669Z",
     "shell.execute_reply": "2020-08-26T01:05:52.994011Z",
     "shell.execute_reply.started": "2020-08-26T01:05:52.988773Z"
    }
   },
   "outputs": [
    {
     "name": "stdout",
     "output_type": "stream",
     "text": [
      "The Accuracy score is: 84.5%\n",
      "The Missclassification rate is: 15.5%\n",
      "The Sensitivity is: 85.7%\n",
      "The Specificity is: 83.3%\n",
      "The Precision is 83.7%\n"
     ]
    }
   ],
   "source": [
    "# Credit to Aiden\n",
    "# Accuracy:  # What percentage of observation did I correctly predict?\n",
    "print(f\"The Accuracy score is: {round((TP + TN) / (TP + TN + FP + FN), 3) * 100}%\")\n",
    "# Misclassification: # What percentage of observation did I incorrectly predict?\n",
    "print(f\"The Missclassification rate is: {round((FP + FN) / (TP + TN + FP + FN), 3) * 100}%\")\n",
    "# Sensitivity:  # Among Positives, how many did I get correctly? Same as recall\n",
    "print(f\"The Sensitivity is: {round(TP / (TP + FN), 3) * 100}%\")\n",
    "# Specificity:  # Among Negatives, how many did I get correctly?\n",
    "print(f\"The Specificity is: {round(TN / (TN + FP), 3) * 100}%\")\n",
    "# Precision: # Among Positives, how many did i Predict correct\n",
    "print(f\"The Precision is {round(TP / (TP + FP), 3) * 100}%\")"
   ]
  },
  {
   "cell_type": "markdown",
   "metadata": {},
   "source": [
    "<a name=\"model2\"></a>\n",
    "- [Back to Contents](#contents)\n",
    "## Model 2: Logistic Regression Model with  Title and Content"
   ]
  },
  {
   "cell_type": "code",
   "execution_count": 32,
   "metadata": {
    "execution": {
     "iopub.execute_input": "2020-08-26T03:04:33.047849Z",
     "iopub.status.busy": "2020-08-26T03:04:33.047625Z",
     "iopub.status.idle": "2020-08-26T03:04:33.080863Z",
     "shell.execute_reply": "2020-08-26T03:04:33.080470Z",
     "shell.execute_reply.started": "2020-08-26T03:04:33.047825Z"
    }
   },
   "outputs": [],
   "source": [
    "# First test on just the title\n",
    "X = df[['title_text_combined']]\n",
    "y = df['subreddit']"
   ]
  },
  {
   "cell_type": "code",
   "execution_count": 33,
   "metadata": {
    "execution": {
     "iopub.execute_input": "2020-08-26T03:04:34.156854Z",
     "iopub.status.busy": "2020-08-26T03:04:34.156613Z",
     "iopub.status.idle": "2020-08-26T03:04:34.160619Z",
     "shell.execute_reply": "2020-08-26T03:04:34.160038Z",
     "shell.execute_reply.started": "2020-08-26T03:04:34.156830Z"
    }
   },
   "outputs": [
    {
     "data": {
      "text/plain": [
       "(219480, 1)"
      ]
     },
     "execution_count": 33,
     "metadata": {},
     "output_type": "execute_result"
    }
   ],
   "source": [
    "X.shape"
   ]
  },
  {
   "cell_type": "code",
   "execution_count": 34,
   "metadata": {
    "execution": {
     "iopub.execute_input": "2020-08-26T03:04:34.878141Z",
     "iopub.status.busy": "2020-08-26T03:04:34.877932Z",
     "iopub.status.idle": "2020-08-26T03:04:34.881181Z",
     "shell.execute_reply": "2020-08-26T03:04:34.880830Z",
     "shell.execute_reply.started": "2020-08-26T03:04:34.878118Z"
    }
   },
   "outputs": [
    {
     "data": {
      "text/plain": [
       "(219480,)"
      ]
     },
     "execution_count": 34,
     "metadata": {},
     "output_type": "execute_result"
    }
   ],
   "source": [
    "y.shape"
   ]
  },
  {
   "cell_type": "code",
   "execution_count": 35,
   "metadata": {
    "execution": {
     "iopub.execute_input": "2020-08-26T03:04:40.620264Z",
     "iopub.status.busy": "2020-08-26T03:04:40.620046Z",
     "iopub.status.idle": "2020-08-26T03:04:40.757167Z",
     "shell.execute_reply": "2020-08-26T03:04:40.756807Z",
     "shell.execute_reply.started": "2020-08-26T03:04:40.620241Z"
    }
   },
   "outputs": [],
   "source": [
    "# Train_test_split\n",
    "X_train, X_test, y_train, y_test = train_test_split(X, y, stratify = y, random_state=42)"
   ]
  },
  {
   "cell_type": "code",
   "execution_count": 36,
   "metadata": {
    "execution": {
     "iopub.execute_input": "2020-08-26T03:04:41.813214Z",
     "iopub.status.busy": "2020-08-26T03:04:41.813081Z",
     "iopub.status.idle": "2020-08-26T03:04:41.817839Z",
     "shell.execute_reply": "2020-08-26T03:04:41.817464Z",
     "shell.execute_reply.started": "2020-08-26T03:04:41.813201Z"
    }
   },
   "outputs": [
    {
     "data": {
      "text/html": [
       "<div>\n",
       "<style scoped>\n",
       "    .dataframe tbody tr th:only-of-type {\n",
       "        vertical-align: middle;\n",
       "    }\n",
       "\n",
       "    .dataframe tbody tr th {\n",
       "        vertical-align: top;\n",
       "    }\n",
       "\n",
       "    .dataframe thead th {\n",
       "        text-align: right;\n",
       "    }\n",
       "</style>\n",
       "<table border=\"1\" class=\"dataframe\">\n",
       "  <thead>\n",
       "    <tr style=\"text-align: right;\">\n",
       "      <th></th>\n",
       "      <th>title_text_combined</th>\n",
       "    </tr>\n",
       "  </thead>\n",
       "  <tbody>\n",
       "    <tr>\n",
       "      <th>152141</th>\n",
       "      <td>want retrofit computer best best usb ports ava...</td>\n",
       "    </tr>\n",
       "    <tr>\n",
       "      <th>132626</th>\n",
       "      <td>high allow temperatures different components g...</td>\n",
       "    </tr>\n",
       "    <tr>\n",
       "      <th>115181</th>\n",
       "      <td>drivers nowadays know amds series rough patch ...</td>\n",
       "    </tr>\n",
       "    <tr>\n",
       "      <th>94517</th>\n",
       "      <td>prices make sense</td>\n",
       "    </tr>\n",
       "    <tr>\n",
       "      <th>208593</th>\n",
       "      <td>socket long term support plan upgrade cpu sock...</td>\n",
       "    </tr>\n",
       "  </tbody>\n",
       "</table>\n",
       "</div>"
      ],
      "text/plain": [
       "                                      title_text_combined\n",
       "152141  want retrofit computer best best usb ports ava...\n",
       "132626  high allow temperatures different components g...\n",
       "115181  drivers nowadays know amds series rough patch ...\n",
       "94517                                   prices make sense\n",
       "208593  socket long term support plan upgrade cpu sock..."
      ]
     },
     "execution_count": 36,
     "metadata": {},
     "output_type": "execute_result"
    }
   ],
   "source": [
    "X_train.head()"
   ]
  },
  {
   "cell_type": "code",
   "execution_count": 37,
   "metadata": {
    "execution": {
     "iopub.execute_input": "2020-08-26T03:04:42.889200Z",
     "iopub.status.busy": "2020-08-26T03:04:42.888985Z",
     "iopub.status.idle": "2020-08-26T03:04:42.892453Z",
     "shell.execute_reply": "2020-08-26T03:04:42.891916Z",
     "shell.execute_reply.started": "2020-08-26T03:04:42.889177Z"
    }
   },
   "outputs": [],
   "source": [
    "# I will test with the same parameter options\n",
    "vectorizer = CountVectorizer(ngram_range=(1,2),\n",
    "                             min_df=2,   \n",
    "                            max_features=25000\n",
    "                            )"
   ]
  },
  {
   "cell_type": "code",
   "execution_count": 38,
   "metadata": {
    "execution": {
     "iopub.execute_input": "2020-08-26T03:04:48.600860Z",
     "iopub.status.busy": "2020-08-26T03:04:48.600614Z",
     "iopub.status.idle": "2020-08-26T03:05:03.334666Z",
     "shell.execute_reply": "2020-08-26T03:05:03.334149Z",
     "shell.execute_reply.started": "2020-08-26T03:04:48.600836Z"
    }
   },
   "outputs": [],
   "source": [
    "train_features = vectorizer.fit_transform(X_train['title_text_combined'])\n",
    "test_features = vectorizer.transform(X_test['title_text_combined'])"
   ]
  },
  {
   "cell_type": "code",
   "execution_count": 39,
   "metadata": {
    "execution": {
     "iopub.execute_input": "2020-08-26T03:05:09.464585Z",
     "iopub.status.busy": "2020-08-26T03:05:09.464362Z",
     "iopub.status.idle": "2020-08-26T03:05:11.646373Z",
     "shell.execute_reply": "2020-08-26T03:05:11.645846Z",
     "shell.execute_reply.started": "2020-08-26T03:05:09.464561Z"
    }
   },
   "outputs": [],
   "source": [
    "train_features = train_features.toarray()"
   ]
  },
  {
   "cell_type": "code",
   "execution_count": 40,
   "metadata": {
    "execution": {
     "iopub.execute_input": "2020-08-26T03:05:20.830722Z",
     "iopub.status.busy": "2020-08-26T03:05:20.830488Z",
     "iopub.status.idle": "2020-08-26T03:05:20.834097Z",
     "shell.execute_reply": "2020-08-26T03:05:20.833665Z",
     "shell.execute_reply.started": "2020-08-26T03:05:20.830698Z"
    }
   },
   "outputs": [
    {
     "data": {
      "text/plain": [
       "(164610, 25000)"
      ]
     },
     "execution_count": 40,
     "metadata": {},
     "output_type": "execute_result"
    }
   ],
   "source": [
    "train_features.shape"
   ]
  },
  {
   "cell_type": "code",
   "execution_count": 41,
   "metadata": {
    "execution": {
     "iopub.execute_input": "2020-08-26T03:05:23.794467Z",
     "iopub.status.busy": "2020-08-26T03:05:23.794238Z",
     "iopub.status.idle": "2020-08-26T03:05:23.797895Z",
     "shell.execute_reply": "2020-08-26T03:05:23.797490Z",
     "shell.execute_reply.started": "2020-08-26T03:05:23.794442Z"
    }
   },
   "outputs": [
    {
     "data": {
      "text/plain": [
       "(54870, 25000)"
      ]
     },
     "execution_count": 41,
     "metadata": {},
     "output_type": "execute_result"
    }
   ],
   "source": [
    "test_features.shape"
   ]
  },
  {
   "cell_type": "code",
   "execution_count": 42,
   "metadata": {
    "execution": {
     "iopub.execute_input": "2020-08-26T03:05:30.547702Z",
     "iopub.status.busy": "2020-08-26T03:05:30.547462Z",
     "iopub.status.idle": "2020-08-26T03:05:30.564837Z",
     "shell.execute_reply": "2020-08-26T03:05:30.564413Z",
     "shell.execute_reply.started": "2020-08-26T03:05:30.547663Z"
    }
   },
   "outputs": [],
   "source": [
    "vocab = vectorizer.get_feature_names()\n"
   ]
  },
  {
   "cell_type": "code",
   "execution_count": 43,
   "metadata": {
    "execution": {
     "iopub.execute_input": "2020-08-26T03:05:31.334504Z",
     "iopub.status.busy": "2020-08-26T03:05:31.334348Z",
     "iopub.status.idle": "2020-08-26T03:05:31.337640Z",
     "shell.execute_reply": "2020-08-26T03:05:31.337274Z",
     "shell.execute_reply.started": "2020-08-26T03:05:31.334488Z"
    }
   },
   "outputs": [
    {
     "data": {
      "text/plain": [
       "array([[0, 0, 0, ..., 0, 0, 0],\n",
       "       [0, 0, 0, ..., 0, 0, 0],\n",
       "       [0, 0, 0, ..., 0, 0, 0],\n",
       "       [0, 0, 0, ..., 0, 0, 0],\n",
       "       [0, 0, 0, ..., 0, 0, 0],\n",
       "       [0, 0, 0, ..., 0, 0, 0]])"
      ]
     },
     "execution_count": 43,
     "metadata": {},
     "output_type": "execute_result"
    }
   ],
   "source": [
    "train_features[0:6]"
   ]
  },
  {
   "cell_type": "code",
   "execution_count": 44,
   "metadata": {
    "execution": {
     "iopub.execute_input": "2020-08-26T03:05:35.901741Z",
     "iopub.status.busy": "2020-08-26T03:05:35.901499Z",
     "iopub.status.idle": "2020-08-26T03:05:35.904719Z",
     "shell.execute_reply": "2020-08-26T03:05:35.904152Z",
     "shell.execute_reply.started": "2020-08-26T03:05:35.901717Z"
    }
   },
   "outputs": [],
   "source": [
    "lr = LogisticRegression(max_iter=15000,\n",
    "                       solver='liblinear')"
   ]
  },
  {
   "cell_type": "code",
   "execution_count": 45,
   "metadata": {
    "execution": {
     "iopub.execute_input": "2020-08-26T03:05:38.259848Z",
     "iopub.status.busy": "2020-08-26T03:05:38.259617Z",
     "iopub.status.idle": "2020-08-26T03:07:49.650621Z",
     "shell.execute_reply": "2020-08-26T03:07:49.650181Z",
     "shell.execute_reply.started": "2020-08-26T03:05:38.259824Z"
    }
   },
   "outputs": [
    {
     "data": {
      "text/plain": [
       "LogisticRegression(max_iter=15000, solver='liblinear')"
      ]
     },
     "execution_count": 45,
     "metadata": {},
     "output_type": "execute_result"
    }
   ],
   "source": [
    "lr.fit(train_features, y_train)"
   ]
  },
  {
   "cell_type": "code",
   "execution_count": 46,
   "metadata": {
    "execution": {
     "iopub.execute_input": "2020-08-26T03:07:55.901421Z",
     "iopub.status.busy": "2020-08-26T03:07:55.901203Z",
     "iopub.status.idle": "2020-08-26T03:08:00.838176Z",
     "shell.execute_reply": "2020-08-26T03:08:00.837709Z",
     "shell.execute_reply.started": "2020-08-26T03:07:55.901398Z"
    }
   },
   "outputs": [
    {
     "data": {
      "text/plain": [
       "0.9332604337525059"
      ]
     },
     "execution_count": 46,
     "metadata": {},
     "output_type": "execute_result"
    }
   ],
   "source": [
    "lr.score(train_features, y_train)"
   ]
  },
  {
   "cell_type": "code",
   "execution_count": 47,
   "metadata": {
    "execution": {
     "iopub.execute_input": "2020-08-26T03:08:01.862529Z",
     "iopub.status.busy": "2020-08-26T03:08:01.862335Z",
     "iopub.status.idle": "2020-08-26T03:08:01.934561Z",
     "shell.execute_reply": "2020-08-26T03:08:01.934191Z",
     "shell.execute_reply.started": "2020-08-26T03:08:01.862506Z"
    }
   },
   "outputs": [
    {
     "data": {
      "text/plain": [
       "0.8841443411700383"
      ]
     },
     "execution_count": 47,
     "metadata": {},
     "output_type": "execute_result"
    }
   ],
   "source": [
    "lr.score(test_features, y_test)\n"
   ]
  },
  {
   "cell_type": "markdown",
   "metadata": {},
   "source": [
    "<a name=\"model2_scores\"></a>\n",
    "- [Back to Contents](#contents)\n",
    "## Model 2 Scores"
   ]
  },
  {
   "cell_type": "code",
   "execution_count": 88,
   "metadata": {
    "execution": {
     "iopub.execute_input": "2020-08-26T01:08:30.760451Z",
     "iopub.status.busy": "2020-08-26T01:08:30.760356Z",
     "iopub.status.idle": "2020-08-26T01:08:30.762536Z",
     "shell.execute_reply": "2020-08-26T01:08:30.762079Z",
     "shell.execute_reply.started": "2020-08-26T01:08:30.760438Z"
    }
   },
   "outputs": [],
   "source": [
    "# Model 2: NLP Logistic Regression Model with Title and Selftext\n",
    "\n",
    "# With ngram_range=(1,1): # max features 25000   min_df was 2 in this model\n",
    "# train score: .9072049085717757\n",
    "# test score: .879861490796428\n",
    "\n",
    "# With ngram_range=(1,2): # max features 25000   min_df was 2 in this model\n",
    "# train score: .9332604337525059\n",
    "# test score: .8841443411700383\n",
    "\n",
    "# With ngram_range=(1,3): # max features 25000   min_df was 2 in this model\n",
    "# train score: .9319482412976126\n",
    "# test score: .8877164206305814\n",
    "\n",
    "# With ngram_range=(1,2): # max features 25000   min_df was 5 in this model\n",
    "# train score: .9332118340319543\n",
    "# test score: .8839074175323491\n",
    "\n",
    "\n",
    "# It seen the best ngram range is (1,2) min_df 2"
   ]
  },
  {
   "cell_type": "code",
   "execution_count": 89,
   "metadata": {
    "execution": {
     "iopub.execute_input": "2020-08-26T01:08:30.763841Z",
     "iopub.status.busy": "2020-08-26T01:08:30.763619Z",
     "iopub.status.idle": "2020-08-26T01:08:30.917176Z",
     "shell.execute_reply": "2020-08-26T01:08:30.916715Z",
     "shell.execute_reply.started": "2020-08-26T01:08:30.763823Z"
    }
   },
   "outputs": [],
   "source": [
    "# Get predictions\n",
    "preds = lr.predict(test_features)\n",
    "\n",
    "# Save confusion matrix values\n",
    "tn, fp, fn, tp = confusion_matrix(y_test, preds).ravel()\n",
    "\n"
   ]
  },
  {
   "cell_type": "markdown",
   "metadata": {},
   "source": [
    "<a name=\"model2_visuals\"></a>\n",
    "- [Back to Contents](#contents)\n",
    "### Model 2 Confusion Matrix"
   ]
  },
  {
   "cell_type": "code",
   "execution_count": 142,
   "metadata": {
    "execution": {
     "iopub.execute_input": "2020-08-26T02:39:52.343815Z",
     "iopub.status.busy": "2020-08-26T02:39:52.343555Z",
     "iopub.status.idle": "2020-08-26T02:39:52.572162Z",
     "shell.execute_reply": "2020-08-26T02:39:52.571692Z",
     "shell.execute_reply.started": "2020-08-26T02:39:52.343788Z"
    }
   },
   "outputs": [
    {
     "data": {
      "image/png": "[encoded data removed]",
      "text/plain": [
       "<Figure size 432x288 with 2 Axes>"
      ]
     },
     "metadata": {
      "needs_background": "light"
     },
     "output_type": "display_data"
    }
   ],
   "source": [
    "# View confusion matrix\n",
    "plot_confusion_matrix(lr, test_features, y_test, cmap='Blues', values_format='d')\n",
    "plt.title('Model 2: Title and Contents \\nLogistic Regression Model');"
   ]
  },
  {
   "cell_type": "code",
   "execution_count": 91,
   "metadata": {
    "execution": {
     "iopub.execute_input": "2020-08-26T01:08:31.170391Z",
     "iopub.status.busy": "2020-08-26T01:08:31.170191Z",
     "iopub.status.idle": "2020-08-26T01:08:31.173095Z",
     "shell.execute_reply": "2020-08-26T01:08:31.172708Z",
     "shell.execute_reply.started": "2020-08-26T01:08:31.170366Z"
    }
   },
   "outputs": [],
   "source": [
    "TN = 24727\n",
    "TP = 23773\n",
    "FN = 3662\n",
    "FP = 2708"
   ]
  },
  {
   "cell_type": "code",
   "execution_count": 92,
   "metadata": {
    "execution": {
     "iopub.execute_input": "2020-08-26T01:08:31.175341Z",
     "iopub.status.busy": "2020-08-26T01:08:31.175082Z",
     "iopub.status.idle": "2020-08-26T01:08:31.179973Z",
     "shell.execute_reply": "2020-08-26T01:08:31.179152Z",
     "shell.execute_reply.started": "2020-08-26T01:08:31.175315Z"
    }
   },
   "outputs": [
    {
     "name": "stdout",
     "output_type": "stream",
     "text": [
      "The Accuracy score is: 88.39%\n",
      "The Missclassification rate is: 11.61%\n",
      "The Sensitivity is: 86.65%\n",
      "The Specificity is: 90.13%\n",
      "The Precision is 89.8%\n"
     ]
    }
   ],
   "source": [
    "# Accuracy:  # What percentage of observation did I correctly predict?\n",
    "print(f\"The Accuracy score is: {round((TP + TN) / (TP + TN + FP + FN), 4) * 100}%\")\n",
    "# Misclassification: # What percentage of observation did I incorrectly predict?\n",
    "print(f\"The Missclassification rate is: {round((FP + FN) / (TP + TN + FP + FN), 4) * 100}%\")\n",
    "# Sensitivity:  # Among Positives, how many did I get correctly? Same as recall\n",
    "print(f\"The Sensitivity is: {round(TP / (TP + FN), 4) * 100}%\")\n",
    "# Specificity:  # Among Negatives, how many did I get correctly?\n",
    "print(f\"The Specificity is: {round(TN / (TN + FP), 4) * 100}%\")\n",
    "# Precision: # Among Positives, how many did i Predict correct\n",
    "print(f\"The Precision is {round(TP / (TP + FP), 3) * 100}%\")"
   ]
  },
  {
   "cell_type": "code",
   "execution_count": 93,
   "metadata": {
    "execution": {
     "iopub.execute_input": "2020-08-26T01:08:31.180742Z",
     "iopub.status.busy": "2020-08-26T01:08:31.180637Z",
     "iopub.status.idle": "2020-08-26T01:08:31.182572Z",
     "shell.execute_reply": "2020-08-26T01:08:31.182221Z",
     "shell.execute_reply.started": "2020-08-26T01:08:31.180730Z"
    }
   },
   "outputs": [],
   "source": [
    "# So far my best models are ones that include both title and the selftext columns with n_grams (1,2)"
   ]
  },
  {
   "cell_type": "code",
   "execution_count": 94,
   "metadata": {
    "execution": {
     "iopub.execute_input": "2020-08-26T01:08:31.184983Z",
     "iopub.status.busy": "2020-08-26T01:08:31.184878Z",
     "iopub.status.idle": "2020-08-26T01:08:31.191550Z",
     "shell.execute_reply": "2020-08-26T01:08:31.190955Z",
     "shell.execute_reply.started": "2020-08-26T01:08:31.184971Z"
    }
   },
   "outputs": [
    {
     "data": {
      "text/plain": [
       "[25000]"
      ]
     },
     "execution_count": 94,
     "metadata": {},
     "output_type": "execute_result"
    }
   ],
   "source": [
    "[len(n) for n in lr.coef_]"
   ]
  },
  {
   "cell_type": "code",
   "execution_count": 95,
   "metadata": {
    "execution": {
     "iopub.execute_input": "2020-08-26T01:08:31.192415Z",
     "iopub.status.busy": "2020-08-26T01:08:31.192262Z",
     "iopub.status.idle": "2020-08-26T01:08:32.944393Z",
     "shell.execute_reply": "2020-08-26T01:08:32.943919Z",
     "shell.execute_reply.started": "2020-08-26T01:08:31.192395Z"
    }
   },
   "outputs": [],
   "source": [
    "coef_df = pd.DataFrame([n for n in lr.coef_], columns=vectorizer.get_feature_names()).T"
   ]
  },
  {
   "cell_type": "code",
   "execution_count": 99,
   "metadata": {
    "execution": {
     "iopub.execute_input": "2020-08-26T01:59:45.913210Z",
     "iopub.status.busy": "2020-08-26T01:59:45.912988Z",
     "iopub.status.idle": "2020-08-26T01:59:45.923446Z",
     "shell.execute_reply": "2020-08-26T01:59:45.923071Z",
     "shell.execute_reply.started": "2020-08-26T01:59:45.913187Z"
    }
   },
   "outputs": [
    {
     "data": {
      "text/html": [
       "<div>\n",
       "<style scoped>\n",
       "    .dataframe tbody tr th:only-of-type {\n",
       "        vertical-align: middle;\n",
       "    }\n",
       "\n",
       "    .dataframe tbody tr th {\n",
       "        vertical-align: top;\n",
       "    }\n",
       "\n",
       "    .dataframe thead th {\n",
       "        text-align: right;\n",
       "    }\n",
       "</style>\n",
       "<table border=\"1\" class=\"dataframe\">\n",
       "  <thead>\n",
       "    <tr style=\"text-align: right;\">\n",
       "      <th></th>\n",
       "      <th>0</th>\n",
       "    </tr>\n",
       "  </thead>\n",
       "  <tbody>\n",
       "    <tr>\n",
       "      <th>cl memory</th>\n",
       "      <td>2.969861</td>\n",
       "    </tr>\n",
       "    <tr>\n",
       "      <th>amd wraith</th>\n",
       "      <td>2.423745</td>\n",
       "    </tr>\n",
       "    <tr>\n",
       "      <th>temps low</th>\n",
       "      <td>2.378933</td>\n",
       "    </tr>\n",
       "    <tr>\n",
       "      <th>zi</th>\n",
       "      <td>2.312894</td>\n",
       "    </tr>\n",
       "    <tr>\n",
       "      <th>supers</th>\n",
       "      <td>2.311313</td>\n",
       "    </tr>\n",
       "    <tr>\n",
       "      <th>zp</th>\n",
       "      <td>2.247580</td>\n",
       "    </tr>\n",
       "    <tr>\n",
       "      <th>free time</th>\n",
       "      <td>2.222362</td>\n",
       "    </tr>\n",
       "    <tr>\n",
       "      <th>sdd</th>\n",
       "      <td>2.172693</td>\n",
       "    </tr>\n",
       "    <tr>\n",
       "      <th>havent even</th>\n",
       "      <td>2.146657</td>\n",
       "    </tr>\n",
       "    <tr>\n",
       "      <th>bought gt</th>\n",
       "      <td>2.131466</td>\n",
       "    </tr>\n",
       "    <tr>\n",
       "      <th>vgaq</th>\n",
       "      <td>2.052682</td>\n",
       "    </tr>\n",
       "    <tr>\n",
       "      <th>rt series</th>\n",
       "      <td>2.032773</td>\n",
       "    </tr>\n",
       "    <tr>\n",
       "      <th>seated properly</th>\n",
       "      <td>2.013155</td>\n",
       "    </tr>\n",
       "    <tr>\n",
       "      <th>thinking switching</th>\n",
       "      <td>2.013054</td>\n",
       "    </tr>\n",
       "    <tr>\n",
       "      <th>problem https</th>\n",
       "      <td>2.010111</td>\n",
       "    </tr>\n",
       "    <tr>\n",
       "      <th>didnt go</th>\n",
       "      <td>1.996502</td>\n",
       "    </tr>\n",
       "    <tr>\n",
       "      <th>amd cooler</th>\n",
       "      <td>1.995802</td>\n",
       "    </tr>\n",
       "    <tr>\n",
       "      <th>refmp_s_a__dchildamp</th>\n",
       "      <td>1.988375</td>\n",
       "    </tr>\n",
       "    <tr>\n",
       "      <th>amd athlon</th>\n",
       "      <td>1.980840</td>\n",
       "    </tr>\n",
       "    <tr>\n",
       "      <th>intel processor</th>\n",
       "      <td>1.967976</td>\n",
       "    </tr>\n",
       "  </tbody>\n",
       "</table>\n",
       "</div>"
      ],
      "text/plain": [
       "                             0\n",
       "cl memory             2.969861\n",
       "amd wraith            2.423745\n",
       "temps low             2.378933\n",
       "zi                    2.312894\n",
       "supers                2.311313\n",
       "zp                    2.247580\n",
       "free time             2.222362\n",
       "sdd                   2.172693\n",
       "havent even           2.146657\n",
       "bought gt             2.131466\n",
       "vgaq                  2.052682\n",
       "rt series             2.032773\n",
       "seated properly       2.013155\n",
       "thinking switching    2.013054\n",
       "problem https         2.010111\n",
       "didnt go              1.996502\n",
       "amd cooler            1.995802\n",
       "refmp_s_a__dchildamp  1.988375\n",
       "amd athlon            1.980840\n",
       "intel processor       1.967976"
      ]
     },
     "execution_count": 99,
     "metadata": {},
     "output_type": "execute_result"
    }
   ],
   "source": [
    "# Coefficient highs and lows\n",
    "# Top features for indicating post is for subreddit AMD\n",
    "amd_coefs = coef_df.sort_values(by=0, ascending=False).head(20)\n",
    "amd_coefs"
   ]
  },
  {
   "cell_type": "code",
   "execution_count": 100,
   "metadata": {
    "execution": {
     "iopub.execute_input": "2020-08-26T02:00:10.679335Z",
     "iopub.status.busy": "2020-08-26T02:00:10.679112Z",
     "iopub.status.idle": "2020-08-26T02:00:10.689155Z",
     "shell.execute_reply": "2020-08-26T02:00:10.688796Z",
     "shell.execute_reply.started": "2020-08-26T02:00:10.679311Z"
    }
   },
   "outputs": [
    {
     "data": {
      "text/html": [
       "<div>\n",
       "<style scoped>\n",
       "    .dataframe tbody tr th:only-of-type {\n",
       "        vertical-align: middle;\n",
       "    }\n",
       "\n",
       "    .dataframe tbody tr th {\n",
       "        vertical-align: top;\n",
       "    }\n",
       "\n",
       "    .dataframe thead th {\n",
       "        text-align: right;\n",
       "    }\n",
       "</style>\n",
       "<table border=\"1\" class=\"dataframe\">\n",
       "  <thead>\n",
       "    <tr style=\"text-align: right;\">\n",
       "      <th></th>\n",
       "      <th>0</th>\n",
       "    </tr>\n",
       "  </thead>\n",
       "  <tbody>\n",
       "    <tr>\n",
       "      <th>intel nvidia</th>\n",
       "      <td>-2.150911</td>\n",
       "    </tr>\n",
       "    <tr>\n",
       "      <th>tried install</th>\n",
       "      <td>-2.152822</td>\n",
       "    </tr>\n",
       "    <tr>\n",
       "      <th>full amd</th>\n",
       "      <td>-2.162299</td>\n",
       "    </tr>\n",
       "    <tr>\n",
       "      <th>since build</th>\n",
       "      <td>-2.177977</td>\n",
       "    </tr>\n",
       "    <tr>\n",
       "      <th>need information</th>\n",
       "      <td>-2.224457</td>\n",
       "    </tr>\n",
       "    <tr>\n",
       "      <th>fans put</th>\n",
       "      <td>-2.242616</td>\n",
       "    </tr>\n",
       "    <tr>\n",
       "      <th>everything think</th>\n",
       "      <td>-2.270910</td>\n",
       "    </tr>\n",
       "    <tr>\n",
       "      <th>never go</th>\n",
       "      <td>-2.281564</td>\n",
       "    </tr>\n",
       "    <tr>\n",
       "      <th>division</th>\n",
       "      <td>-2.297085</td>\n",
       "    </tr>\n",
       "    <tr>\n",
       "      <th>navi</th>\n",
       "      <td>-2.331819</td>\n",
       "    </tr>\n",
       "    <tr>\n",
       "      <th>zenith</th>\n",
       "      <td>-2.344793</td>\n",
       "    </tr>\n",
       "    <tr>\n",
       "      <th>rdna</th>\n",
       "      <td>-2.357906</td>\n",
       "    </tr>\n",
       "    <tr>\n",
       "      <th>rgb gaming</th>\n",
       "      <td>-2.406608</td>\n",
       "    </tr>\n",
       "    <tr>\n",
       "      <th>abba</th>\n",
       "      <td>-2.458437</td>\n",
       "    </tr>\n",
       "    <tr>\n",
       "      <th>ryzen laptop</th>\n",
       "      <td>-2.586339</td>\n",
       "    </tr>\n",
       "    <tr>\n",
       "      <th>ireddit</th>\n",
       "      <td>-2.642952</td>\n",
       "    </tr>\n",
       "    <tr>\n",
       "      <th>flair</th>\n",
       "      <td>-2.704776</td>\n",
       "    </tr>\n",
       "    <tr>\n",
       "      <th>relive</th>\n",
       "      <td>-2.864133</td>\n",
       "    </tr>\n",
       "    <tr>\n",
       "      <th>aib</th>\n",
       "      <td>-3.105778</td>\n",
       "    </tr>\n",
       "    <tr>\n",
       "      <th>storemi</th>\n",
       "      <td>-3.377340</td>\n",
       "    </tr>\n",
       "  </tbody>\n",
       "</table>\n",
       "</div>"
      ],
      "text/plain": [
       "                         0\n",
       "intel nvidia     -2.150911\n",
       "tried install    -2.152822\n",
       "full amd         -2.162299\n",
       "since build      -2.177977\n",
       "need information -2.224457\n",
       "fans put         -2.242616\n",
       "everything think -2.270910\n",
       "never go         -2.281564\n",
       "division         -2.297085\n",
       "navi             -2.331819\n",
       "zenith           -2.344793\n",
       "rdna             -2.357906\n",
       "rgb gaming       -2.406608\n",
       "abba             -2.458437\n",
       "ryzen laptop     -2.586339\n",
       "ireddit          -2.642952\n",
       "flair            -2.704776\n",
       "relive           -2.864133\n",
       "aib              -3.105778\n",
       "storemi          -3.377340"
      ]
     },
     "execution_count": 100,
     "metadata": {},
     "output_type": "execute_result"
    }
   ],
   "source": [
    "# Coefficient highs and lows\n",
    "# Top features for indicating post is for subreddit Build PC\n",
    "\n",
    "build_pc_coefs = coef_df.sort_values(by=0, ascending=False).tail(20)\n",
    "build_pc_coefs"
   ]
  },
  {
   "cell_type": "markdown",
   "metadata": {},
   "source": [
    "<a name=\"coefs\"></a>\n",
    "- [Back to Contents](#contents)\n",
    "## Interpretting Coefficients"
   ]
  },
  {
   "cell_type": "code",
   "execution_count": 140,
   "metadata": {
    "execution": {
     "iopub.execute_input": "2020-08-26T02:38:38.613137Z",
     "iopub.status.busy": "2020-08-26T02:38:38.612913Z",
     "iopub.status.idle": "2020-08-26T02:38:38.615973Z",
     "shell.execute_reply": "2020-08-26T02:38:38.615614Z",
     "shell.execute_reply.started": "2020-08-26T02:38:38.613113Z"
    }
   },
   "outputs": [],
   "source": [
    "# Credit to: https://towardsdatascience.com/interpreting-coefficients-in-linear-and-logistic-regression-6ddf1295f6f1\n",
    "odds_amd = np.exp(amd_coefs)\n"
   ]
  },
  {
   "cell_type": "code",
   "execution_count": 126,
   "metadata": {
    "execution": {
     "iopub.execute_input": "2020-08-26T02:29:01.732424Z",
     "iopub.status.busy": "2020-08-26T02:29:01.732203Z",
     "iopub.status.idle": "2020-08-26T02:29:01.735616Z",
     "shell.execute_reply": "2020-08-26T02:29:01.735384Z",
     "shell.execute_reply.started": "2020-08-26T02:29:01.732400Z"
    }
   },
   "outputs": [],
   "source": [
    "odds_amd.rename(columns={0: 'Highest Amd Odds'}, inplace=True)"
   ]
  },
  {
   "cell_type": "code",
   "execution_count": 137,
   "metadata": {
    "execution": {
     "iopub.execute_input": "2020-08-26T02:35:38.107803Z",
     "iopub.status.busy": "2020-08-26T02:35:38.107572Z",
     "iopub.status.idle": "2020-08-26T02:35:38.115081Z",
     "shell.execute_reply": "2020-08-26T02:35:38.114665Z",
     "shell.execute_reply.started": "2020-08-26T02:35:38.107780Z"
    }
   },
   "outputs": [
    {
     "data": {
      "text/html": [
       "<div>\n",
       "<style scoped>\n",
       "    .dataframe tbody tr th:only-of-type {\n",
       "        vertical-align: middle;\n",
       "    }\n",
       "\n",
       "    .dataframe tbody tr th {\n",
       "        vertical-align: top;\n",
       "    }\n",
       "\n",
       "    .dataframe thead th {\n",
       "        text-align: right;\n",
       "    }\n",
       "</style>\n",
       "<table border=\"1\" class=\"dataframe\">\n",
       "  <thead>\n",
       "    <tr style=\"text-align: right;\">\n",
       "      <th></th>\n",
       "      <th>Highest Amd Odds</th>\n",
       "    </tr>\n",
       "  </thead>\n",
       "  <tbody>\n",
       "    <tr>\n",
       "      <th>cl memory</th>\n",
       "      <td>19.489206</td>\n",
       "    </tr>\n",
       "    <tr>\n",
       "      <th>amd wraith</th>\n",
       "      <td>11.288051</td>\n",
       "    </tr>\n",
       "    <tr>\n",
       "      <th>temps low</th>\n",
       "      <td>10.793375</td>\n",
       "    </tr>\n",
       "    <tr>\n",
       "      <th>zi</th>\n",
       "      <td>10.103625</td>\n",
       "    </tr>\n",
       "    <tr>\n",
       "      <th>supers</th>\n",
       "      <td>10.087663</td>\n",
       "    </tr>\n",
       "    <tr>\n",
       "      <th>zp</th>\n",
       "      <td>9.464808</td>\n",
       "    </tr>\n",
       "    <tr>\n",
       "      <th>free time</th>\n",
       "      <td>9.229105</td>\n",
       "    </tr>\n",
       "    <tr>\n",
       "      <th>sdd</th>\n",
       "      <td>8.781899</td>\n",
       "    </tr>\n",
       "    <tr>\n",
       "      <th>havent even</th>\n",
       "      <td>8.556207</td>\n",
       "    </tr>\n",
       "    <tr>\n",
       "      <th>bought gt</th>\n",
       "      <td>8.427214</td>\n",
       "    </tr>\n",
       "    <tr>\n",
       "      <th>vgaq</th>\n",
       "      <td>7.788766</td>\n",
       "    </tr>\n",
       "    <tr>\n",
       "      <th>rt series</th>\n",
       "      <td>7.635230</td>\n",
       "    </tr>\n",
       "    <tr>\n",
       "      <th>seated properly</th>\n",
       "      <td>7.486901</td>\n",
       "    </tr>\n",
       "    <tr>\n",
       "      <th>thinking switching</th>\n",
       "      <td>7.486148</td>\n",
       "    </tr>\n",
       "    <tr>\n",
       "      <th>problem https</th>\n",
       "      <td>7.464145</td>\n",
       "    </tr>\n",
       "  </tbody>\n",
       "</table>\n",
       "</div>"
      ],
      "text/plain": [
       "                    Highest Amd Odds\n",
       "cl memory                  19.489206\n",
       "amd wraith                 11.288051\n",
       "temps low                  10.793375\n",
       "zi                         10.103625\n",
       "supers                     10.087663\n",
       "zp                          9.464808\n",
       "free time                   9.229105\n",
       "sdd                         8.781899\n",
       "havent even                 8.556207\n",
       "bought gt                   8.427214\n",
       "vgaq                        7.788766\n",
       "rt series                   7.635230\n",
       "seated properly             7.486901\n",
       "thinking switching          7.486148\n",
       "problem https               7.464145"
      ]
     },
     "execution_count": 137,
     "metadata": {},
     "output_type": "execute_result"
    }
   ],
   "source": [
    "odds_amd[:15]"
   ]
  },
  {
   "cell_type": "code",
   "execution_count": 138,
   "metadata": {
    "execution": {
     "iopub.execute_input": "2020-08-26T02:37:13.020409Z",
     "iopub.status.busy": "2020-08-26T02:37:13.020267Z",
     "iopub.status.idle": "2020-08-26T02:37:13.023591Z",
     "shell.execute_reply": "2020-08-26T02:37:13.023089Z",
     "shell.execute_reply.started": "2020-08-26T02:37:13.020396Z"
    }
   },
   "outputs": [],
   "source": [
    "odds_least_amd = np.exp(build_pc_coefs)\n",
    "odds_least_amd.rename(columns={0: 'Lowest Amd Odds'}, inplace=True)\n"
   ]
  },
  {
   "cell_type": "code",
   "execution_count": 139,
   "metadata": {
    "execution": {
     "iopub.execute_input": "2020-08-26T02:37:14.657531Z",
     "iopub.status.busy": "2020-08-26T02:37:14.657312Z",
     "iopub.status.idle": "2020-08-26T02:37:14.664551Z",
     "shell.execute_reply": "2020-08-26T02:37:14.664238Z",
     "shell.execute_reply.started": "2020-08-26T02:37:14.657507Z"
    }
   },
   "outputs": [
    {
     "data": {
      "text/html": [
       "<div>\n",
       "<style scoped>\n",
       "    .dataframe tbody tr th:only-of-type {\n",
       "        vertical-align: middle;\n",
       "    }\n",
       "\n",
       "    .dataframe tbody tr th {\n",
       "        vertical-align: top;\n",
       "    }\n",
       "\n",
       "    .dataframe thead th {\n",
       "        text-align: right;\n",
       "    }\n",
       "</style>\n",
       "<table border=\"1\" class=\"dataframe\">\n",
       "  <thead>\n",
       "    <tr style=\"text-align: right;\">\n",
       "      <th></th>\n",
       "      <th>Lowest Amd Odds</th>\n",
       "    </tr>\n",
       "  </thead>\n",
       "  <tbody>\n",
       "    <tr>\n",
       "      <th>fans put</th>\n",
       "      <td>0.106180</td>\n",
       "    </tr>\n",
       "    <tr>\n",
       "      <th>everything think</th>\n",
       "      <td>0.103218</td>\n",
       "    </tr>\n",
       "    <tr>\n",
       "      <th>never go</th>\n",
       "      <td>0.102124</td>\n",
       "    </tr>\n",
       "    <tr>\n",
       "      <th>division</th>\n",
       "      <td>0.100552</td>\n",
       "    </tr>\n",
       "    <tr>\n",
       "      <th>navi</th>\n",
       "      <td>0.097119</td>\n",
       "    </tr>\n",
       "    <tr>\n",
       "      <th>zenith</th>\n",
       "      <td>0.095867</td>\n",
       "    </tr>\n",
       "    <tr>\n",
       "      <th>rdna</th>\n",
       "      <td>0.094618</td>\n",
       "    </tr>\n",
       "    <tr>\n",
       "      <th>rgb gaming</th>\n",
       "      <td>0.090120</td>\n",
       "    </tr>\n",
       "    <tr>\n",
       "      <th>abba</th>\n",
       "      <td>0.085569</td>\n",
       "    </tr>\n",
       "    <tr>\n",
       "      <th>ryzen laptop</th>\n",
       "      <td>0.075295</td>\n",
       "    </tr>\n",
       "    <tr>\n",
       "      <th>ireddit</th>\n",
       "      <td>0.071151</td>\n",
       "    </tr>\n",
       "    <tr>\n",
       "      <th>flair</th>\n",
       "      <td>0.066885</td>\n",
       "    </tr>\n",
       "    <tr>\n",
       "      <th>relive</th>\n",
       "      <td>0.057033</td>\n",
       "    </tr>\n",
       "    <tr>\n",
       "      <th>aib</th>\n",
       "      <td>0.044790</td>\n",
       "    </tr>\n",
       "    <tr>\n",
       "      <th>storemi</th>\n",
       "      <td>0.034138</td>\n",
       "    </tr>\n",
       "  </tbody>\n",
       "</table>\n",
       "</div>"
      ],
      "text/plain": [
       "                  Lowest Amd Odds\n",
       "fans put                 0.106180\n",
       "everything think         0.103218\n",
       "never go                 0.102124\n",
       "division                 0.100552\n",
       "navi                     0.097119\n",
       "zenith                   0.095867\n",
       "rdna                     0.094618\n",
       "rgb gaming               0.090120\n",
       "abba                     0.085569\n",
       "ryzen laptop             0.075295\n",
       "ireddit                  0.071151\n",
       "flair                    0.066885\n",
       "relive                   0.057033\n",
       "aib                      0.044790\n",
       "storemi                  0.034138"
      ]
     },
     "execution_count": 139,
     "metadata": {},
     "output_type": "execute_result"
    }
   ],
   "source": [
    "# Credit to: https://towardsdatascience.com/interpreting-coefficients-in-linear-and-logistic-regression-6ddf1295f6f1\n",
    "odds_least_amd[5:]"
   ]
  },
  {
   "cell_type": "markdown",
   "metadata": {
    "execution": {
     "iopub.execute_input": "2020-08-26T04:28:57.858450Z",
     "iopub.status.busy": "2020-08-26T04:28:57.858233Z",
     "iopub.status.idle": "2020-08-26T04:28:57.861925Z",
     "shell.execute_reply": "2020-08-26T04:28:57.861276Z",
     "shell.execute_reply.started": "2020-08-26T04:28:57.858425Z"
    }
   },
   "source": [
    "<a name=\"save\"></a>\n",
    "- [Back to Contents](#contents)\n",
    "# Save to file"
   ]
  },
  {
   "cell_type": "code",
   "execution_count": 98,
   "metadata": {
    "execution": {
     "iopub.execute_input": "2020-08-26T01:08:32.965480Z",
     "iopub.status.busy": "2020-08-26T01:08:32.965392Z",
     "iopub.status.idle": "2020-08-26T01:08:36.262303Z",
     "shell.execute_reply": "2020-08-26T01:08:36.261833Z",
     "shell.execute_reply.started": "2020-08-26T01:08:32.965470Z"
    }
   },
   "outputs": [],
   "source": [
    "# Save to file for TensorFlow models:\n",
    "try:\n",
    "    df.to_csv('./Data/tf_df.csv') \n",
    "except:\n",
    "    pass\n",
    "    "
   ]
  },
  {
   "cell_type": "code",
   "execution_count": null,
   "metadata": {},
   "outputs": [],
   "source": []
  }
 ],
 "metadata": {
  "kernelspec": {
   "display_name": "Python 3",
   "language": "python",
   "name": "python3"
  },
  "language_info": {
   "codemirror_mode": {
    "name": "ipython",
    "version": 3
   },
   "file_extension": ".py",
   "mimetype": "text/x-python",
   "name": "python",
   "nbconvert_exporter": "python",
   "pygments_lexer": "ipython3",
   "version": "3.7.7"
  }
 },
 "nbformat": 4,
 "nbformat_minor": 4
}
