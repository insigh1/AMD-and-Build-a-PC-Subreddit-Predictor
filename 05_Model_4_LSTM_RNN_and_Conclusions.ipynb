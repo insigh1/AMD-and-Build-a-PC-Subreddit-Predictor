{
 "cells": [
  {
   "cell_type": "markdown",
   "metadata": {},
   "source": [
    "## Long Short-Term Memory Recurrent Neural Network Model (LSTM RNN)\n",
    "#### Credit to Aiden Curley for assistance"
   ]
  },
  {
   "cell_type": "markdown",
   "metadata": {},
   "source": [
    "<a name=\"contents\"></a>\n",
    "- [Contents](#contents)  \n",
    "    - [Imports](#imports)  \n",
    "    - [Data Cleaning](#cleaning)  \n",
    "    - [Preprocessing](#preprocess)  \n",
    "    - [LSTM RNN Model on Title Only](#lstm)  \n",
    "    - [Test on new Posts](#tests)     \n",
    "    - [LSTM RNN Model Scores](#scores) \n",
    "    - [LSTM RNN Model Visuals](#visuals)  \n",
    "    - [Conclusions](#conclusions)  \n",
    "    - [Next Steps](#Next_Steps)  "
   ]
  },
  {
   "cell_type": "markdown",
   "metadata": {},
   "source": [
    "<a name=\"imports\"></a>\n",
    "- [Back to Contents](#contents)\n",
    "## Imports"
   ]
  },
  {
   "cell_type": "code",
   "execution_count": 1,
   "metadata": {
    "execution": {
     "iopub.execute_input": "2020-08-30T02:50:41.953978Z",
     "iopub.status.busy": "2020-08-30T02:50:41.953731Z",
     "iopub.status.idle": "2020-08-30T02:50:43.853241Z",
     "shell.execute_reply": "2020-08-30T02:50:43.852631Z",
     "shell.execute_reply.started": "2020-08-30T02:50:41.953947Z"
    }
   },
   "outputs": [
    {
     "name": "stderr",
     "output_type": "stream",
     "text": [
      "[nltk_data] Downloading package stopwords to /home/dlee/nltk_data...\n",
      "[nltk_data]   Package stopwords is already up-to-date!\n"
     ]
    }
   ],
   "source": [
    "import numpy as np \n",
    "import pandas as pd\n",
    "import matplotlib.pyplot as plt\n",
    "from keras.preprocessing.text import Tokenizer\n",
    "from keras.preprocessing.sequence import pad_sequences\n",
    "from keras.models import Sequential\n",
    "from keras.layers import Dense, Embedding, LSTM, SpatialDropout1D\n",
    "from sklearn.model_selection import train_test_split\n",
    "from keras.utils.np_utils import to_categorical\n",
    "from keras.callbacks import EarlyStopping\n",
    "from keras.layers import Dropout\n",
    "import re\n",
    "from sklearn.feature_extraction.text import CountVectorizer\n",
    "from nltk.corpus import stopwords\n",
    "from nltk import word_tokenize\n",
    "STOPWORDS = set(stopwords.words('english'))\n",
    "from bs4 import BeautifulSoup\n",
    "import nltk\n",
    "import cufflinks\n",
    "from IPython.core.interactiveshell import InteractiveShell\n",
    "import plotly.figure_factory as ff\n",
    "InteractiveShell.ast_node_interactivity = 'all'\n",
    "from plotly.offline import iplot\n",
    "import seaborn as sns\n",
    "from sklearn.model_selection import train_test_split, cross_val_score\n",
    "from sklearn.preprocessing import StandardScaler\n",
    "from sklearn.linear_model import LogisticRegression\n",
    "from sklearn.linear_model import Lasso, LassoCV\n",
    "nltk.download('stopwords')\n",
    "from collections import Counter\n",
    "import pickle\n",
    " \n",
    "\n",
    "import tensorflow as tf"
   ]
  },
  {
   "cell_type": "markdown",
   "metadata": {},
   "source": [
    "<a name=\"cleaning\"></a>\n",
    "- [Back to Contents](#contents)\n",
    "    # Data Cleaning"
   ]
  },
  {
   "cell_type": "code",
   "execution_count": 2,
   "metadata": {
    "execution": {
     "iopub.execute_input": "2020-08-30T02:50:43.854001Z",
     "iopub.status.busy": "2020-08-30T02:50:43.853902Z",
     "iopub.status.idle": "2020-08-30T02:50:45.199622Z",
     "shell.execute_reply": "2020-08-30T02:50:45.199089Z",
     "shell.execute_reply.started": "2020-08-30T02:50:43.853988Z"
    }
   },
   "outputs": [
    {
     "data": {
      "text/html": [
       "<div>\n",
       "<style scoped>\n",
       "    .dataframe tbody tr th:only-of-type {\n",
       "        vertical-align: middle;\n",
       "    }\n",
       "\n",
       "    .dataframe tbody tr th {\n",
       "        vertical-align: top;\n",
       "    }\n",
       "\n",
       "    .dataframe thead th {\n",
       "        text-align: right;\n",
       "    }\n",
       "</style>\n",
       "<table border=\"1\" class=\"dataframe\">\n",
       "  <thead>\n",
       "    <tr style=\"text-align: right;\">\n",
       "      <th></th>\n",
       "      <th>Unnamed: 0</th>\n",
       "      <th>subreddit</th>\n",
       "      <th>title</th>\n",
       "      <th>selftext</th>\n",
       "      <th>title_text_combined</th>\n",
       "    </tr>\n",
       "  </thead>\n",
       "  <tbody>\n",
       "    <tr>\n",
       "      <th>0</th>\n",
       "      <td>0</td>\n",
       "      <td>Amd</td>\n",
       "      <td>Low VRAM Issues?</td>\n",
       "      <td>NaN</td>\n",
       "      <td>Low VRAM Issues?</td>\n",
       "    </tr>\n",
       "    <tr>\n",
       "      <th>1</th>\n",
       "      <td>1</td>\n",
       "      <td>Amd</td>\n",
       "      <td>[Level1Techs] 32 Core Threadripper Workstation...</td>\n",
       "      <td>NaN</td>\n",
       "      <td>[Level1Techs] 32 Core Threadripper Workstation...</td>\n",
       "    </tr>\n",
       "    <tr>\n",
       "      <th>2</th>\n",
       "      <td>2</td>\n",
       "      <td>Amd</td>\n",
       "      <td>Decent cheap AMD prebuilt systems? Canada</td>\n",
       "      <td>Trying to see if there's anything worth recomm...</td>\n",
       "      <td>Decent cheap AMD prebuilt systems? Canada Tryi...</td>\n",
       "    </tr>\n",
       "    <tr>\n",
       "      <th>3</th>\n",
       "      <td>3</td>\n",
       "      <td>Amd</td>\n",
       "      <td>The new drivers don't wanna download</td>\n",
       "      <td>I have been trying to update my drivers from t...</td>\n",
       "      <td>The new drivers don't wanna download I have be...</td>\n",
       "    </tr>\n",
       "    <tr>\n",
       "      <th>4</th>\n",
       "      <td>4</td>\n",
       "      <td>Amd</td>\n",
       "      <td>aorus redemption I on b550m</td>\n",
       "      <td>last time, i said only gigabyte has not used d...</td>\n",
       "      <td>aorus redemption I on b550m last time, i said ...</td>\n",
       "    </tr>\n",
       "  </tbody>\n",
       "</table>\n",
       "</div>"
      ],
      "text/plain": [
       "   Unnamed: 0 subreddit                                              title  \\\n",
       "0           0       Amd                                   Low VRAM Issues?   \n",
       "1           1       Amd  [Level1Techs] 32 Core Threadripper Workstation...   \n",
       "2           2       Amd          Decent cheap AMD prebuilt systems? Canada   \n",
       "3           3       Amd               The new drivers don't wanna download   \n",
       "4           4       Amd                        aorus redemption I on b550m   \n",
       "\n",
       "                                            selftext  \\\n",
       "0                                                NaN   \n",
       "1                                                NaN   \n",
       "2  Trying to see if there's anything worth recomm...   \n",
       "3  I have been trying to update my drivers from t...   \n",
       "4  last time, i said only gigabyte has not used d...   \n",
       "\n",
       "                                 title_text_combined  \n",
       "0                                  Low VRAM Issues?   \n",
       "1  [Level1Techs] 32 Core Threadripper Workstation...  \n",
       "2  Decent cheap AMD prebuilt systems? Canada Tryi...  \n",
       "3  The new drivers don't wanna download I have be...  \n",
       "4  aorus redemption I on b550m last time, i said ...  "
      ]
     },
     "execution_count": 2,
     "metadata": {},
     "output_type": "execute_result"
    }
   ],
   "source": [
    "df = pd.read_csv('./Data/tf_df.csv')\n",
    "df.head()"
   ]
  },
  {
   "cell_type": "code",
   "execution_count": 3,
   "metadata": {
    "execution": {
     "iopub.execute_input": "2020-08-30T02:50:45.200847Z",
     "iopub.status.busy": "2020-08-30T02:50:45.200695Z",
     "iopub.status.idle": "2020-08-30T02:50:45.213099Z",
     "shell.execute_reply": "2020-08-30T02:50:45.212650Z",
     "shell.execute_reply.started": "2020-08-30T02:50:45.200827Z"
    }
   },
   "outputs": [],
   "source": [
    "df.drop(columns=['Unnamed: 0'], inplace=True)"
   ]
  },
  {
   "cell_type": "code",
   "execution_count": 4,
   "metadata": {
    "execution": {
     "iopub.execute_input": "2020-08-30T02:50:45.213879Z",
     "iopub.status.busy": "2020-08-30T02:50:45.213784Z",
     "iopub.status.idle": "2020-08-30T02:50:45.224570Z",
     "shell.execute_reply": "2020-08-30T02:50:45.224234Z",
     "shell.execute_reply.started": "2020-08-30T02:50:45.213866Z"
    }
   },
   "outputs": [
    {
     "data": {
      "text/html": [
       "<div>\n",
       "<style scoped>\n",
       "    .dataframe tbody tr th:only-of-type {\n",
       "        vertical-align: middle;\n",
       "    }\n",
       "\n",
       "    .dataframe tbody tr th {\n",
       "        vertical-align: top;\n",
       "    }\n",
       "\n",
       "    .dataframe thead th {\n",
       "        text-align: right;\n",
       "    }\n",
       "</style>\n",
       "<table border=\"1\" class=\"dataframe\">\n",
       "  <thead>\n",
       "    <tr style=\"text-align: right;\">\n",
       "      <th></th>\n",
       "      <th>subreddit</th>\n",
       "      <th>title</th>\n",
       "      <th>selftext</th>\n",
       "      <th>title_text_combined</th>\n",
       "    </tr>\n",
       "  </thead>\n",
       "  <tbody>\n",
       "    <tr>\n",
       "      <th>0</th>\n",
       "      <td>Amd</td>\n",
       "      <td>Low VRAM Issues?</td>\n",
       "      <td>NaN</td>\n",
       "      <td>Low VRAM Issues?</td>\n",
       "    </tr>\n",
       "    <tr>\n",
       "      <th>1</th>\n",
       "      <td>Amd</td>\n",
       "      <td>[Level1Techs] 32 Core Threadripper Workstation...</td>\n",
       "      <td>NaN</td>\n",
       "      <td>[Level1Techs] 32 Core Threadripper Workstation...</td>\n",
       "    </tr>\n",
       "    <tr>\n",
       "      <th>2</th>\n",
       "      <td>Amd</td>\n",
       "      <td>Decent cheap AMD prebuilt systems? Canada</td>\n",
       "      <td>Trying to see if there's anything worth recomm...</td>\n",
       "      <td>Decent cheap AMD prebuilt systems? Canada Tryi...</td>\n",
       "    </tr>\n",
       "    <tr>\n",
       "      <th>3</th>\n",
       "      <td>Amd</td>\n",
       "      <td>The new drivers don't wanna download</td>\n",
       "      <td>I have been trying to update my drivers from t...</td>\n",
       "      <td>The new drivers don't wanna download I have be...</td>\n",
       "    </tr>\n",
       "    <tr>\n",
       "      <th>4</th>\n",
       "      <td>Amd</td>\n",
       "      <td>aorus redemption I on b550m</td>\n",
       "      <td>last time, i said only gigabyte has not used d...</td>\n",
       "      <td>aorus redemption I on b550m last time, i said ...</td>\n",
       "    </tr>\n",
       "  </tbody>\n",
       "</table>\n",
       "</div>"
      ],
      "text/plain": [
       "  subreddit                                              title  \\\n",
       "0       Amd                                   Low VRAM Issues?   \n",
       "1       Amd  [Level1Techs] 32 Core Threadripper Workstation...   \n",
       "2       Amd          Decent cheap AMD prebuilt systems? Canada   \n",
       "3       Amd               The new drivers don't wanna download   \n",
       "4       Amd                        aorus redemption I on b550m   \n",
       "\n",
       "                                            selftext  \\\n",
       "0                                                NaN   \n",
       "1                                                NaN   \n",
       "2  Trying to see if there's anything worth recomm...   \n",
       "3  I have been trying to update my drivers from t...   \n",
       "4  last time, i said only gigabyte has not used d...   \n",
       "\n",
       "                                 title_text_combined  \n",
       "0                                  Low VRAM Issues?   \n",
       "1  [Level1Techs] 32 Core Threadripper Workstation...  \n",
       "2  Decent cheap AMD prebuilt systems? Canada Tryi...  \n",
       "3  The new drivers don't wanna download I have be...  \n",
       "4  aorus redemption I on b550m last time, i said ...  "
      ]
     },
     "execution_count": 4,
     "metadata": {},
     "output_type": "execute_result"
    }
   ],
   "source": [
    "df.head()"
   ]
  },
  {
   "cell_type": "code",
   "execution_count": 5,
   "metadata": {
    "execution": {
     "iopub.execute_input": "2020-08-30T02:50:45.225078Z",
     "iopub.status.busy": "2020-08-30T02:50:45.224990Z",
     "iopub.status.idle": "2020-08-30T02:50:45.227940Z",
     "shell.execute_reply": "2020-08-30T02:50:45.227547Z",
     "shell.execute_reply.started": "2020-08-30T02:50:45.225066Z"
    }
   },
   "outputs": [
    {
     "data": {
      "text/plain": [
       "(219480, 4)"
      ]
     },
     "execution_count": 5,
     "metadata": {},
     "output_type": "execute_result"
    }
   ],
   "source": [
    "df.shape"
   ]
  },
  {
   "cell_type": "code",
   "execution_count": 6,
   "metadata": {
    "execution": {
     "iopub.execute_input": "2020-08-30T02:50:45.228651Z",
     "iopub.status.busy": "2020-08-30T02:50:45.228520Z",
     "iopub.status.idle": "2020-08-30T02:50:46.310153Z",
     "shell.execute_reply": "2020-08-30T02:50:46.309705Z",
     "shell.execute_reply.started": "2020-08-30T02:50:45.228633Z"
    }
   },
   "outputs": [],
   "source": [
    "# Clean the text function\n",
    "REPLACE_BY_SPACE_RE = re.compile('[/(){}\\[\\]\\|@,;]')\n",
    "BAD_SYMBOLS_RE = re.compile('[^0-9a-z #+_]')\n",
    "STOPWORDS = set(stopwords.words('english'))\n",
    "\n",
    "def clean_text(text):\n",
    "    \"\"\"\n",
    "        text: a string\n",
    "        \n",
    "        return: modified initial string\n",
    "    \"\"\"\n",
    "    text = text.lower() # lowercase text\n",
    "    text = REPLACE_BY_SPACE_RE.sub(' ', text) # replace REPLACE_BY_SPACE_RE symbols by space in text. substitute the matched string in REPLACE_BY_SPACE_RE with space.\n",
    "    text = BAD_SYMBOLS_RE.sub('', text) # remove symbols which are in BAD_SYMBOLS_RE from text. substitute the matched string in BAD_SYMBOLS_RE with nothing. \n",
    "    text = re.sub(r'\\d+', '', text) # This gets rid of the integers\n",
    "    text = text.replace('x', '') # Credit - https://stackoverflow.com/questions/30315035/strip-numbers-from-string-in-python\n",
    "    text = ' '.join(word for word in text.split() if word not in STOPWORDS) # remove stopwords from text\n",
    "    return text\n",
    "df['title'] = df['title'].apply(clean_text)\n"
   ]
  },
  {
   "cell_type": "code",
   "execution_count": 7,
   "metadata": {
    "execution": {
     "iopub.execute_input": "2020-08-30T02:50:46.310833Z",
     "iopub.status.busy": "2020-08-30T02:50:46.310725Z",
     "iopub.status.idle": "2020-08-30T02:50:46.314397Z",
     "shell.execute_reply": "2020-08-30T02:50:46.314059Z",
     "shell.execute_reply.started": "2020-08-30T02:50:46.310820Z"
    }
   },
   "outputs": [
    {
     "data": {
      "text/plain": [
       "0                                      low vram issues\n",
       "1    leveltechs core threadripper workstation upgra...\n",
       "2             decent cheap amd prebuilt systems canada\n",
       "3                      new drivers dont wanna download\n",
       "4                                  aorus redemption bm\n",
       "Name: title, dtype: object"
      ]
     },
     "execution_count": 7,
     "metadata": {},
     "output_type": "execute_result"
    }
   ],
   "source": [
    "df['title'].head()"
   ]
  },
  {
   "cell_type": "code",
   "execution_count": 8,
   "metadata": {
    "execution": {
     "iopub.execute_input": "2020-08-30T02:50:46.315199Z",
     "iopub.status.busy": "2020-08-30T02:50:46.315110Z",
     "iopub.status.idle": "2020-08-30T02:50:52.151045Z",
     "shell.execute_reply": "2020-08-30T02:50:52.150611Z",
     "shell.execute_reply.started": "2020-08-30T02:50:46.315187Z"
    }
   },
   "outputs": [],
   "source": [
    "# Vectorize the words and Create a common word dataframe\n",
    "cvec = CountVectorizer()\n",
    "cv_fit = cvec.fit_transform(df['title'])\n",
    "word_list = cvec.get_feature_names();    \n",
    "count_list = cv_fit.toarray().sum(axis=0)  \n",
    "word_dict = dict(zip(word_list,count_list))\n",
    "cleaned_df = pd.DataFrame(cv_fit.toarray(), columns= word_list)\n",
    "\n",
    "counter = Counter()\n",
    "counter.update(word_dict)\n",
    "most_common = counter.most_common(20)\n",
    "most_df = pd.DataFrame(most_common)"
   ]
  },
  {
   "cell_type": "code",
   "execution_count": 9,
   "metadata": {
    "execution": {
     "iopub.execute_input": "2020-08-30T02:50:52.151778Z",
     "iopub.status.busy": "2020-08-30T02:50:52.151675Z",
     "iopub.status.idle": "2020-08-30T02:50:52.158004Z",
     "shell.execute_reply": "2020-08-30T02:50:52.157595Z",
     "shell.execute_reply.started": "2020-08-30T02:50:52.151764Z"
    }
   },
   "outputs": [
    {
     "data": {
      "text/html": [
       "<div>\n",
       "<style scoped>\n",
       "    .dataframe tbody tr th:only-of-type {\n",
       "        vertical-align: middle;\n",
       "    }\n",
       "\n",
       "    .dataframe tbody tr th {\n",
       "        vertical-align: top;\n",
       "    }\n",
       "\n",
       "    .dataframe thead th {\n",
       "        text-align: right;\n",
       "    }\n",
       "</style>\n",
       "<table border=\"1\" class=\"dataframe\">\n",
       "  <thead>\n",
       "    <tr style=\"text-align: right;\">\n",
       "      <th></th>\n",
       "      <th>0</th>\n",
       "      <th>1</th>\n",
       "    </tr>\n",
       "  </thead>\n",
       "  <tbody>\n",
       "    <tr>\n",
       "      <th>0</th>\n",
       "      <td>pc</td>\n",
       "      <td>29556</td>\n",
       "    </tr>\n",
       "    <tr>\n",
       "      <th>1</th>\n",
       "      <td>ryzen</td>\n",
       "      <td>26697</td>\n",
       "    </tr>\n",
       "    <tr>\n",
       "      <th>2</th>\n",
       "      <td>build</td>\n",
       "      <td>26488</td>\n",
       "    </tr>\n",
       "    <tr>\n",
       "      <th>3</th>\n",
       "      <td>amd</td>\n",
       "      <td>19383</td>\n",
       "    </tr>\n",
       "    <tr>\n",
       "      <th>4</th>\n",
       "      <td>help</td>\n",
       "      <td>17940</td>\n",
       "    </tr>\n",
       "    <tr>\n",
       "      <th>5</th>\n",
       "      <td>first</td>\n",
       "      <td>13231</td>\n",
       "    </tr>\n",
       "    <tr>\n",
       "      <th>6</th>\n",
       "      <td>new</td>\n",
       "      <td>12771</td>\n",
       "    </tr>\n",
       "    <tr>\n",
       "      <th>7</th>\n",
       "      <td>gaming</td>\n",
       "      <td>11748</td>\n",
       "    </tr>\n",
       "    <tr>\n",
       "      <th>8</th>\n",
       "      <td>need</td>\n",
       "      <td>11540</td>\n",
       "    </tr>\n",
       "    <tr>\n",
       "      <th>9</th>\n",
       "      <td>cpu</td>\n",
       "      <td>10230</td>\n",
       "    </tr>\n",
       "    <tr>\n",
       "      <th>10</th>\n",
       "      <td>gpu</td>\n",
       "      <td>9357</td>\n",
       "    </tr>\n",
       "    <tr>\n",
       "      <th>11</th>\n",
       "      <td>ram</td>\n",
       "      <td>7716</td>\n",
       "    </tr>\n",
       "    <tr>\n",
       "      <th>12</th>\n",
       "      <td>upgrade</td>\n",
       "      <td>7433</td>\n",
       "    </tr>\n",
       "    <tr>\n",
       "      <th>13</th>\n",
       "      <td>good</td>\n",
       "      <td>7248</td>\n",
       "    </tr>\n",
       "    <tr>\n",
       "      <th>14</th>\n",
       "      <td>motherboard</td>\n",
       "      <td>7227</td>\n",
       "    </tr>\n",
       "    <tr>\n",
       "      <th>15</th>\n",
       "      <td>vs</td>\n",
       "      <td>7021</td>\n",
       "    </tr>\n",
       "    <tr>\n",
       "      <th>16</th>\n",
       "      <td>monitor</td>\n",
       "      <td>5885</td>\n",
       "    </tr>\n",
       "    <tr>\n",
       "      <th>17</th>\n",
       "      <td>radeon</td>\n",
       "      <td>5508</td>\n",
       "    </tr>\n",
       "    <tr>\n",
       "      <th>18</th>\n",
       "      <td>gb</td>\n",
       "      <td>5148</td>\n",
       "    </tr>\n",
       "    <tr>\n",
       "      <th>19</th>\n",
       "      <td>building</td>\n",
       "      <td>5064</td>\n",
       "    </tr>\n",
       "  </tbody>\n",
       "</table>\n",
       "</div>"
      ],
      "text/plain": [
       "              0      1\n",
       "0            pc  29556\n",
       "1         ryzen  26697\n",
       "2         build  26488\n",
       "3           amd  19383\n",
       "4          help  17940\n",
       "5         first  13231\n",
       "6           new  12771\n",
       "7        gaming  11748\n",
       "8          need  11540\n",
       "9           cpu  10230\n",
       "10          gpu   9357\n",
       "11          ram   7716\n",
       "12      upgrade   7433\n",
       "13         good   7248\n",
       "14  motherboard   7227\n",
       "15           vs   7021\n",
       "16      monitor   5885\n",
       "17       radeon   5508\n",
       "18           gb   5148\n",
       "19     building   5064"
      ]
     },
     "execution_count": 9,
     "metadata": {},
     "output_type": "execute_result"
    }
   ],
   "source": [
    "most_df"
   ]
  },
  {
   "cell_type": "markdown",
   "metadata": {},
   "source": [
    "<a name=\"preprocess\"></a>\n",
    "- [Back to Contents](#contents)\n",
    "# Preprocessing"
   ]
  },
  {
   "cell_type": "code",
   "execution_count": 10,
   "metadata": {
    "execution": {
     "iopub.execute_input": "2020-08-30T02:50:52.158584Z",
     "iopub.status.busy": "2020-08-30T02:50:52.158493Z",
     "iopub.status.idle": "2020-08-30T02:50:53.942229Z",
     "shell.execute_reply": "2020-08-30T02:50:53.941753Z",
     "shell.execute_reply.started": "2020-08-30T02:50:52.158572Z"
    }
   },
   "outputs": [
    {
     "name": "stdout",
     "output_type": "stream",
     "text": [
      "Found 24109 unique tokens.\n"
     ]
    }
   ],
   "source": [
    "# Credit to:- https://machinelearningmastery.com/use-word-embedding-layers-deep-learning-keras/\n",
    "# - https://stats.stackexchange.com/questions/270546/how-does-keras-embedding-layer-work\n",
    "\n",
    "# The maximum number of words to be used. (most frequent)\n",
    "MAX_NB_WORDS = 50000\n",
    "# Max number of words in each complaint.\n",
    "MAX_SEQUENCE_LENGTH = 500 # First 500 words in each title\n",
    "# This is fixed.\n",
    "EMBEDDING_DIM = 100\n",
    "tokenizer = Tokenizer(num_words=MAX_NB_WORDS, filters='!\"#$%&()*+,-./:;<=>?@[\\]^_`{|}~', lower=True)  # instantiating Tokenizer\n",
    "tokenizer.fit_on_texts(df['title'].values)  #fit text to values\n",
    "word_index = tokenizer.word_index  # replaces every word with its weighted index\n",
    "print('Found %s unique tokens.' % len(word_index))\n",
    "\n"
   ]
  },
  {
   "cell_type": "code",
   "execution_count": 11,
   "metadata": {
    "execution": {
     "iopub.execute_input": "2020-08-30T02:50:53.943055Z",
     "iopub.status.busy": "2020-08-30T02:50:53.942961Z",
     "iopub.status.idle": "2020-08-30T02:50:56.406210Z",
     "shell.execute_reply": "2020-08-30T02:50:56.405774Z",
     "shell.execute_reply.started": "2020-08-30T02:50:53.943043Z"
    }
   },
   "outputs": [
    {
     "name": "stdout",
     "output_type": "stream",
     "text": [
      "Shape of data tensor: (219480, 500)\n"
     ]
    }
   ],
   "source": [
    "X = tokenizer.texts_to_sequences(df['title'].values) # adds index # of every word in a title\n",
    "X = pad_sequences(X, maxlen=MAX_SEQUENCE_LENGTH)   # pads each post so every title has 500 length\n",
    "print('Shape of data tensor:', X.shape)"
   ]
  },
  {
   "cell_type": "code",
   "execution_count": 12,
   "metadata": {
    "execution": {
     "iopub.execute_input": "2020-08-30T02:50:56.406953Z",
     "iopub.status.busy": "2020-08-30T02:50:56.406851Z",
     "iopub.status.idle": "2020-08-30T02:50:56.417532Z",
     "shell.execute_reply": "2020-08-30T02:50:56.417127Z",
     "shell.execute_reply.started": "2020-08-30T02:50:56.406941Z"
    }
   },
   "outputs": [
    {
     "name": "stdout",
     "output_type": "stream",
     "text": [
      "Shape of label tensor: (219480, 2)\n"
     ]
    }
   ],
   "source": [
    "Y = pd.get_dummies(df['subreddit']).values  # 1 for Build Pc\n",
    "print('Shape of label tensor:', Y.shape)"
   ]
  },
  {
   "cell_type": "code",
   "execution_count": 13,
   "metadata": {
    "execution": {
     "iopub.execute_input": "2020-08-30T02:50:56.418161Z",
     "iopub.status.busy": "2020-08-30T02:50:56.418027Z",
     "iopub.status.idle": "2020-08-30T02:50:56.422656Z",
     "shell.execute_reply": "2020-08-30T02:50:56.422138Z",
     "shell.execute_reply.started": "2020-08-30T02:50:56.418143Z"
    }
   },
   "outputs": [
    {
     "data": {
      "text/plain": [
       "array([[1, 0],\n",
       "       [1, 0],\n",
       "       [1, 0],\n",
       "       ...,\n",
       "       [0, 1],\n",
       "       [0, 1],\n",
       "       [0, 1]], dtype=uint8)"
      ]
     },
     "execution_count": 13,
     "metadata": {},
     "output_type": "execute_result"
    }
   ],
   "source": [
    "Y"
   ]
  },
  {
   "cell_type": "code",
   "execution_count": 14,
   "metadata": {
    "execution": {
     "iopub.execute_input": "2020-08-30T02:50:56.423601Z",
     "iopub.status.busy": "2020-08-30T02:50:56.423468Z",
     "iopub.status.idle": "2020-08-30T02:50:56.503698Z",
     "shell.execute_reply": "2020-08-30T02:50:56.503266Z",
     "shell.execute_reply.started": "2020-08-30T02:50:56.423583Z"
    }
   },
   "outputs": [
    {
     "name": "stdout",
     "output_type": "stream",
     "text": [
      "Train\n",
      "(197532, 500) (197532, 2)\n",
      "========================================\n",
      "Test\n",
      "(21948, 500) (21948, 2)\n"
     ]
    }
   ],
   "source": [
    "X_train, X_test, Y_train, Y_test = train_test_split(X,Y, test_size = 0.10, random_state = 42)\n",
    "print('Train')\n",
    "print(X_train.shape,Y_train.shape)\n",
    "print('='*40)\n",
    "print('Test')\n",
    "print(X_test.shape,Y_test.shape)"
   ]
  },
  {
   "cell_type": "markdown",
   "metadata": {},
   "source": [
    "<a name=\"lstm\"></a>\n",
    "- [Back to Contents](#contents)\n",
    "    # LSTM RNN Model 4a on Title Only"
   ]
  },
  {
   "cell_type": "code",
   "execution_count": null,
   "metadata": {
    "execution": {
     "iopub.status.busy": "2020-08-30T01:47:02.598265Z",
     "iopub.status.idle": "2020-08-30T01:47:02.598384Z"
    }
   },
   "outputs": [],
   "source": [
    "# Keras Sequential Model:\n",
    "# - https://keras.io/guides/sequential_model/\n",
    "\n",
    "# Drop out:\n",
    "# - https://machinelearningmastery.com/dropout-for-regularizing-deep-neural-networks/\n",
    "# - https://machinelearningmastery.com/use-dropout-lstm-networks-time-series-forecasting/#:~:text=Long%20Short%2DTerm%20Memory%20\n",
    "\n",
    "# Softmax:\n",
    "# - https://medium.com/analytics-vidhya/softmax-classifier-using-tensorflow-on-mnist-dataset-with-sample-code-6538d0783b84\n",
    "# - https://medium.com/data-science-bootcamp/understand-the-softmax-function-in-minutes-f3a59641e86d\n",
    "\n",
    "# LSTM:\n",
    "# - https://towardsdatascience.com/choosing-the-right-hyperparameters-for-a-simple-lstm-using-keras-f8e9ed76f046\n",
    "# - https://towardsdatascience.com/multi-class-text-classification-with-lstm-1590bee1bd17 \n",
    "# - https://towardsdatascience.com/illustrated-guide-to-lstms-and-gru-s-a-step-by-step-explanation-44e9eb85bf21#:~:text=An%20LSTM%20has%20a%20similar,operations%20within%20the%20LSTM's%20cells.&text=These%20operations%20are%20used%20to,to%20keep%20or%20forget%20information. \n",
    "\n",
    "model = Sequential()\n",
    "model.add(Embedding(MAX_NB_WORDS, EMBEDDING_DIM, input_length=X.shape[1]))\n",
    "model.add(SpatialDropout1D(0.2))\n",
    "model.add(LSTM(100, dropout=0.2, recurrent_dropout=0.2))\n",
    "model.add(Dense(2, activation='softmax'))\n",
    "model.compile(loss='categorical_crossentropy', optimizer='adam', metrics=['accuracy'])\n",
    "\n",
    "epochs = 10\n",
    "batch_size = 128\n",
    "\n",
    "history = model.fit(X_train, Y_train, epochs=epochs, batch_size=batch_size,validation_split=0.1,callbacks=[EarlyStopping(monitor='val_loss', patience=100, min_delta=0.0001)])"
   ]
  },
  {
   "cell_type": "code",
   "execution_count": 16,
   "metadata": {
    "execution": {
     "iopub.execute_input": "2020-08-30T00:34:47.350427Z",
     "iopub.status.busy": "2020-08-30T00:34:47.350198Z",
     "iopub.status.idle": "2020-08-30T00:35:23.572181Z",
     "shell.execute_reply": "2020-08-30T00:35:23.571721Z",
     "shell.execute_reply.started": "2020-08-30T00:34:47.350399Z"
    }
   },
   "outputs": [
    {
     "name": "stdout",
     "output_type": "stream",
     "text": [
      "686/686 [==============================] - 36s 53ms/step - loss: 0.3623 - accuracy: 0.8638\n",
      "Test set\n",
      "  Loss: 0.362\n",
      "  Accuracy: 0.864\n"
     ]
    }
   ],
   "source": [
    "accr = model.evaluate(X_test,Y_test)\n",
    "print('Test set\\n  Loss: {:0.3f}\\n  Accuracy: {:0.3f}'.format(accr[0],accr[1]))"
   ]
  },
  {
   "cell_type": "code",
   "execution_count": 19,
   "metadata": {
    "execution": {
     "iopub.execute_input": "2020-08-30T01:30:00.315964Z",
     "iopub.status.busy": "2020-08-30T01:30:00.315709Z",
     "iopub.status.idle": "2020-08-30T01:30:01.798471Z",
     "shell.execute_reply": "2020-08-30T01:30:01.798007Z",
     "shell.execute_reply.started": "2020-08-30T01:30:00.315936Z"
    }
   },
   "outputs": [
    {
     "name": "stdout",
     "output_type": "stream",
     "text": [
      "WARNING:tensorflow:From /home/dlee/anaconda3/envs/tensorflow/lib/python3.7/site-packages/tensorflow/python/ops/resource_variable_ops.py:1817: calling BaseResourceVariable.__init__ (from tensorflow.python.ops.resource_variable_ops) with constraint is deprecated and will be removed in a future version.\n",
      "Instructions for updating:\n",
      "If using Keras pass *_constraint arguments to layers.\n",
      "INFO:tensorflow:Assets written to: lstm_model1/assets\n"
     ]
    }
   ],
   "source": [
    "model.save('lstm_model1')"
   ]
  },
  {
   "cell_type": "code",
   "execution_count": 15,
   "metadata": {
    "execution": {
     "iopub.execute_input": "2020-08-30T02:51:21.263128Z",
     "iopub.status.busy": "2020-08-30T02:51:21.262904Z",
     "iopub.status.idle": "2020-08-30T02:51:22.142507Z",
     "shell.execute_reply": "2020-08-30T02:51:22.142125Z",
     "shell.execute_reply.started": "2020-08-30T02:51:21.263102Z"
    }
   },
   "outputs": [],
   "source": [
    "model = tf.keras.models.load_model('./lstm_model1/')\n"
   ]
  },
  {
   "cell_type": "code",
   "execution_count": 17,
   "metadata": {
    "execution": {
     "iopub.execute_input": "2020-08-30T02:51:28.268190Z",
     "iopub.status.busy": "2020-08-30T02:51:28.267955Z",
     "iopub.status.idle": "2020-08-30T02:52:04.103709Z",
     "shell.execute_reply": "2020-08-30T02:52:04.103279Z",
     "shell.execute_reply.started": "2020-08-30T02:51:28.268162Z"
    }
   },
   "outputs": [
    {
     "name": "stdout",
     "output_type": "stream",
     "text": [
      "686/686 [==============================] - 35s 52ms/step - loss: 0.3623 - accuracy: 0.8638\n"
     ]
    }
   ],
   "source": [
    "accr = model.evaluate(X_test,Y_test)"
   ]
  },
  {
   "cell_type": "markdown",
   "metadata": {},
   "source": [
    "<a name=\"visuals\"></a>\n",
    "- [Back to Contents](#contents)\n",
    "  #  LSTM RNN Model Visuals"
   ]
  },
  {
   "cell_type": "code",
   "execution_count": 22,
   "metadata": {
    "execution": {
     "iopub.execute_input": "2020-08-27T05:23:19.177200Z",
     "iopub.status.busy": "2020-08-27T05:23:19.176976Z",
     "iopub.status.idle": "2020-08-27T05:23:19.300748Z",
     "shell.execute_reply": "2020-08-27T05:23:19.300166Z",
     "shell.execute_reply.started": "2020-08-27T05:23:19.177173Z"
    }
   },
   "outputs": [
    {
     "data": {
      "image/png": "[encoded data removed]",
      "text/plain": [
       "<Figure size 432x288 with 1 Axes>"
      ]
     },
     "metadata": {
      "needs_background": "light"
     },
     "output_type": "display_data"
    }
   ],
   "source": [
    "# Credit to: https://towardsdatascience.com/multi-class-text-classification-with-lstm-1590bee1bd17\n",
    "# Model Loss plot\n",
    "plt.title('Loss')\n",
    "plt.plot(history.history['loss'], label='train')\n",
    "plt.plot(history.history['val_loss'], label='test')\n",
    "plt.legend()\n",
    "plt.show();"
   ]
  },
  {
   "cell_type": "code",
   "execution_count": 25,
   "metadata": {
    "execution": {
     "iopub.execute_input": "2020-08-27T05:25:36.254809Z",
     "iopub.status.busy": "2020-08-27T05:25:36.254563Z",
     "iopub.status.idle": "2020-08-27T05:25:36.341105Z",
     "shell.execute_reply": "2020-08-27T05:25:36.340756Z",
     "shell.execute_reply.started": "2020-08-27T05:25:36.254781Z"
    }
   },
   "outputs": [
    {
     "data": {
      "image/png": "[encoded data removed]",
      "text/plain": [
       "<Figure size 432x288 with 1 Axes>"
      ]
     },
     "metadata": {
      "needs_background": "light"
     },
     "output_type": "display_data"
    }
   ],
   "source": [
    "# Model Accuracy plot\n",
    "plt.title('Accuracy')\n",
    "plt.plot(history.history['accuracy'], label='train')\n",
    "plt.plot(history.history['val_accuracy'], label='test')\n",
    "plt.legend()\n",
    "plt.show();"
   ]
  },
  {
   "cell_type": "markdown",
   "metadata": {},
   "source": [
    "<a name=\"lstm\"></a>\n",
    "- [Back to Contents](#contents)\n",
    "    # LSTM RNN Model 4b on Title Only"
   ]
  },
  {
   "cell_type": "code",
   "execution_count": 15,
   "metadata": {
    "execution": {
     "iopub.execute_input": "2020-08-28T12:53:15.854563Z",
     "iopub.status.busy": "2020-08-28T12:53:15.854345Z",
     "iopub.status.idle": "2020-08-28T14:21:38.913740Z",
     "shell.execute_reply": "2020-08-28T14:21:38.913150Z",
     "shell.execute_reply.started": "2020-08-28T12:53:15.854537Z"
    }
   },
   "outputs": [
    {
     "name": "stdout",
     "output_type": "stream",
     "text": [
      "Epoch 1/10\n",
      "695/695 [==============================] - 532s 766ms/step - loss: 0.4019 - accuracy: 0.8241 - val_loss: 0.3681 - val_accuracy: 0.8423\n",
      "Epoch 2/10\n",
      "695/695 [==============================] - 531s 765ms/step - loss: 0.3424 - accuracy: 0.8535 - val_loss: 0.3525 - val_accuracy: 0.8485\n",
      "Epoch 3/10\n",
      "695/695 [==============================] - 531s 764ms/step - loss: 0.3169 - accuracy: 0.8639 - val_loss: 0.3488 - val_accuracy: 0.8524\n",
      "Epoch 4/10\n",
      "695/695 [==============================] - 531s 764ms/step - loss: 0.2982 - accuracy: 0.8714 - val_loss: 0.3455 - val_accuracy: 0.8549\n",
      "Epoch 5/10\n",
      "695/695 [==============================] - 531s 764ms/step - loss: 0.2840 - accuracy: 0.8774 - val_loss: 0.3476 - val_accuracy: 0.8544\n",
      "Epoch 6/10\n",
      "695/695 [==============================] - 529s 761ms/step - loss: 0.2729 - accuracy: 0.8821 - val_loss: 0.3511 - val_accuracy: 0.8552\n",
      "Epoch 7/10\n",
      "695/695 [==============================] - 528s 759ms/step - loss: 0.2623 - accuracy: 0.8869 - val_loss: 0.3566 - val_accuracy: 0.8584\n",
      "Epoch 8/10\n",
      "695/695 [==============================] - 529s 761ms/step - loss: 0.2533 - accuracy: 0.8903 - val_loss: 0.3606 - val_accuracy: 0.8566\n",
      "Epoch 9/10\n",
      "695/695 [==============================] - 526s 757ms/step - loss: 0.2457 - accuracy: 0.8942 - val_loss: 0.3690 - val_accuracy: 0.8590\n",
      "Epoch 10/10\n",
      "695/695 [==============================] - 526s 757ms/step - loss: 0.2385 - accuracy: 0.8971 - val_loss: 0.3685 - val_accuracy: 0.8615\n"
     ]
    }
   ],
   "source": [
    "# Increased Batchsize and lowered patience to lower overfitting\n",
    "model = Sequential()\n",
    "model.add(Embedding(MAX_NB_WORDS, EMBEDDING_DIM, input_length=X.shape[1]))\n",
    "model.add(SpatialDropout1D(0.2))\n",
    "model.add(LSTM(100, dropout=0.2, recurrent_dropout=0.2))\n",
    "model.add(Dense(2, activation='softmax'))\n",
    "model.compile(loss='categorical_crossentropy', optimizer='adam', metrics=['accuracy'])\n",
    "\n",
    "epochs = 10\n",
    "batch_size = 256\n",
    "\n",
    "history = model.fit(X_train, Y_train, epochs=epochs, batch_size=batch_size,validation_split=0.1,callbacks=[EarlyStopping(monitor='val_loss', patience=50, min_delta=0.0001)])"
   ]
  },
  {
   "cell_type": "code",
   "execution_count": 27,
   "metadata": {
    "execution": {
     "iopub.execute_input": "2020-08-27T13:04:57.997035Z",
     "iopub.status.busy": "2020-08-27T13:04:57.996813Z",
     "iopub.status.idle": "2020-08-27T13:05:32.942479Z",
     "shell.execute_reply": "2020-08-27T13:05:32.942064Z",
     "shell.execute_reply.started": "2020-08-27T13:04:57.997009Z"
    }
   },
   "outputs": [
    {
     "name": "stdout",
     "output_type": "stream",
     "text": [
      "686/686 [==============================] - 35s 51ms/step - loss: 0.3660 - accuracy: 0.8613\n",
      "Test set\n",
      "  Loss: 0.366\n",
      "  Accuracy: 0.861\n"
     ]
    }
   ],
   "source": [
    "accr = model.evaluate(X_test,Y_test)\n",
    "print('Test set\\n  Loss: {:0.3f}\\n  Accuracy: {:0.3f}'.format(accr[0],accr[1]))"
   ]
  },
  {
   "cell_type": "code",
   "execution_count": 28,
   "metadata": {
    "execution": {
     "iopub.execute_input": "2020-08-27T13:05:36.021880Z",
     "iopub.status.busy": "2020-08-27T13:05:36.021629Z",
     "iopub.status.idle": "2020-08-27T13:05:36.104550Z",
     "shell.execute_reply": "2020-08-27T13:05:36.104106Z",
     "shell.execute_reply.started": "2020-08-27T13:05:36.021851Z"
    }
   },
   "outputs": [
    {
     "data": {
      "image/png": "[encoded data removed]",
      "text/plain": [
       "<Figure size 432x288 with 1 Axes>"
      ]
     },
     "metadata": {
      "needs_background": "light"
     },
     "output_type": "display_data"
    }
   ],
   "source": [
    "# Credit to: https://towardsdatascience.com/multi-class-text-classification-with-lstm-1590bee1bd17\n",
    "# Model Loss plot\n",
    "plt.title('Loss')\n",
    "plt.plot(history.history['loss'], label='train')\n",
    "plt.plot(history.history['val_loss'], label='test')\n",
    "plt.legend()\n",
    "plt.show();"
   ]
  },
  {
   "cell_type": "code",
   "execution_count": 29,
   "metadata": {
    "execution": {
     "iopub.execute_input": "2020-08-27T13:05:40.030405Z",
     "iopub.status.busy": "2020-08-27T13:05:40.030221Z",
     "iopub.status.idle": "2020-08-27T13:05:40.109951Z",
     "shell.execute_reply": "2020-08-27T13:05:40.109610Z",
     "shell.execute_reply.started": "2020-08-27T13:05:40.030385Z"
    }
   },
   "outputs": [
    {
     "data": {
      "image/png": "[encoded data removed]",
      "text/plain": [
       "<Figure size 432x288 with 1 Axes>"
      ]
     },
     "metadata": {
      "needs_background": "light"
     },
     "output_type": "display_data"
    }
   ],
   "source": [
    "# Model Accuracy plot\n",
    "plt.title('Accuracy')\n",
    "plt.plot(history.history['accuracy'], label='train')\n",
    "plt.plot(history.history['val_accuracy'], label='test')\n",
    "plt.legend()\n",
    "plt.show();"
   ]
  },
  {
   "cell_type": "code",
   "execution_count": 30,
   "metadata": {
    "execution": {
     "iopub.execute_input": "2020-08-27T13:08:26.196246Z",
     "iopub.status.busy": "2020-08-27T13:08:26.196021Z",
     "iopub.status.idle": "2020-08-27T14:36:11.762833Z",
     "shell.execute_reply": "2020-08-27T14:36:11.762385Z",
     "shell.execute_reply.started": "2020-08-27T13:08:26.196219Z"
    }
   },
   "outputs": [
    {
     "name": "stdout",
     "output_type": "stream",
     "text": [
      "Epoch 1/10\n",
      "695/695 [==============================] - 524s 754ms/step - loss: 0.4125 - accuracy: 0.8164 - val_loss: 0.3701 - val_accuracy: 0.8420\n",
      "Epoch 2/10\n",
      "695/695 [==============================] - 525s 755ms/step - loss: 0.3541 - accuracy: 0.8493 - val_loss: 0.3568 - val_accuracy: 0.8477\n",
      "Epoch 3/10\n",
      "695/695 [==============================] - 523s 752ms/step - loss: 0.3341 - accuracy: 0.8571 - val_loss: 0.3536 - val_accuracy: 0.8493\n",
      "Epoch 4/10\n",
      "695/695 [==============================] - 523s 753ms/step - loss: 0.3207 - accuracy: 0.8624 - val_loss: 0.3498 - val_accuracy: 0.8519\n",
      "Epoch 5/10\n",
      "695/695 [==============================] - 522s 751ms/step - loss: 0.3092 - accuracy: 0.8672 - val_loss: 0.3462 - val_accuracy: 0.8531\n",
      "Epoch 6/10\n",
      "695/695 [==============================] - 525s 755ms/step - loss: 0.2995 - accuracy: 0.8704 - val_loss: 0.3463 - val_accuracy: 0.8556\n",
      "Epoch 7/10\n",
      "695/695 [==============================] - 529s 761ms/step - loss: 0.2918 - accuracy: 0.8748 - val_loss: 0.3472 - val_accuracy: 0.8551\n",
      "Epoch 8/10\n",
      "695/695 [==============================] - 527s 759ms/step - loss: 0.2826 - accuracy: 0.8786 - val_loss: 0.3472 - val_accuracy: 0.8568\n",
      "Epoch 9/10\n",
      "695/695 [==============================] - 529s 761ms/step - loss: 0.2765 - accuracy: 0.8811 - val_loss: 0.3504 - val_accuracy: 0.8570\n",
      "Epoch 10/10\n",
      "695/695 [==============================] - 529s 761ms/step - loss: 0.2709 - accuracy: 0.8837 - val_loss: 0.3499 - val_accuracy: 0.8585\n"
     ]
    }
   ],
   "source": [
    "# Increased Batchsize and lowered patience to lower overfitting\n",
    "model = Sequential()\n",
    "model.add(Embedding(MAX_NB_WORDS, EMBEDDING_DIM, input_length=X.shape[1]))\n",
    "model.add(SpatialDropout1D(0.4))\n",
    "model.add(LSTM(100, dropout=0.4, recurrent_dropout=0.4))\n",
    "model.add(Dense(2, activation='softmax'))\n",
    "model.compile(loss='categorical_crossentropy', optimizer='adam', metrics=['accuracy'])\n",
    "\n",
    "epochs = 10\n",
    "batch_size = 256\n",
    "\n",
    "history = model.fit(X_train, Y_train, epochs=epochs, batch_size=batch_size,validation_split=0.1,callbacks=[EarlyStopping(monitor='val_loss', patience=50, min_delta=0.0001)])"
   ]
  },
  {
   "cell_type": "code",
   "execution_count": 31,
   "metadata": {
    "execution": {
     "iopub.execute_input": "2020-08-27T14:36:17.094357Z",
     "iopub.status.busy": "2020-08-27T14:36:17.094129Z",
     "iopub.status.idle": "2020-08-27T14:36:52.125272Z",
     "shell.execute_reply": "2020-08-27T14:36:52.124874Z",
     "shell.execute_reply.started": "2020-08-27T14:36:17.094331Z"
    }
   },
   "outputs": [
    {
     "name": "stdout",
     "output_type": "stream",
     "text": [
      "686/686 [==============================] - 35s 51ms/step - loss: 0.3448 - accuracy: 0.8604\n",
      "Test set\n",
      "  Loss: 0.345\n",
      "  Accuracy: 0.860\n"
     ]
    }
   ],
   "source": [
    "accr = model.evaluate(X_test,Y_test)\n",
    "print('Test set\\n  Loss: {:0.3f}\\n  Accuracy: {:0.3f}'.format(accr[0],accr[1]))"
   ]
  },
  {
   "cell_type": "code",
   "execution_count": 32,
   "metadata": {
    "execution": {
     "iopub.execute_input": "2020-08-27T14:37:35.327068Z",
     "iopub.status.busy": "2020-08-27T14:37:35.326842Z",
     "iopub.status.idle": "2020-08-27T14:37:35.404776Z",
     "shell.execute_reply": "2020-08-27T14:37:35.404351Z",
     "shell.execute_reply.started": "2020-08-27T14:37:35.327041Z"
    }
   },
   "outputs": [
    {
     "data": {
      "image/png": "[encoded data removed]",
      "text/plain": [
       "<Figure size 432x288 with 1 Axes>"
      ]
     },
     "metadata": {
      "needs_background": "light"
     },
     "output_type": "display_data"
    }
   ],
   "source": [
    "plt.title('Loss')\n",
    "plt.plot(history.history['loss'], label='train')\n",
    "plt.plot(history.history['val_loss'], label='test')\n",
    "plt.legend()\n",
    "plt.show();"
   ]
  },
  {
   "cell_type": "code",
   "execution_count": 33,
   "metadata": {
    "execution": {
     "iopub.execute_input": "2020-08-27T14:37:40.941630Z",
     "iopub.status.busy": "2020-08-27T14:37:40.941403Z",
     "iopub.status.idle": "2020-08-27T14:37:41.018936Z",
     "shell.execute_reply": "2020-08-27T14:37:41.018522Z",
     "shell.execute_reply.started": "2020-08-27T14:37:40.941603Z"
    }
   },
   "outputs": [
    {
     "data": {
      "image/png": "[encoded data removed]",
      "text/plain": [
       "<Figure size 432x288 with 1 Axes>"
      ]
     },
     "metadata": {
      "needs_background": "light"
     },
     "output_type": "display_data"
    }
   ],
   "source": [
    "# Model Accuracy plot\n",
    "plt.title('Accuracy')\n",
    "plt.plot(history.history['accuracy'], label='train')\n",
    "plt.plot(history.history['val_accuracy'], label='test')\n",
    "plt.legend()\n",
    "plt.show();"
   ]
  },
  {
   "cell_type": "markdown",
   "metadata": {},
   "source": [
    "<a name=\"tests\"></a>\n",
    "- [Back to Contents](#contents)\n",
    "# Test on new Posts"
   ]
  },
  {
   "cell_type": "code",
   "execution_count": 18,
   "metadata": {
    "execution": {
     "iopub.execute_input": "2020-08-30T02:52:09.119155Z",
     "iopub.status.busy": "2020-08-30T02:52:09.118949Z",
     "iopub.status.idle": "2020-08-30T02:52:09.329554Z",
     "shell.execute_reply": "2020-08-30T02:52:09.329163Z",
     "shell.execute_reply.started": "2020-08-30T02:52:09.119132Z"
    }
   },
   "outputs": [
    {
     "name": "stdout",
     "output_type": "stream",
     "text": [
      "[[0.98223555 0.01776442]] AMD\n"
     ]
    }
   ],
   "source": [
    "# An AMD Post\n",
    "# Source: https://www.reddit.com/r/Amd/comments/ii2mlv/radeon_driver_2083_vs_2014_2082_in_7_games_rx_570/\n",
    "new_post = ['Radeon Driver 20.8.3 vs 20.1.4 - 20.8.2 in 7 games (RX 570) - With Microsoft Flight Simulator 2020']\n",
    "seq = tokenizer.texts_to_sequences(new_post)\n",
    "padded = pad_sequences(seq, maxlen=MAX_SEQUENCE_LENGTH)\n",
    "pred = model.predict(padded)\n",
    "labels = ['AMD', 'Build a PC']\n",
    "print(pred, labels[np.argmax(pred)])"
   ]
  },
  {
   "cell_type": "code",
   "execution_count": 19,
   "metadata": {
    "execution": {
     "iopub.execute_input": "2020-08-30T02:52:11.836761Z",
     "iopub.status.busy": "2020-08-30T02:52:11.836530Z",
     "iopub.status.idle": "2020-08-30T02:52:11.897504Z",
     "shell.execute_reply": "2020-08-30T02:52:11.896939Z",
     "shell.execute_reply.started": "2020-08-30T02:52:11.836729Z"
    }
   },
   "outputs": [
    {
     "name": "stdout",
     "output_type": "stream",
     "text": [
      "[[0.00195413 0.9980458 ]] Build a PC\n"
     ]
    }
   ],
   "source": [
    "# A Build a PC Post\n",
    "# Source: https://www.reddit.com/r/buildapc/comments/ihuxwa/im_a_bit_overwhelmed_with_the_many_different/\n",
    "new_post = ['Im a bit overwhelmed with the many different graphics cards. Please help.']\n",
    "seq = tokenizer.texts_to_sequences(new_post)\n",
    "padded = pad_sequences(seq, maxlen=MAX_SEQUENCE_LENGTH)\n",
    "pred = model.predict(padded)\n",
    "labels = ['AMD', 'Build a PC']\n",
    "print(pred, labels[np.argmax(pred)])"
   ]
  },
  {
   "cell_type": "markdown",
   "metadata": {},
   "source": [
    "<a name=\"scores\"></a>\n",
    "- [Back to Contents](#contents)  \n",
    "  #  LSTM RNN Model Scores"
   ]
  },
  {
   "cell_type": "code",
   "execution_count": null,
   "metadata": {},
   "outputs": [],
   "source": [
    "# # LTSMRNN Model 1:  # Early stopping patience 3\n",
    "# Epoch 1/5\n",
    "# 3454/3454 [==============================] - 3054s 884ms/step - loss: 0.3696 - accuracy: 0.8407 - val_loss: 0.3384 - val_accuracy: 0.8545\n",
    "# Epoch 2/5\n",
    "# 3454/3454 [==============================] - 3064s 887ms/step - loss: 0.3146 - accuracy: 0.8656 - val_loss: 0.3204 - val_accuracy: 0.8631\n",
    "# Epoch 3/5\n",
    "# 3454/3454 [==============================] - 3050s 883ms/step - loss: 0.2860 - accuracy: 0.8785 - val_loss: 0.3054 - val_accuracy: 0.8706\n",
    "# Epoch 4/5\n",
    "# 3454/3454 [==============================] - 3057s 885ms/step - loss: 0.2647 - accuracy: 0.8871 - val_loss: 0.2960 - val_accuracy: 0.8750\n",
    "# Epoch 5/5\n",
    "# 3454/3454 [==============================] - 3052s 884ms/step - loss: 0.2465 - accuracy: 0.8951 - val_loss: 0.2929 - val_accuracy: 0.8795\n",
    "# This model unfortunatly was overwritten before running on our test set.\n",
    "\n",
    "# # LTSMRNN Model 2:  # Early stopping patience 100, Epoch 10/10, dropouts set to .2\n",
    "# Epoch 1/10\n",
    "# 2778/2778 [==============================] - 1213s 437ms/step - loss: 0.3861 - accuracy: 0.8323 - val_loss: 0.3589 - val_accuracy: 0.8456\n",
    "# Epoch 2/10\n",
    "# 2778/2778 [==============================] - 1209s 435ms/step - loss: 0.3318 - accuracy: 0.8576 - val_loss: 0.3483 - val_accuracy: 0.8525\n",
    "# Epoch 3/10\n",
    "# 2778/2778 [==============================] - 1212s 436ms/step - loss: 0.3048 - accuracy: 0.8695 - val_loss: 0.3423 - val_accuracy: 0.8558\n",
    "# Epoch 4/10\n",
    "# 2778/2778 [==============================] - 1215s 437ms/step - loss: 0.2838 - accuracy: 0.8791 - val_loss: 0.3452 - val_accuracy: 0.8578\n",
    "# Epoch 5/10\n",
    "# 2778/2778 [==============================] - 1219s 439ms/step - loss: 0.2676 - accuracy: 0.8861 - val_loss: 0.3426 - val_accuracy: 0.8585\n",
    "# Epoch 6/10\n",
    "# 2778/2778 [==============================] - 1208s 435ms/step - loss: 0.2530 - accuracy: 0.8917 - val_loss: 0.3496 - val_accuracy: 0.8630\n",
    "# Epoch 7/10\n",
    "# 2778/2778 [==============================] - 1207s 434ms/step - loss: 0.2427 - accuracy: 0.8958 - val_loss: 0.3513 - val_accuracy: 0.8607\n",
    "# Epoch 8/10\n",
    "# 2778/2778 [==============================] - 1207s 435ms/step - loss: 0.2326 - accuracy: 0.9008 - val_loss: 0.3533 - val_accuracy: 0.8635\n",
    "# Epoch 9/10\n",
    "# 2778/2778 [==============================] - 1209s 435ms/step - loss: 0.2225 - accuracy: 0.9044 - val_loss: 0.3706 - val_accuracy: 0.8635\n",
    "# Epoch 10/10\n",
    "# 2778/2778 [==============================] - 1207s 434ms/step - loss: 0.2162 - accuracy: 0.9076 - val_loss: 0.3646 - val_accuracy: 0.8641\n",
    "\n",
    "# 686/686 [==============================] - 35s 51ms/step - loss: 0.3618 - accuracy: 0.8651\n",
    "# Test set\n",
    "#   Loss: 0.362\n",
    "#   Accuracy: 0.865\n",
    "\n",
    "# # LTSMRNN Model 3:  # Early stopping patience 100, Epoch 10/10, Dropouts set to .4\n",
    "# Epoch 1/10\n",
    "# 695/695 [==============================] - 524s 754ms/step - loss: 0.4125 - accuracy: 0.8164 - val_loss: 0.3701 - val_accuracy: 0.8420\n",
    "# Epoch 2/10\n",
    "# 695/695 [==============================] - 525s 755ms/step - loss: 0.3541 - accuracy: 0.8493 - val_loss: 0.3568 - val_accuracy: 0.8477\n",
    "# Epoch 3/10\n",
    "# 695/695 [==============================] - 523s 752ms/step - loss: 0.3341 - accuracy: 0.8571 - val_loss: 0.3536 - val_accuracy: 0.8493\n",
    "# Epoch 4/10\n",
    "# 695/695 [==============================] - 523s 753ms/step - loss: 0.3207 - accuracy: 0.8624 - val_loss: 0.3498 - val_accuracy: 0.8519\n",
    "# Epoch 5/10\n",
    "# 695/695 [==============================] - 522s 751ms/step - loss: 0.3092 - accuracy: 0.8672 - val_loss: 0.3462 - val_accuracy: 0.8531\n",
    "# Epoch 6/10\n",
    "# 695/695 [==============================] - 525s 755ms/step - loss: 0.2995 - accuracy: 0.8704 - val_loss: 0.3463 - val_accuracy: 0.8556\n",
    "# Epoch 7/10\n",
    "# 695/695 [==============================] - 529s 761ms/step - loss: 0.2918 - accuracy: 0.8748 - val_loss: 0.3472 - val_accuracy: 0.8551\n",
    "# Epoch 8/10\n",
    "# 695/695 [==============================] - 527s 759ms/step - loss: 0.2826 - accuracy: 0.8786 - val_loss: 0.3472 - val_accuracy: 0.8568\n",
    "# Epoch 9/10\n",
    "# 695/695 [==============================] - 529s 761ms/step - loss: 0.2765 - accuracy: 0.8811 - val_loss: 0.3504 - val_accuracy: 0.8570\n",
    "# Epoch 10/10\n",
    "# 695/695 [==============================] - 529s 761ms/step - loss: 0.2709 - accuracy: 0.8837 - val_loss: 0.3499 - val_accuracy: 0.8585\n",
    "\n",
    "# 686/686 [==============================] - 35s 51ms/step - loss: 0.3448 - accuracy: 0.8604\n",
    "# Test set\n",
    "#   Loss: 0.345\n",
    "#   Accuracy: 0.860\n",
    "\n"
   ]
  },
  {
   "cell_type": "markdown",
   "metadata": {},
   "source": [
    "<a name=\"conclusions\"></a>\n",
    "- [Back to Contents](#contents)\n",
    "  #  Conclusions"
   ]
  },
  {
   "cell_type": "markdown",
   "metadata": {},
   "source": [
    "\n",
    "\n",
    "After successfully testing our model on predicting the Subreddits on unseen Reddit Titles correctly, we can determine that creating marketing and development strategies based on market sentiment is possible. By improving on the model, the possibilities of scraping several posts on various platforms on all computer manufacturers may  greatly benefit Intel on staying ahead of the technological curve, and regain dominance in the PC building market."
   ]
  },
  {
   "cell_type": "markdown",
   "metadata": {},
   "source": [
    "<a name=\"Next_Steps\"></a>\n",
    "- [Back to Contents](#contents)\n",
    "  #  Next Steps"
   ]
  },
  {
   "cell_type": "markdown",
   "metadata": {},
   "source": [
    "With more time, creating a model that can routinely scrape more data on several computer parts manufacturers is ideal.  Being able to see how our model performs with several outcomes may provide insights on improving on our model.\n",
    "\n",
    "At the present state, I would include the contents with the titles to determine the increase in accuracy compared to my best Logistic Regression model.  \n",
    "\n",
    "After rigorous training, we would test the improved version of the model on social networks such as Facebook to see how well it can capture relevant data where a title tag is not present.\n"
   ]
  }
 ],
 "metadata": {
  "kernelspec": {
   "display_name": "Python 3",
   "language": "python",
   "name": "python3"
  },
  "language_info": {
   "codemirror_mode": {
    "name": "ipython",
    "version": 3
   },
   "file_extension": ".py",
   "mimetype": "text/x-python",
   "name": "python",
   "nbconvert_exporter": "python",
   "pygments_lexer": "ipython3",
   "version": "3.8.3"
  }
 },
 "nbformat": 4,
 "nbformat_minor": 4
}
