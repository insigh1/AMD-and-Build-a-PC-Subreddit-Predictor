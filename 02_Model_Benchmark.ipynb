{
 "cells": [
  {
   "cell_type": "markdown",
   "metadata": {},
   "source": [
    "# Baseline and Model Benchmark\n",
    "#### Credit to Aiden Curley for assistance"
   ]
  },
  {
   "cell_type": "markdown",
   "metadata": {},
   "source": [
    "<a name=\"contents\"></a>\n",
    "- [Contents](#contents)  \n",
    "    - [Imports](#imports)  \n",
    "    - [Data Cleaning](#cleaning)  \n",
    "    - [Baseline Score](#baseline)  \n",
    "    - [Benchmark Model with Title and Contents](#benchmark)  \n",
    "    - [Benchmark Model Score](#benchmark_score)  \n"
   ]
  },
  {
   "cell_type": "markdown",
   "metadata": {},
   "source": [
    "<a name=\"imports\"></a>\n",
    "- [Back to Contents](#contents)\n",
    "## Imports"
   ]
  },
  {
   "cell_type": "code",
   "execution_count": 1,
   "metadata": {
    "execution": {
     "iopub.execute_input": "2020-08-26T05:41:24.566609Z",
     "iopub.status.busy": "2020-08-26T05:41:24.566387Z",
     "iopub.status.idle": "2020-08-26T05:41:25.012965Z",
     "shell.execute_reply": "2020-08-26T05:41:25.012557Z",
     "shell.execute_reply.started": "2020-08-26T05:41:24.566579Z"
    }
   },
   "outputs": [],
   "source": [
    "# Import Libraries\n",
    "import pandas as pd\n",
    "import re\n",
    "import nltk\n",
    "from nltk.stem import WordNetLemmatizer\n",
    "from nltk.tokenize import RegexpTokenizer\n",
    "from sklearn.model_selection import train_test_split, GridSearchCV\n",
    "from nltk.corpus import stopwords\n",
    "from sklearn.feature_extraction.text import CountVectorizer\n",
    "from sklearn.linear_model import LogisticRegression\n",
    "from sklearn.metrics import confusion_matrix, plot_confusion_matrix\n",
    "from sklearn.pipeline import Pipeline\n",
    "from sklearn.naive_bayes import MultinomialNB\n"
   ]
  },
  {
   "cell_type": "code",
   "execution_count": 2,
   "metadata": {
    "execution": {
     "iopub.execute_input": "2020-08-26T05:41:26.051713Z",
     "iopub.status.busy": "2020-08-26T05:41:26.051515Z",
     "iopub.status.idle": "2020-08-26T05:41:26.708073Z",
     "shell.execute_reply": "2020-08-26T05:41:26.707519Z",
     "shell.execute_reply.started": "2020-08-26T05:41:26.051690Z"
    }
   },
   "outputs": [],
   "source": [
    "amd = pd.read_csv('./Data/amd_big.csv')\n",
    "buildpc = pd.read_csv('./Data/build_pc_big.csv')"
   ]
  },
  {
   "cell_type": "code",
   "execution_count": 3,
   "metadata": {
    "execution": {
     "iopub.execute_input": "2020-08-26T05:41:26.709111Z",
     "iopub.status.busy": "2020-08-26T05:41:26.708942Z",
     "iopub.status.idle": "2020-08-26T05:41:26.718356Z",
     "shell.execute_reply": "2020-08-26T05:41:26.717942Z",
     "shell.execute_reply.started": "2020-08-26T05:41:26.709089Z"
    }
   },
   "outputs": [
    {
     "data": {
      "text/html": [
       "<div>\n",
       "<style scoped>\n",
       "    .dataframe tbody tr th:only-of-type {\n",
       "        vertical-align: middle;\n",
       "    }\n",
       "\n",
       "    .dataframe tbody tr th {\n",
       "        vertical-align: top;\n",
       "    }\n",
       "\n",
       "    .dataframe thead th {\n",
       "        text-align: right;\n",
       "    }\n",
       "</style>\n",
       "<table border=\"1\" class=\"dataframe\">\n",
       "  <thead>\n",
       "    <tr style=\"text-align: right;\">\n",
       "      <th></th>\n",
       "      <th>Unnamed: 0</th>\n",
       "      <th>subreddit</th>\n",
       "      <th>title</th>\n",
       "      <th>selftext</th>\n",
       "    </tr>\n",
       "  </thead>\n",
       "  <tbody>\n",
       "    <tr>\n",
       "      <th>0</th>\n",
       "      <td>0</td>\n",
       "      <td>Amd</td>\n",
       "      <td>Low VRAM Issues?</td>\n",
       "      <td>[removed]</td>\n",
       "    </tr>\n",
       "  </tbody>\n",
       "</table>\n",
       "</div>"
      ],
      "text/plain": [
       "   Unnamed: 0 subreddit             title   selftext\n",
       "0           0       Amd  Low VRAM Issues?  [removed]"
      ]
     },
     "execution_count": 3,
     "metadata": {},
     "output_type": "execute_result"
    }
   ],
   "source": [
    "amd.head(1)"
   ]
  },
  {
   "cell_type": "markdown",
   "metadata": {},
   "source": [
    "<a name=\"cleaning\"></a>\n",
    "- [Back to Contents](#contents)\n",
    "## Clean Data"
   ]
  },
  {
   "cell_type": "code",
   "execution_count": 4,
   "metadata": {
    "execution": {
     "iopub.execute_input": "2020-08-26T05:41:26.954518Z",
     "iopub.status.busy": "2020-08-26T05:41:26.954370Z",
     "iopub.status.idle": "2020-08-26T05:41:26.965624Z",
     "shell.execute_reply": "2020-08-26T05:41:26.965119Z",
     "shell.execute_reply.started": "2020-08-26T05:41:26.954500Z"
    }
   },
   "outputs": [],
   "source": [
    "# Drop unneccesary columns\n",
    "amd.drop(columns='Unnamed: 0', inplace=True)\n",
    "buildpc.drop(columns='Unnamed: 0', inplace=True)"
   ]
  },
  {
   "cell_type": "code",
   "execution_count": 5,
   "metadata": {
    "execution": {
     "iopub.execute_input": "2020-08-26T05:41:27.303473Z",
     "iopub.status.busy": "2020-08-26T05:41:27.303307Z",
     "iopub.status.idle": "2020-08-26T05:41:27.310486Z",
     "shell.execute_reply": "2020-08-26T05:41:27.310124Z",
     "shell.execute_reply.started": "2020-08-26T05:41:27.303449Z"
    }
   },
   "outputs": [
    {
     "data": {
      "text/html": [
       "<div>\n",
       "<style scoped>\n",
       "    .dataframe tbody tr th:only-of-type {\n",
       "        vertical-align: middle;\n",
       "    }\n",
       "\n",
       "    .dataframe tbody tr th {\n",
       "        vertical-align: top;\n",
       "    }\n",
       "\n",
       "    .dataframe thead th {\n",
       "        text-align: right;\n",
       "    }\n",
       "</style>\n",
       "<table border=\"1\" class=\"dataframe\">\n",
       "  <thead>\n",
       "    <tr style=\"text-align: right;\">\n",
       "      <th></th>\n",
       "      <th>subreddit</th>\n",
       "      <th>title</th>\n",
       "      <th>selftext</th>\n",
       "    </tr>\n",
       "  </thead>\n",
       "  <tbody>\n",
       "    <tr>\n",
       "      <th>0</th>\n",
       "      <td>buildapc</td>\n",
       "      <td>Windows 10</td>\n",
       "      <td>Hey guys just finished my build not able to ge...</td>\n",
       "    </tr>\n",
       "    <tr>\n",
       "      <th>1</th>\n",
       "      <td>buildapc</td>\n",
       "      <td>Is there a somewhat reasonably priced GPU that...</td>\n",
       "      <td>I have been rocking a Vega blower for a couple...</td>\n",
       "    </tr>\n",
       "    <tr>\n",
       "      <th>2</th>\n",
       "      <td>buildapc</td>\n",
       "      <td>How's This Budget Build?</td>\n",
       "      <td>Mobo:  ASUS PRIMW B450M-A $109\\n\\nCPU: Ryzen 3...</td>\n",
       "    </tr>\n",
       "    <tr>\n",
       "      <th>3</th>\n",
       "      <td>buildapc</td>\n",
       "      <td>New case and liquid cooling</td>\n",
       "      <td>So I’m thinking about buying a new case and ad...</td>\n",
       "    </tr>\n",
       "    <tr>\n",
       "      <th>4</th>\n",
       "      <td>buildapc</td>\n",
       "      <td>Quick questions on possible GPUs</td>\n",
       "      <td>I've currently got my Motherboard mATX, 3X 120...</td>\n",
       "    </tr>\n",
       "    <tr>\n",
       "      <th>...</th>\n",
       "      <td>...</td>\n",
       "      <td>...</td>\n",
       "      <td>...</td>\n",
       "    </tr>\n",
       "    <tr>\n",
       "      <th>110320</th>\n",
       "      <td>buildapc</td>\n",
       "      <td>Looking for feedback on my first build.</td>\n",
       "      <td>This build is primarily a PC Part Picker build...</td>\n",
       "    </tr>\n",
       "    <tr>\n",
       "      <th>110321</th>\n",
       "      <td>buildapc</td>\n",
       "      <td>Sleeper Update (Final?)</td>\n",
       "      <td>So those of you who've seen my last post, I ha...</td>\n",
       "    </tr>\n",
       "    <tr>\n",
       "      <th>110322</th>\n",
       "      <td>buildapc</td>\n",
       "      <td>27 Inch IPS 1440P 100HZ + Monitor for under 30...</td>\n",
       "      <td>Heya!, im still on the hunt for a monitor :')\\...</td>\n",
       "    </tr>\n",
       "    <tr>\n",
       "      <th>110323</th>\n",
       "      <td>buildapc</td>\n",
       "      <td>CPU issue</td>\n",
       "      <td>Having an issue where randomly my CPU fan will...</td>\n",
       "    </tr>\n",
       "    <tr>\n",
       "      <th>110324</th>\n",
       "      <td>buildapc</td>\n",
       "      <td>Need Help w/ PCIE_MINICARD</td>\n",
       "      <td>I currently have a prebuilt Dell XPS from arou...</td>\n",
       "    </tr>\n",
       "  </tbody>\n",
       "</table>\n",
       "<p>110325 rows × 3 columns</p>\n",
       "</div>"
      ],
      "text/plain": [
       "       subreddit                                              title  \\\n",
       "0       buildapc                                         Windows 10   \n",
       "1       buildapc  Is there a somewhat reasonably priced GPU that...   \n",
       "2       buildapc                           How's This Budget Build?   \n",
       "3       buildapc                        New case and liquid cooling   \n",
       "4       buildapc                   Quick questions on possible GPUs   \n",
       "...          ...                                                ...   \n",
       "110320  buildapc            Looking for feedback on my first build.   \n",
       "110321  buildapc                            Sleeper Update (Final?)   \n",
       "110322  buildapc  27 Inch IPS 1440P 100HZ + Monitor for under 30...   \n",
       "110323  buildapc                                          CPU issue   \n",
       "110324  buildapc                         Need Help w/ PCIE_MINICARD   \n",
       "\n",
       "                                                 selftext  \n",
       "0       Hey guys just finished my build not able to ge...  \n",
       "1       I have been rocking a Vega blower for a couple...  \n",
       "2       Mobo:  ASUS PRIMW B450M-A $109\\n\\nCPU: Ryzen 3...  \n",
       "3       So I’m thinking about buying a new case and ad...  \n",
       "4       I've currently got my Motherboard mATX, 3X 120...  \n",
       "...                                                   ...  \n",
       "110320  This build is primarily a PC Part Picker build...  \n",
       "110321  So those of you who've seen my last post, I ha...  \n",
       "110322  Heya!, im still on the hunt for a monitor :')\\...  \n",
       "110323  Having an issue where randomly my CPU fan will...  \n",
       "110324  I currently have a prebuilt Dell XPS from arou...  \n",
       "\n",
       "[110325 rows x 3 columns]"
      ]
     },
     "execution_count": 5,
     "metadata": {},
     "output_type": "execute_result"
    }
   ],
   "source": [
    "buildpc"
   ]
  },
  {
   "cell_type": "code",
   "execution_count": 6,
   "metadata": {
    "execution": {
     "iopub.execute_input": "2020-08-26T05:41:27.502763Z",
     "iopub.status.busy": "2020-08-26T05:41:27.502586Z",
     "iopub.status.idle": "2020-08-26T05:41:27.506034Z",
     "shell.execute_reply": "2020-08-26T05:41:27.505666Z",
     "shell.execute_reply.started": "2020-08-26T05:41:27.502742Z"
    }
   },
   "outputs": [
    {
     "data": {
      "text/plain": [
       "109740"
      ]
     },
     "execution_count": 6,
     "metadata": {},
     "output_type": "execute_result"
    }
   ],
   "source": [
    "amd.shape[0]"
   ]
  },
  {
   "cell_type": "code",
   "execution_count": 7,
   "metadata": {
    "execution": {
     "iopub.execute_input": "2020-08-26T05:41:27.863923Z",
     "iopub.status.busy": "2020-08-26T05:41:27.863779Z",
     "iopub.status.idle": "2020-08-26T05:41:27.867199Z",
     "shell.execute_reply": "2020-08-26T05:41:27.866860Z",
     "shell.execute_reply.started": "2020-08-26T05:41:27.863906Z"
    }
   },
   "outputs": [
    {
     "data": {
      "text/plain": [
       "-585"
      ]
     },
     "execution_count": 7,
     "metadata": {},
     "output_type": "execute_result"
    }
   ],
   "source": [
    "amd.shape[0] - buildpc.shape[0]"
   ]
  },
  {
   "cell_type": "code",
   "execution_count": 8,
   "metadata": {
    "execution": {
     "iopub.execute_input": "2020-08-26T05:41:28.296880Z",
     "iopub.status.busy": "2020-08-26T05:41:28.296768Z",
     "iopub.status.idle": "2020-08-26T05:41:28.299526Z",
     "shell.execute_reply": "2020-08-26T05:41:28.299196Z",
     "shell.execute_reply.started": "2020-08-26T05:41:28.296867Z"
    }
   },
   "outputs": [
    {
     "data": {
      "text/plain": [
       "(109740, 3)"
      ]
     },
     "execution_count": 8,
     "metadata": {},
     "output_type": "execute_result"
    }
   ],
   "source": [
    "buildpc = buildpc[:-585]\n",
    "buildpc.shape"
   ]
  },
  {
   "cell_type": "code",
   "execution_count": 9,
   "metadata": {
    "execution": {
     "iopub.execute_input": "2020-08-26T05:41:28.641861Z",
     "iopub.status.busy": "2020-08-26T05:41:28.641746Z",
     "iopub.status.idle": "2020-08-26T05:41:28.646579Z",
     "shell.execute_reply": "2020-08-26T05:41:28.646203Z",
     "shell.execute_reply.started": "2020-08-26T05:41:28.641848Z"
    }
   },
   "outputs": [
    {
     "data": {
      "text/html": [
       "<div>\n",
       "<style scoped>\n",
       "    .dataframe tbody tr th:only-of-type {\n",
       "        vertical-align: middle;\n",
       "    }\n",
       "\n",
       "    .dataframe tbody tr th {\n",
       "        vertical-align: top;\n",
       "    }\n",
       "\n",
       "    .dataframe thead th {\n",
       "        text-align: right;\n",
       "    }\n",
       "</style>\n",
       "<table border=\"1\" class=\"dataframe\">\n",
       "  <thead>\n",
       "    <tr style=\"text-align: right;\">\n",
       "      <th></th>\n",
       "      <th>subreddit</th>\n",
       "      <th>title</th>\n",
       "      <th>selftext</th>\n",
       "    </tr>\n",
       "  </thead>\n",
       "  <tbody>\n",
       "    <tr>\n",
       "      <th>0</th>\n",
       "      <td>Amd</td>\n",
       "      <td>Low VRAM Issues?</td>\n",
       "      <td>[removed]</td>\n",
       "    </tr>\n",
       "    <tr>\n",
       "      <th>1</th>\n",
       "      <td>Amd</td>\n",
       "      <td>[Level1Techs] 32 Core Threadripper Workstation...</td>\n",
       "      <td>NaN</td>\n",
       "    </tr>\n",
       "    <tr>\n",
       "      <th>2</th>\n",
       "      <td>Amd</td>\n",
       "      <td>Decent cheap AMD prebuilt systems? Canada</td>\n",
       "      <td>Trying to see if there's anything worth recomm...</td>\n",
       "    </tr>\n",
       "    <tr>\n",
       "      <th>3</th>\n",
       "      <td>Amd</td>\n",
       "      <td>The new drivers don't wanna download</td>\n",
       "      <td>I have been trying to update my drivers from t...</td>\n",
       "    </tr>\n",
       "    <tr>\n",
       "      <th>4</th>\n",
       "      <td>Amd</td>\n",
       "      <td>aorus redemption I on b550m</td>\n",
       "      <td>last time, i said only gigabyte has not used d...</td>\n",
       "    </tr>\n",
       "  </tbody>\n",
       "</table>\n",
       "</div>"
      ],
      "text/plain": [
       "  subreddit                                              title  \\\n",
       "0       Amd                                   Low VRAM Issues?   \n",
       "1       Amd  [Level1Techs] 32 Core Threadripper Workstation...   \n",
       "2       Amd          Decent cheap AMD prebuilt systems? Canada   \n",
       "3       Amd               The new drivers don't wanna download   \n",
       "4       Amd                        aorus redemption I on b550m   \n",
       "\n",
       "                                            selftext  \n",
       "0                                          [removed]  \n",
       "1                                                NaN  \n",
       "2  Trying to see if there's anything worth recomm...  \n",
       "3  I have been trying to update my drivers from t...  \n",
       "4  last time, i said only gigabyte has not used d...  "
      ]
     },
     "execution_count": 9,
     "metadata": {},
     "output_type": "execute_result"
    }
   ],
   "source": [
    "amd.head()"
   ]
  },
  {
   "cell_type": "code",
   "execution_count": 10,
   "metadata": {
    "execution": {
     "iopub.execute_input": "2020-08-26T05:41:28.947458Z",
     "iopub.status.busy": "2020-08-26T05:41:28.947280Z",
     "iopub.status.idle": "2020-08-26T05:41:28.965980Z",
     "shell.execute_reply": "2020-08-26T05:41:28.965526Z",
     "shell.execute_reply.started": "2020-08-26T05:41:28.947436Z"
    }
   },
   "outputs": [
    {
     "name": "stdout",
     "output_type": "stream",
     "text": [
      "<class 'pandas.core.frame.DataFrame'>\n",
      "RangeIndex: 109740 entries, 0 to 109739\n",
      "Data columns (total 3 columns):\n",
      " #   Column     Non-Null Count   Dtype \n",
      "---  ------     --------------   ----- \n",
      " 0   subreddit  109740 non-null  object\n",
      " 1   title      109740 non-null  object\n",
      " 2   selftext   78415 non-null   object\n",
      "dtypes: object(3)\n",
      "memory usage: 2.5+ MB\n"
     ]
    }
   ],
   "source": [
    "# Check nan values\n",
    "amd.info()"
   ]
  },
  {
   "cell_type": "code",
   "execution_count": 11,
   "metadata": {
    "execution": {
     "iopub.execute_input": "2020-08-26T05:41:29.487984Z",
     "iopub.status.busy": "2020-08-26T05:41:29.487809Z",
     "iopub.status.idle": "2020-08-26T05:41:29.509665Z",
     "shell.execute_reply": "2020-08-26T05:41:29.509228Z",
     "shell.execute_reply.started": "2020-08-26T05:41:29.487962Z"
    }
   },
   "outputs": [
    {
     "name": "stdout",
     "output_type": "stream",
     "text": [
      "<class 'pandas.core.frame.DataFrame'>\n",
      "RangeIndex: 109740 entries, 0 to 109739\n",
      "Data columns (total 3 columns):\n",
      " #   Column     Non-Null Count   Dtype \n",
      "---  ------     --------------   ----- \n",
      " 0   subreddit  109740 non-null  object\n",
      " 1   title      109740 non-null  object\n",
      " 2   selftext   106497 non-null  object\n",
      "dtypes: object(3)\n",
      "memory usage: 2.5+ MB\n"
     ]
    }
   ],
   "source": [
    "buildpc.info()"
   ]
  },
  {
   "cell_type": "code",
   "execution_count": 12,
   "metadata": {
    "execution": {
     "iopub.execute_input": "2020-08-26T05:41:29.781204Z",
     "iopub.status.busy": "2020-08-26T05:41:29.781049Z",
     "iopub.status.idle": "2020-08-26T05:41:29.801789Z",
     "shell.execute_reply": "2020-08-26T05:41:29.801198Z",
     "shell.execute_reply.started": "2020-08-26T05:41:29.781186Z"
    }
   },
   "outputs": [],
   "source": [
    "# Replace nan values\n",
    "amd.fillna(\"\", inplace=True)"
   ]
  },
  {
   "cell_type": "code",
   "execution_count": 13,
   "metadata": {
    "execution": {
     "iopub.execute_input": "2020-08-26T05:41:30.439656Z",
     "iopub.status.busy": "2020-08-26T05:41:30.439523Z",
     "iopub.status.idle": "2020-08-26T05:41:30.472359Z",
     "shell.execute_reply": "2020-08-26T05:41:30.471814Z",
     "shell.execute_reply.started": "2020-08-26T05:41:30.439639Z"
    }
   },
   "outputs": [
    {
     "name": "stderr",
     "output_type": "stream",
     "text": [
      "/home/dlee/anaconda3/lib/python3.8/site-packages/pandas/core/frame.py:4147: SettingWithCopyWarning: \n",
      "A value is trying to be set on a copy of a slice from a DataFrame\n",
      "\n",
      "See the caveats in the documentation: https://pandas.pydata.org/pandas-docs/stable/user_guide/indexing.html#returning-a-view-versus-a-copy\n",
      "  return super().fillna(\n"
     ]
    }
   ],
   "source": [
    "buildpc.fillna(\"\", inplace=True)"
   ]
  },
  {
   "cell_type": "code",
   "execution_count": 14,
   "metadata": {
    "execution": {
     "iopub.execute_input": "2020-08-26T05:41:30.828168Z",
     "iopub.status.busy": "2020-08-26T05:41:30.827989Z",
     "iopub.status.idle": "2020-08-26T05:41:30.848645Z",
     "shell.execute_reply": "2020-08-26T05:41:30.848131Z",
     "shell.execute_reply.started": "2020-08-26T05:41:30.828146Z"
    }
   },
   "outputs": [],
   "source": [
    "df = amd.append(buildpc, ignore_index=True)"
   ]
  },
  {
   "cell_type": "code",
   "execution_count": 29,
   "metadata": {
    "execution": {
     "iopub.execute_input": "2020-08-26T05:50:48.723128Z",
     "iopub.status.busy": "2020-08-26T05:50:48.722916Z",
     "iopub.status.idle": "2020-08-26T05:50:48.818350Z",
     "shell.execute_reply": "2020-08-26T05:50:48.818010Z",
     "shell.execute_reply.started": "2020-08-26T05:50:48.723105Z"
    }
   },
   "outputs": [],
   "source": [
    "df['title_text_combined'] = df['title'] + ' ' + df['selftext']"
   ]
  },
  {
   "cell_type": "code",
   "execution_count": 30,
   "metadata": {
    "execution": {
     "iopub.execute_input": "2020-08-26T05:51:01.853421Z",
     "iopub.status.busy": "2020-08-26T05:51:01.853198Z",
     "iopub.status.idle": "2020-08-26T05:51:01.862692Z",
     "shell.execute_reply": "2020-08-26T05:51:01.862210Z",
     "shell.execute_reply.started": "2020-08-26T05:51:01.853396Z"
    }
   },
   "outputs": [
    {
     "data": {
      "text/html": [
       "<div>\n",
       "<style scoped>\n",
       "    .dataframe tbody tr th:only-of-type {\n",
       "        vertical-align: middle;\n",
       "    }\n",
       "\n",
       "    .dataframe tbody tr th {\n",
       "        vertical-align: top;\n",
       "    }\n",
       "\n",
       "    .dataframe thead th {\n",
       "        text-align: right;\n",
       "    }\n",
       "</style>\n",
       "<table border=\"1\" class=\"dataframe\">\n",
       "  <thead>\n",
       "    <tr style=\"text-align: right;\">\n",
       "      <th></th>\n",
       "      <th>subreddit</th>\n",
       "      <th>title</th>\n",
       "      <th>selftext</th>\n",
       "      <th>title_text_combined</th>\n",
       "    </tr>\n",
       "  </thead>\n",
       "  <tbody>\n",
       "    <tr>\n",
       "      <th>0</th>\n",
       "      <td>Amd</td>\n",
       "      <td>Low VRAM Issues?</td>\n",
       "      <td>[removed]</td>\n",
       "      <td>Low VRAM Issues? [removed]</td>\n",
       "    </tr>\n",
       "    <tr>\n",
       "      <th>1</th>\n",
       "      <td>Amd</td>\n",
       "      <td>[Level1Techs] 32 Core Threadripper Workstation...</td>\n",
       "      <td></td>\n",
       "      <td>[Level1Techs] 32 Core Threadripper Workstation...</td>\n",
       "    </tr>\n",
       "  </tbody>\n",
       "</table>\n",
       "</div>"
      ],
      "text/plain": [
       "  subreddit                                              title   selftext  \\\n",
       "0       Amd                                   Low VRAM Issues?  [removed]   \n",
       "1       Amd  [Level1Techs] 32 Core Threadripper Workstation...              \n",
       "\n",
       "                                 title_text_combined  \n",
       "0                         Low VRAM Issues? [removed]  \n",
       "1  [Level1Techs] 32 Core Threadripper Workstation...  "
      ]
     },
     "execution_count": 30,
     "metadata": {},
     "output_type": "execute_result"
    }
   ],
   "source": [
    "df.head(2)"
   ]
  },
  {
   "cell_type": "code",
   "execution_count": 31,
   "metadata": {
    "execution": {
     "iopub.execute_input": "2020-08-26T05:51:58.886159Z",
     "iopub.status.busy": "2020-08-26T05:51:58.885935Z",
     "iopub.status.idle": "2020-08-26T05:51:58.919010Z",
     "shell.execute_reply": "2020-08-26T05:51:58.918455Z",
     "shell.execute_reply.started": "2020-08-26T05:51:58.886134Z"
    }
   },
   "outputs": [],
   "source": [
    "# First test on title and Content\n",
    "X = df[['title_text_combined']]\n",
    "y = df['subreddit']"
   ]
  },
  {
   "cell_type": "code",
   "execution_count": 32,
   "metadata": {
    "execution": {
     "iopub.execute_input": "2020-08-26T05:51:59.620642Z",
     "iopub.status.busy": "2020-08-26T05:51:59.620472Z",
     "iopub.status.idle": "2020-08-26T05:51:59.624043Z",
     "shell.execute_reply": "2020-08-26T05:51:59.623685Z",
     "shell.execute_reply.started": "2020-08-26T05:51:59.620620Z"
    }
   },
   "outputs": [
    {
     "data": {
      "text/plain": [
       "(219480, 1)"
      ]
     },
     "execution_count": 32,
     "metadata": {},
     "output_type": "execute_result"
    }
   ],
   "source": [
    "X.shape"
   ]
  },
  {
   "cell_type": "code",
   "execution_count": 33,
   "metadata": {
    "execution": {
     "iopub.execute_input": "2020-08-26T05:52:01.720022Z",
     "iopub.status.busy": "2020-08-26T05:52:01.719809Z",
     "iopub.status.idle": "2020-08-26T05:52:01.723658Z",
     "shell.execute_reply": "2020-08-26T05:52:01.723157Z",
     "shell.execute_reply.started": "2020-08-26T05:52:01.719999Z"
    }
   },
   "outputs": [
    {
     "data": {
      "text/plain": [
       "(219480,)"
      ]
     },
     "execution_count": 33,
     "metadata": {},
     "output_type": "execute_result"
    }
   ],
   "source": [
    "y.shape"
   ]
  },
  {
   "cell_type": "markdown",
   "metadata": {},
   "source": [
    "<a name=\"baseline\"></a>\n",
    "- [Back to Contents](#contents)\n",
    "## Baseline score"
   ]
  },
  {
   "cell_type": "code",
   "execution_count": 44,
   "metadata": {
    "execution": {
     "iopub.execute_input": "2020-08-26T13:55:35.843980Z",
     "iopub.status.busy": "2020-08-26T13:55:35.843760Z",
     "iopub.status.idle": "2020-08-26T13:55:35.866089Z",
     "shell.execute_reply": "2020-08-26T13:55:35.865773Z",
     "shell.execute_reply.started": "2020-08-26T13:55:35.843957Z"
    }
   },
   "outputs": [
    {
     "data": {
      "text/plain": [
       "buildapc    0.5\n",
       "Amd         0.5\n",
       "Name: subreddit, dtype: float64"
      ]
     },
     "execution_count": 44,
     "metadata": {},
     "output_type": "execute_result"
    }
   ],
   "source": [
    "y.value_counts(normalize=True) # Our baseline is 50.00%"
   ]
  },
  {
   "cell_type": "markdown",
   "metadata": {},
   "source": [
    "<a name=\"benchmark\"></a>\n",
    "- [Back to Contents](#contents)\n",
    "# Benchmark Model with Title and Contents"
   ]
  },
  {
   "cell_type": "code",
   "execution_count": 34,
   "metadata": {
    "execution": {
     "iopub.execute_input": "2020-08-26T05:52:02.268298Z",
     "iopub.status.busy": "2020-08-26T05:52:02.268065Z",
     "iopub.status.idle": "2020-08-26T05:52:02.409488Z",
     "shell.execute_reply": "2020-08-26T05:52:02.408951Z",
     "shell.execute_reply.started": "2020-08-26T05:52:02.268273Z"
    }
   },
   "outputs": [],
   "source": [
    "# Train_test_split\n",
    "X_train, X_test, y_train, y_test = train_test_split(X, y, stratify = y, random_state=42)"
   ]
  },
  {
   "cell_type": "code",
   "execution_count": 35,
   "metadata": {
    "execution": {
     "iopub.execute_input": "2020-08-26T05:52:29.674665Z",
     "iopub.status.busy": "2020-08-26T05:52:29.674449Z",
     "iopub.status.idle": "2020-08-26T05:52:29.678838Z",
     "shell.execute_reply": "2020-08-26T05:52:29.678355Z",
     "shell.execute_reply.started": "2020-08-26T05:52:29.674643Z"
    }
   },
   "outputs": [],
   "source": [
    "vectorizer = CountVectorizer(max_features=25000)"
   ]
  },
  {
   "cell_type": "code",
   "execution_count": 36,
   "metadata": {
    "execution": {
     "iopub.execute_input": "2020-08-26T05:52:38.072441Z",
     "iopub.status.busy": "2020-08-26T05:52:38.072259Z",
     "iopub.status.idle": "2020-08-26T05:52:48.671482Z",
     "shell.execute_reply": "2020-08-26T05:52:48.670965Z",
     "shell.execute_reply.started": "2020-08-26T05:52:38.072422Z"
    }
   },
   "outputs": [],
   "source": [
    "train_features = vectorizer.fit_transform(X_train['title_text_combined'])\n",
    "test_features = vectorizer.transform(X_test['title_text_combined'])"
   ]
  },
  {
   "cell_type": "code",
   "execution_count": 37,
   "metadata": {
    "execution": {
     "iopub.execute_input": "2020-08-26T05:53:04.445285Z",
     "iopub.status.busy": "2020-08-26T05:53:04.445066Z",
     "iopub.status.idle": "2020-08-26T05:53:07.050278Z",
     "shell.execute_reply": "2020-08-26T05:53:07.049859Z",
     "shell.execute_reply.started": "2020-08-26T05:53:04.445261Z"
    }
   },
   "outputs": [],
   "source": [
    "train_features = train_features.toarray()"
   ]
  },
  {
   "cell_type": "code",
   "execution_count": 38,
   "metadata": {
    "execution": {
     "iopub.execute_input": "2020-08-26T05:53:08.664913Z",
     "iopub.status.busy": "2020-08-26T05:53:08.664723Z",
     "iopub.status.idle": "2020-08-26T05:53:08.668251Z",
     "shell.execute_reply": "2020-08-26T05:53:08.667871Z",
     "shell.execute_reply.started": "2020-08-26T05:53:08.664891Z"
    }
   },
   "outputs": [
    {
     "data": {
      "text/plain": [
       "(164610, 25000)"
      ]
     },
     "execution_count": 38,
     "metadata": {},
     "output_type": "execute_result"
    }
   ],
   "source": [
    "train_features.shape"
   ]
  },
  {
   "cell_type": "code",
   "execution_count": 39,
   "metadata": {
    "execution": {
     "iopub.execute_input": "2020-08-26T05:53:15.010264Z",
     "iopub.status.busy": "2020-08-26T05:53:15.010065Z",
     "iopub.status.idle": "2020-08-26T05:53:15.013666Z",
     "shell.execute_reply": "2020-08-26T05:53:15.013314Z",
     "shell.execute_reply.started": "2020-08-26T05:53:15.010241Z"
    }
   },
   "outputs": [
    {
     "data": {
      "text/plain": [
       "(54870, 25000)"
      ]
     },
     "execution_count": 39,
     "metadata": {},
     "output_type": "execute_result"
    }
   ],
   "source": [
    "test_features.shape"
   ]
  },
  {
   "cell_type": "code",
   "execution_count": 40,
   "metadata": {
    "execution": {
     "iopub.execute_input": "2020-08-26T05:53:17.557578Z",
     "iopub.status.busy": "2020-08-26T05:53:17.557398Z",
     "iopub.status.idle": "2020-08-26T05:53:17.560307Z",
     "shell.execute_reply": "2020-08-26T05:53:17.559739Z",
     "shell.execute_reply.started": "2020-08-26T05:53:17.557556Z"
    }
   },
   "outputs": [],
   "source": [
    "nb = MultinomialNB()"
   ]
  },
  {
   "cell_type": "code",
   "execution_count": 41,
   "metadata": {
    "execution": {
     "iopub.execute_input": "2020-08-26T05:53:19.842650Z",
     "iopub.status.busy": "2020-08-26T05:53:19.842447Z",
     "iopub.status.idle": "2020-08-26T05:59:04.459380Z",
     "shell.execute_reply": "2020-08-26T05:59:04.458898Z",
     "shell.execute_reply.started": "2020-08-26T05:53:19.842627Z"
    }
   },
   "outputs": [
    {
     "data": {
      "text/plain": [
       "MultinomialNB()"
      ]
     },
     "execution_count": 41,
     "metadata": {},
     "output_type": "execute_result"
    }
   ],
   "source": [
    "nb.fit(train_features, y_train)"
   ]
  },
  {
   "cell_type": "markdown",
   "metadata": {},
   "source": [
    "<a name=\"benchmark_score\"></a>\n",
    "- [Back to Contents](#contents)\n",
    "# Benchmark Model Score"
   ]
  },
  {
   "cell_type": "code",
   "execution_count": 42,
   "metadata": {
    "execution": {
     "iopub.execute_input": "2020-08-26T05:59:09.628851Z",
     "iopub.status.busy": "2020-08-26T05:59:09.628649Z",
     "iopub.status.idle": "2020-08-26T05:59:14.126603Z",
     "shell.execute_reply": "2020-08-26T05:59:14.126235Z",
     "shell.execute_reply.started": "2020-08-26T05:59:09.628828Z"
    }
   },
   "outputs": [
    {
     "data": {
      "text/plain": [
       "0.7855233582406901"
      ]
     },
     "execution_count": 42,
     "metadata": {},
     "output_type": "execute_result"
    }
   ],
   "source": [
    "nb.score(train_features, y_train)"
   ]
  },
  {
   "cell_type": "code",
   "execution_count": 43,
   "metadata": {
    "execution": {
     "iopub.execute_input": "2020-08-26T05:59:21.651738Z",
     "iopub.status.busy": "2020-08-26T05:59:21.651547Z",
     "iopub.status.idle": "2020-08-26T05:59:21.733970Z",
     "shell.execute_reply": "2020-08-26T05:59:21.733497Z",
     "shell.execute_reply.started": "2020-08-26T05:59:21.651719Z"
    }
   },
   "outputs": [
    {
     "data": {
      "text/plain": [
       "0.7825405503918352"
      ]
     },
     "execution_count": 43,
     "metadata": {},
     "output_type": "execute_result"
    }
   ],
   "source": [
    "nb.score(test_features, y_test)"
   ]
  },
  {
   "cell_type": "code",
   "execution_count": null,
   "metadata": {},
   "outputs": [],
   "source": [
    "# My benchmark model score is 78.55% Training \n",
    "# My benchmark model score is 78.25% Testing\n"
   ]
  }
 ],
 "metadata": {
  "kernelspec": {
   "display_name": "Python 3",
   "language": "python",
   "name": "python3"
  },
  "language_info": {
   "codemirror_mode": {
    "name": "ipython",
    "version": 3
   },
   "file_extension": ".py",
   "mimetype": "text/x-python",
   "name": "python",
   "nbconvert_exporter": "python",
   "pygments_lexer": "ipython3",
   "version": "3.7.7"
  }
 },
 "nbformat": 4,
 "nbformat_minor": 4
}
